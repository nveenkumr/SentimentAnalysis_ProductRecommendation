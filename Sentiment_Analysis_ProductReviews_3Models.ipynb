{
 "cells": [
  {
   "cell_type": "markdown",
   "metadata": {
    "id": "uY2R7af5uJdU"
   },
   "source": [
    "# Problem Statement\n",
    "The e-commerce business is quite popular today. Here, you do not need to take orders by going to each customer. A company launches its website to sell the items to the end consumer, and customers can order the products that they require from the same website. Famous examples of such e-commerce companies are Amazon, Flipkart, Myntra, Paytm and Snapdeal\n",
    "As a senior ML Engineer, you are asked to build a model that will improve the recommendations given to the users given their past reviews and ratings. \n",
    "In order to do this, you planned to build a sentiment-based product recommendation system\n",
    "\n",
    "* First we'll go through the pre-processing¶\n",
    "* Next we'll do some visualization to get meaningful insights of the data\n",
    "* We'll try out different methods for text classification ( like Random Forest, SVM, XGBoost, Deep Learning)\n",
    "Lets get started"
   ]
  },
  {
   "cell_type": "markdown",
   "metadata": {},
   "source": [
    "#### Loading the required libraries and reading the data"
   ]
  },
  {
   "cell_type": "code",
   "execution_count": 165,
   "metadata": {
    "colab": {
     "base_uri": "https://localhost:8080/",
     "height": 17
    },
    "id": "fh_VnCwquJdY",
    "outputId": "dd8bffee-38b8-4314-9288-bfeb2ef85d88"
   },
   "outputs": [
    {
     "data": {
      "text/html": [
       "        <script type=\"text/javascript\">\n",
       "        window.PlotlyConfig = {MathJaxConfig: 'local'};\n",
       "        if (window.MathJax) {MathJax.Hub.Config({SVG: {font: \"STIX-Web\"}});}\n",
       "        if (typeof require !== 'undefined') {\n",
       "        require.undef(\"plotly\");\n",
       "        requirejs.config({\n",
       "            paths: {\n",
       "                'plotly': ['https://cdn.plot.ly/plotly-2.2.0.min']\n",
       "            }\n",
       "        });\n",
       "        require(['plotly'], function(Plotly) {\n",
       "            window._Plotly = Plotly;\n",
       "        });\n",
       "        }\n",
       "        </script>\n",
       "        "
      ]
     },
     "metadata": {},
     "output_type": "display_data"
    }
   ],
   "source": [
    "import pandas as pd\n",
    "import numpy as np\n",
    "import matplotlib.pyplot as plt\n",
    "import seaborn as sns\n",
    "import plotly.offline as py\n",
    "color = sns.color_palette()\n",
    "import plotly.graph_objs as go\n",
    "py.init_notebook_mode(connected=True)\n",
    "import plotly.tools as tls\n",
    "import warnings\n",
    "warnings.filterwarnings('ignore')\n",
    "from sklearn.feature_extraction.text import CountVectorizer\n",
    "from sklearn.feature_extraction.text import TfidfVectorizer\n",
    "from sklearn.model_selection import train_test_split\n",
    "from string import punctuation\n",
    "from sklearn import svm\n",
    "from nltk.corpus import stopwords\n",
    "from nltk.stem import WordNetLemmatizer\n",
    "import nltk\n",
    "from nltk import ngrams\n",
    "from nltk.tokenize import RegexpTokenizer\n",
    "from nltk.tokenize import word_tokenize\n",
    "from itertools import chain\n",
    "#from wordcloud import WordCloud\n",
    "from fractions import Fraction\n",
    "import re\n",
    "from sklearn.linear_model import LogisticRegression,LogisticRegressionCV\n",
    "from sklearn.naive_bayes import MultinomialNB\n",
    "from sklearn.ensemble import RandomForestClassifier\n",
    "from xgboost import XGBClassifier\n",
    "from sklearn.model_selection import StratifiedKFold,RandomizedSearchCV,GridSearchCV\n",
    "from sklearn.metrics import accuracy_score,confusion_matrix,roc_auc_score,recall_score,classification_report\n",
    "from sklearn.preprocessing import StandardScaler,MinMaxScaler\n",
    "from sklearn.metrics.pairwise import pairwise_distances\n",
    "from sklearn.metrics import classification_report\n",
    "import pickle\n",
    "#import os\n",
    "#os.listdir(\"../input\")"
   ]
  },
  {
   "cell_type": "code",
   "execution_count": 166,
   "metadata": {
    "colab": {
     "base_uri": "https://localhost:8080/",
     "height": 408
    },
    "id": "8SdfsGXNuJdb",
    "outputId": "a9c828a8-3465-4a37-98c1-3d6a31f66004"
   },
   "outputs": [
    {
     "data": {
      "text/html": [
       "<div>\n",
       "<style scoped>\n",
       "    .dataframe tbody tr th:only-of-type {\n",
       "        vertical-align: middle;\n",
       "    }\n",
       "\n",
       "    .dataframe tbody tr th {\n",
       "        vertical-align: top;\n",
       "    }\n",
       "\n",
       "    .dataframe thead th {\n",
       "        text-align: right;\n",
       "    }\n",
       "</style>\n",
       "<table border=\"1\" class=\"dataframe\">\n",
       "  <thead>\n",
       "    <tr style=\"text-align: right;\">\n",
       "      <th></th>\n",
       "      <th>id</th>\n",
       "      <th>brand</th>\n",
       "      <th>categories</th>\n",
       "      <th>manufacturer</th>\n",
       "      <th>name</th>\n",
       "      <th>reviews_date</th>\n",
       "      <th>reviews_didPurchase</th>\n",
       "      <th>reviews_doRecommend</th>\n",
       "      <th>reviews_rating</th>\n",
       "      <th>reviews_text</th>\n",
       "      <th>reviews_title</th>\n",
       "      <th>reviews_userCity</th>\n",
       "      <th>reviews_userProvince</th>\n",
       "      <th>reviews_username</th>\n",
       "      <th>user_sentiment</th>\n",
       "    </tr>\n",
       "  </thead>\n",
       "  <tbody>\n",
       "    <tr>\n",
       "      <th>0</th>\n",
       "      <td>AV13O1A8GV-KLJ3akUyj</td>\n",
       "      <td>Universal Music</td>\n",
       "      <td>Movies, Music &amp; Books,Music,R&amp;b,Movies &amp; TV,Mo...</td>\n",
       "      <td>Universal Music Group / Cash Money</td>\n",
       "      <td>Pink Friday: Roman Reloaded Re-Up (w/dvd)</td>\n",
       "      <td>2012-11-30T06:21:45.000Z</td>\n",
       "      <td>NaN</td>\n",
       "      <td>NaN</td>\n",
       "      <td>5</td>\n",
       "      <td>i love this album. it's very good. more to the...</td>\n",
       "      <td>Just Awesome</td>\n",
       "      <td>Los Angeles</td>\n",
       "      <td>NaN</td>\n",
       "      <td>joshua</td>\n",
       "      <td>Positive</td>\n",
       "    </tr>\n",
       "    <tr>\n",
       "      <th>1</th>\n",
       "      <td>AV14LG0R-jtxr-f38QfS</td>\n",
       "      <td>Lundberg</td>\n",
       "      <td>Food,Packaged Foods,Snacks,Crackers,Snacks, Co...</td>\n",
       "      <td>Lundberg</td>\n",
       "      <td>Lundberg Organic Cinnamon Toast Rice Cakes</td>\n",
       "      <td>2017-07-09T00:00:00.000Z</td>\n",
       "      <td>True</td>\n",
       "      <td>NaN</td>\n",
       "      <td>5</td>\n",
       "      <td>Good flavor. This review was collected as part...</td>\n",
       "      <td>Good</td>\n",
       "      <td>NaN</td>\n",
       "      <td>NaN</td>\n",
       "      <td>dorothy w</td>\n",
       "      <td>Positive</td>\n",
       "    </tr>\n",
       "    <tr>\n",
       "      <th>2</th>\n",
       "      <td>AV14LG0R-jtxr-f38QfS</td>\n",
       "      <td>Lundberg</td>\n",
       "      <td>Food,Packaged Foods,Snacks,Crackers,Snacks, Co...</td>\n",
       "      <td>Lundberg</td>\n",
       "      <td>Lundberg Organic Cinnamon Toast Rice Cakes</td>\n",
       "      <td>2017-07-09T00:00:00.000Z</td>\n",
       "      <td>True</td>\n",
       "      <td>NaN</td>\n",
       "      <td>5</td>\n",
       "      <td>Good flavor.</td>\n",
       "      <td>Good</td>\n",
       "      <td>NaN</td>\n",
       "      <td>NaN</td>\n",
       "      <td>dorothy w</td>\n",
       "      <td>Positive</td>\n",
       "    </tr>\n",
       "  </tbody>\n",
       "</table>\n",
       "</div>"
      ],
      "text/plain": [
       "                     id            brand  \\\n",
       "0  AV13O1A8GV-KLJ3akUyj  Universal Music   \n",
       "1  AV14LG0R-jtxr-f38QfS         Lundberg   \n",
       "2  AV14LG0R-jtxr-f38QfS         Lundberg   \n",
       "\n",
       "                                          categories  \\\n",
       "0  Movies, Music & Books,Music,R&b,Movies & TV,Mo...   \n",
       "1  Food,Packaged Foods,Snacks,Crackers,Snacks, Co...   \n",
       "2  Food,Packaged Foods,Snacks,Crackers,Snacks, Co...   \n",
       "\n",
       "                         manufacturer  \\\n",
       "0  Universal Music Group / Cash Money   \n",
       "1                            Lundberg   \n",
       "2                            Lundberg   \n",
       "\n",
       "                                         name              reviews_date  \\\n",
       "0   Pink Friday: Roman Reloaded Re-Up (w/dvd)  2012-11-30T06:21:45.000Z   \n",
       "1  Lundberg Organic Cinnamon Toast Rice Cakes  2017-07-09T00:00:00.000Z   \n",
       "2  Lundberg Organic Cinnamon Toast Rice Cakes  2017-07-09T00:00:00.000Z   \n",
       "\n",
       "  reviews_didPurchase reviews_doRecommend  reviews_rating  \\\n",
       "0                 NaN                 NaN               5   \n",
       "1                True                 NaN               5   \n",
       "2                True                 NaN               5   \n",
       "\n",
       "                                        reviews_text reviews_title  \\\n",
       "0  i love this album. it's very good. more to the...  Just Awesome   \n",
       "1  Good flavor. This review was collected as part...          Good   \n",
       "2                                       Good flavor.          Good   \n",
       "\n",
       "  reviews_userCity reviews_userProvince reviews_username user_sentiment  \n",
       "0      Los Angeles                  NaN           joshua       Positive  \n",
       "1              NaN                  NaN        dorothy w       Positive  \n",
       "2              NaN                  NaN        dorothy w       Positive  "
      ]
     },
     "execution_count": 166,
     "metadata": {},
     "output_type": "execute_result"
    }
   ],
   "source": [
    "#read the product reviews\n",
    "#prod_df=pd.read_csv('https://raw.githubusercontent.com/nveenkumr/SentimentAnalysis_ProductRecommendation/main/sample30.csv')\n",
    "prod_df = pd.read_csv('sample30.csv')\n",
    "prod_df.head(3)"
   ]
  },
  {
   "cell_type": "markdown",
   "metadata": {
    "id": "0S5RT242uJdb"
   },
   "source": [
    "# Data Exploration and Preprocessing"
   ]
  },
  {
   "cell_type": "code",
   "execution_count": 167,
   "metadata": {
    "colab": {
     "base_uri": "https://localhost:8080/"
    },
    "id": "ejolDqVZuJdc",
    "outputId": "7d48330b-1d6a-4b11-b426-c1478e45e15a"
   },
   "outputs": [
    {
     "data": {
      "text/plain": [
       "(30000, 15)"
      ]
     },
     "execution_count": 167,
     "metadata": {},
     "output_type": "execute_result"
    }
   ],
   "source": [
    "#shape of dataframe\n",
    "prod_df.shape"
   ]
  },
  {
   "cell_type": "code",
   "execution_count": 168,
   "metadata": {
    "colab": {
     "base_uri": "https://localhost:8080/"
    },
    "id": "sI3uU1A8uJdd",
    "outputId": "e8bbba65-2348-4ffe-f229-cb7b7c38a6e8"
   },
   "outputs": [
    {
     "data": {
      "text/plain": [
       "id                          0\n",
       "brand                       0\n",
       "categories                  0\n",
       "manufacturer              141\n",
       "name                        0\n",
       "reviews_date               46\n",
       "reviews_didPurchase     14068\n",
       "reviews_doRecommend      2570\n",
       "reviews_rating              0\n",
       "reviews_text                0\n",
       "reviews_title             190\n",
       "reviews_userCity        28071\n",
       "reviews_userProvince    29830\n",
       "reviews_username           63\n",
       "user_sentiment              1\n",
       "dtype: int64"
      ]
     },
     "execution_count": 168,
     "metadata": {},
     "output_type": "execute_result"
    }
   ],
   "source": [
    "# checking the null values , We can see lots of null values in reviews_didPurchase , userCity, Province\n",
    "prod_df.isnull().sum()"
   ]
  },
  {
   "cell_type": "markdown",
   "metadata": {
    "id": "pNnVCwWIuJdd"
   },
   "source": [
    "`Currently there are no null values in reviews_text , And our prediction model will be beased on the text reviews`."
   ]
  },
  {
   "cell_type": "markdown",
   "metadata": {
    "id": "Xs-ZYGHtuJdd"
   },
   "source": [
    "#### What are the words that people have used the most in their reviews ?"
   ]
  },
  {
   "cell_type": "code",
   "execution_count": 169,
   "metadata": {
    "colab": {
     "base_uri": "https://localhost:8080/",
     "height": 449
    },
    "id": "9TW-3pizuJde",
    "outputId": "ff7ebd13-68ad-4262-c75a-1a09712c68b8"
   },
   "outputs": [
    {
     "data": {
      "image/png": "[encoded data removed]",
      "text/plain": [
       "<Figure size 1080x1080 with 1 Axes>"
      ]
     },
     "metadata": {},
     "output_type": "display_data"
    }
   ],
   "source": [
    "#import wordcloud\n",
    "from wordcloud import WordCloud, STOPWORDS\n",
    "stopwords = set(STOPWORDS)\n",
    "def show_wordCloud(data, title= None):\n",
    "    wordcloud= WordCloud(\n",
    "        background_color='black',\n",
    "        stopwords=stopwords,\n",
    "        max_words=200,\n",
    "        max_font_size=40, \n",
    "        scale=3,\n",
    "        random_state=1 # chosen at random by flipping a coin; it was heads\n",
    "        ).generate(str(data))\n",
    "\n",
    "    fig = plt.figure(1, figsize=(15, 15))\n",
    "    plt.axis('off')\n",
    "    if title: \n",
    "        fig.suptitle(title, fontsize=20)\n",
    "        fig.subplots_adjust(top=2.3)\n",
    "\n",
    "    plt.imshow(wordcloud)\n",
    "    plt.show()\n",
    "show_wordCloud(prod_df['reviews_text'])"
   ]
  },
  {
   "cell_type": "markdown",
   "metadata": {
    "id": "XMB-u0J2uJdf"
   },
   "source": [
    "#### Lets check the Rating distribution"
   ]
  },
  {
   "cell_type": "code",
   "execution_count": 170,
   "metadata": {
    "colab": {
     "base_uri": "https://localhost:8080/"
    },
    "id": "1arFSrp1uJdf",
    "outputId": "80a5e0eb-4f83-4bcd-d902-b9a277070b12",
    "scrolled": true
   },
   "outputs": [
    {
     "data": {
      "text/plain": [
       "5    20831\n",
       "4     6020\n",
       "1     1384\n",
       "3     1345\n",
       "2      420\n",
       "Name: reviews_rating, dtype: int64"
      ]
     },
     "execution_count": 170,
     "metadata": {},
     "output_type": "execute_result"
    }
   ],
   "source": [
    "prod_df['reviews_rating'].value_counts()"
   ]
  },
  {
   "cell_type": "code",
   "execution_count": 171,
   "metadata": {
    "colab": {
     "base_uri": "https://localhost:8080/",
     "height": 542
    },
    "id": "rKiRAP3buJdg",
    "outputId": "76fa0502-d6f5-459e-b385-01f02534c016"
   },
   "outputs": [
    {
     "data": {
      "application/vnd.plotly.v1+json": {
       "config": {
        "linkText": "Export to plot.ly",
        "plotlyServerURL": "https://plot.ly",
        "showLink": false
       },
       "data": [
        {
         "marker": {
          "color": [
           420,
           1345,
           1384,
           6020,
           20831
          ],
          "colorscale": [
           [
            0,
            "rgb(0,0,255)"
           ],
           [
            1,
            "rgb(255,0,0)"
           ]
          ],
          "reversescale": true
         },
         "orientation": "h",
         "type": "bar",
         "x": [
          420,
          1345,
          1384,
          6020,
          20831
         ],
         "y": [
          2,
          3,
          1,
          4,
          5
         ]
        }
       ],
       "layout": {
        "template": {
         "data": {
          "bar": [
           {
            "error_x": {
             "color": "#2a3f5f"
            },
            "error_y": {
             "color": "#2a3f5f"
            },
            "marker": {
             "line": {
              "color": "#E5ECF6",
              "width": 0.5
             },
             "pattern": {
              "fillmode": "overlay",
              "size": 10,
              "solidity": 0.2
             }
            },
            "type": "bar"
           }
          ],
          "barpolar": [
           {
            "marker": {
             "line": {
              "color": "#E5ECF6",
              "width": 0.5
             },
             "pattern": {
              "fillmode": "overlay",
              "size": 10,
              "solidity": 0.2
             }
            },
            "type": "barpolar"
           }
          ],
          "carpet": [
           {
            "aaxis": {
             "endlinecolor": "#2a3f5f",
             "gridcolor": "white",
             "linecolor": "white",
             "minorgridcolor": "white",
             "startlinecolor": "#2a3f5f"
            },
            "baxis": {
             "endlinecolor": "#2a3f5f",
             "gridcolor": "white",
             "linecolor": "white",
             "minorgridcolor": "white",
             "startlinecolor": "#2a3f5f"
            },
            "type": "carpet"
           }
          ],
          "choropleth": [
           {
            "colorbar": {
             "outlinewidth": 0,
             "ticks": ""
            },
            "type": "choropleth"
           }
          ],
          "contour": [
           {
            "colorbar": {
             "outlinewidth": 0,
             "ticks": ""
            },
            "colorscale": [
             [
              0,
              "#0d0887"
             ],
             [
              0.1111111111111111,
              "#46039f"
             ],
             [
              0.2222222222222222,
              "#7201a8"
             ],
             [
              0.3333333333333333,
              "#9c179e"
             ],
             [
              0.4444444444444444,
              "#bd3786"
             ],
             [
              0.5555555555555556,
              "#d8576b"
             ],
             [
              0.6666666666666666,
              "#ed7953"
             ],
             [
              0.7777777777777778,
              "#fb9f3a"
             ],
             [
              0.8888888888888888,
              "#fdca26"
             ],
             [
              1,
              "#f0f921"
             ]
            ],
            "type": "contour"
           }
          ],
          "contourcarpet": [
           {
            "colorbar": {
             "outlinewidth": 0,
             "ticks": ""
            },
            "type": "contourcarpet"
           }
          ],
          "heatmap": [
           {
            "colorbar": {
             "outlinewidth": 0,
             "ticks": ""
            },
            "colorscale": [
             [
              0,
              "#0d0887"
             ],
             [
              0.1111111111111111,
              "#46039f"
             ],
             [
              0.2222222222222222,
              "#7201a8"
             ],
             [
              0.3333333333333333,
              "#9c179e"
             ],
             [
              0.4444444444444444,
              "#bd3786"
             ],
             [
              0.5555555555555556,
              "#d8576b"
             ],
             [
              0.6666666666666666,
              "#ed7953"
             ],
             [
              0.7777777777777778,
              "#fb9f3a"
             ],
             [
              0.8888888888888888,
              "#fdca26"
             ],
             [
              1,
              "#f0f921"
             ]
            ],
            "type": "heatmap"
           }
          ],
          "heatmapgl": [
           {
            "colorbar": {
             "outlinewidth": 0,
             "ticks": ""
            },
            "colorscale": [
             [
              0,
              "#0d0887"
             ],
             [
              0.1111111111111111,
              "#46039f"
             ],
             [
              0.2222222222222222,
              "#7201a8"
             ],
             [
              0.3333333333333333,
              "#9c179e"
             ],
             [
              0.4444444444444444,
              "#bd3786"
             ],
             [
              0.5555555555555556,
              "#d8576b"
             ],
             [
              0.6666666666666666,
              "#ed7953"
             ],
             [
              0.7777777777777778,
              "#fb9f3a"
             ],
             [
              0.8888888888888888,
              "#fdca26"
             ],
             [
              1,
              "#f0f921"
             ]
            ],
            "type": "heatmapgl"
           }
          ],
          "histogram": [
           {
            "marker": {
             "pattern": {
              "fillmode": "overlay",
              "size": 10,
              "solidity": 0.2
             }
            },
            "type": "histogram"
           }
          ],
          "histogram2d": [
           {
            "colorbar": {
             "outlinewidth": 0,
             "ticks": ""
            },
            "colorscale": [
             [
              0,
              "#0d0887"
             ],
             [
              0.1111111111111111,
              "#46039f"
             ],
             [
              0.2222222222222222,
              "#7201a8"
             ],
             [
              0.3333333333333333,
              "#9c179e"
             ],
             [
              0.4444444444444444,
              "#bd3786"
             ],
             [
              0.5555555555555556,
              "#d8576b"
             ],
             [
              0.6666666666666666,
              "#ed7953"
             ],
             [
              0.7777777777777778,
              "#fb9f3a"
             ],
             [
              0.8888888888888888,
              "#fdca26"
             ],
             [
              1,
              "#f0f921"
             ]
            ],
            "type": "histogram2d"
           }
          ],
          "histogram2dcontour": [
           {
            "colorbar": {
             "outlinewidth": 0,
             "ticks": ""
            },
            "colorscale": [
             [
              0,
              "#0d0887"
             ],
             [
              0.1111111111111111,
              "#46039f"
             ],
             [
              0.2222222222222222,
              "#7201a8"
             ],
             [
              0.3333333333333333,
              "#9c179e"
             ],
             [
              0.4444444444444444,
              "#bd3786"
             ],
             [
              0.5555555555555556,
              "#d8576b"
             ],
             [
              0.6666666666666666,
              "#ed7953"
             ],
             [
              0.7777777777777778,
              "#fb9f3a"
             ],
             [
              0.8888888888888888,
              "#fdca26"
             ],
             [
              1,
              "#f0f921"
             ]
            ],
            "type": "histogram2dcontour"
           }
          ],
          "mesh3d": [
           {
            "colorbar": {
             "outlinewidth": 0,
             "ticks": ""
            },
            "type": "mesh3d"
           }
          ],
          "parcoords": [
           {
            "line": {
             "colorbar": {
              "outlinewidth": 0,
              "ticks": ""
             }
            },
            "type": "parcoords"
           }
          ],
          "pie": [
           {
            "automargin": true,
            "type": "pie"
           }
          ],
          "scatter": [
           {
            "marker": {
             "colorbar": {
              "outlinewidth": 0,
              "ticks": ""
             }
            },
            "type": "scatter"
           }
          ],
          "scatter3d": [
           {
            "line": {
             "colorbar": {
              "outlinewidth": 0,
              "ticks": ""
             }
            },
            "marker": {
             "colorbar": {
              "outlinewidth": 0,
              "ticks": ""
             }
            },
            "type": "scatter3d"
           }
          ],
          "scattercarpet": [
           {
            "marker": {
             "colorbar": {
              "outlinewidth": 0,
              "ticks": ""
             }
            },
            "type": "scattercarpet"
           }
          ],
          "scattergeo": [
           {
            "marker": {
             "colorbar": {
              "outlinewidth": 0,
              "ticks": ""
             }
            },
            "type": "scattergeo"
           }
          ],
          "scattergl": [
           {
            "marker": {
             "colorbar": {
              "outlinewidth": 0,
              "ticks": ""
             }
            },
            "type": "scattergl"
           }
          ],
          "scattermapbox": [
           {
            "marker": {
             "colorbar": {
              "outlinewidth": 0,
              "ticks": ""
             }
            },
            "type": "scattermapbox"
           }
          ],
          "scatterpolar": [
           {
            "marker": {
             "colorbar": {
              "outlinewidth": 0,
              "ticks": ""
             }
            },
            "type": "scatterpolar"
           }
          ],
          "scatterpolargl": [
           {
            "marker": {
             "colorbar": {
              "outlinewidth": 0,
              "ticks": ""
             }
            },
            "type": "scatterpolargl"
           }
          ],
          "scatterternary": [
           {
            "marker": {
             "colorbar": {
              "outlinewidth": 0,
              "ticks": ""
             }
            },
            "type": "scatterternary"
           }
          ],
          "surface": [
           {
            "colorbar": {
             "outlinewidth": 0,
             "ticks": ""
            },
            "colorscale": [
             [
              0,
              "#0d0887"
             ],
             [
              0.1111111111111111,
              "#46039f"
             ],
             [
              0.2222222222222222,
              "#7201a8"
             ],
             [
              0.3333333333333333,
              "#9c179e"
             ],
             [
              0.4444444444444444,
              "#bd3786"
             ],
             [
              0.5555555555555556,
              "#d8576b"
             ],
             [
              0.6666666666666666,
              "#ed7953"
             ],
             [
              0.7777777777777778,
              "#fb9f3a"
             ],
             [
              0.8888888888888888,
              "#fdca26"
             ],
             [
              1,
              "#f0f921"
             ]
            ],
            "type": "surface"
           }
          ],
          "table": [
           {
            "cells": {
             "fill": {
              "color": "#EBF0F8"
             },
             "line": {
              "color": "white"
             }
            },
            "header": {
             "fill": {
              "color": "#C8D4E3"
             },
             "line": {
              "color": "white"
             }
            },
            "type": "table"
           }
          ]
         },
         "layout": {
          "annotationdefaults": {
           "arrowcolor": "#2a3f5f",
           "arrowhead": 0,
           "arrowwidth": 1
          },
          "autotypenumbers": "strict",
          "coloraxis": {
           "colorbar": {
            "outlinewidth": 0,
            "ticks": ""
           }
          },
          "colorscale": {
           "diverging": [
            [
             0,
             "#8e0152"
            ],
            [
             0.1,
             "#c51b7d"
            ],
            [
             0.2,
             "#de77ae"
            ],
            [
             0.3,
             "#f1b6da"
            ],
            [
             0.4,
             "#fde0ef"
            ],
            [
             0.5,
             "#f7f7f7"
            ],
            [
             0.6,
             "#e6f5d0"
            ],
            [
             0.7,
             "#b8e186"
            ],
            [
             0.8,
             "#7fbc41"
            ],
            [
             0.9,
             "#4d9221"
            ],
            [
             1,
             "#276419"
            ]
           ],
           "sequential": [
            [
             0,
             "#0d0887"
            ],
            [
             0.1111111111111111,
             "#46039f"
            ],
            [
             0.2222222222222222,
             "#7201a8"
            ],
            [
             0.3333333333333333,
             "#9c179e"
            ],
            [
             0.4444444444444444,
             "#bd3786"
            ],
            [
             0.5555555555555556,
             "#d8576b"
            ],
            [
             0.6666666666666666,
             "#ed7953"
            ],
            [
             0.7777777777777778,
             "#fb9f3a"
            ],
            [
             0.8888888888888888,
             "#fdca26"
            ],
            [
             1,
             "#f0f921"
            ]
           ],
           "sequentialminus": [
            [
             0,
             "#0d0887"
            ],
            [
             0.1111111111111111,
             "#46039f"
            ],
            [
             0.2222222222222222,
             "#7201a8"
            ],
            [
             0.3333333333333333,
             "#9c179e"
            ],
            [
             0.4444444444444444,
             "#bd3786"
            ],
            [
             0.5555555555555556,
             "#d8576b"
            ],
            [
             0.6666666666666666,
             "#ed7953"
            ],
            [
             0.7777777777777778,
             "#fb9f3a"
            ],
            [
             0.8888888888888888,
             "#fdca26"
            ],
            [
             1,
             "#f0f921"
            ]
           ]
          },
          "colorway": [
           "#636efa",
           "#EF553B",
           "#00cc96",
           "#ab63fa",
           "#FFA15A",
           "#19d3f3",
           "#FF6692",
           "#B6E880",
           "#FF97FF",
           "#FECB52"
          ],
          "font": {
           "color": "#2a3f5f"
          },
          "geo": {
           "bgcolor": "white",
           "lakecolor": "white",
           "landcolor": "#E5ECF6",
           "showlakes": true,
           "showland": true,
           "subunitcolor": "white"
          },
          "hoverlabel": {
           "align": "left"
          },
          "hovermode": "closest",
          "mapbox": {
           "style": "light"
          },
          "paper_bgcolor": "white",
          "plot_bgcolor": "#E5ECF6",
          "polar": {
           "angularaxis": {
            "gridcolor": "white",
            "linecolor": "white",
            "ticks": ""
           },
           "bgcolor": "#E5ECF6",
           "radialaxis": {
            "gridcolor": "white",
            "linecolor": "white",
            "ticks": ""
           }
          },
          "scene": {
           "xaxis": {
            "backgroundcolor": "#E5ECF6",
            "gridcolor": "white",
            "gridwidth": 2,
            "linecolor": "white",
            "showbackground": true,
            "ticks": "",
            "zerolinecolor": "white"
           },
           "yaxis": {
            "backgroundcolor": "#E5ECF6",
            "gridcolor": "white",
            "gridwidth": 2,
            "linecolor": "white",
            "showbackground": true,
            "ticks": "",
            "zerolinecolor": "white"
           },
           "zaxis": {
            "backgroundcolor": "#E5ECF6",
            "gridcolor": "white",
            "gridwidth": 2,
            "linecolor": "white",
            "showbackground": true,
            "ticks": "",
            "zerolinecolor": "white"
           }
          },
          "shapedefaults": {
           "line": {
            "color": "#2a3f5f"
           }
          },
          "ternary": {
           "aaxis": {
            "gridcolor": "white",
            "linecolor": "white",
            "ticks": ""
           },
           "baxis": {
            "gridcolor": "white",
            "linecolor": "white",
            "ticks": ""
           },
           "bgcolor": "#E5ECF6",
           "caxis": {
            "gridcolor": "white",
            "linecolor": "white",
            "ticks": ""
           }
          },
          "title": {
           "x": 0.05
          },
          "xaxis": {
           "automargin": true,
           "gridcolor": "white",
           "linecolor": "white",
           "ticks": "",
           "title": {
            "standoff": 15
           },
           "zerolinecolor": "white",
           "zerolinewidth": 2
          },
          "yaxis": {
           "automargin": true,
           "gridcolor": "white",
           "linecolor": "white",
           "ticks": "",
           "title": {
            "standoff": 15
           },
           "zerolinecolor": "white",
           "zerolinewidth": 2
          }
         }
        },
        "title": {
         "text": "Ratings distribution"
        }
       }
      },
      "text/html": [
       "<div>                            <div id=\"ca6718a4-5060-479b-8aa6-7ceee595aa97\" class=\"plotly-graph-div\" style=\"height:525px; width:100%;\"></div>            <script type=\"text/javascript\">                require([\"plotly\"], function(Plotly) {                    window.PLOTLYENV=window.PLOTLYENV || {};                                    if (document.getElementById(\"ca6718a4-5060-479b-8aa6-7ceee595aa97\")) {                    Plotly.newPlot(                        \"ca6718a4-5060-479b-8aa6-7ceee595aa97\",                        [{\"marker\":{\"color\":[420,1345,1384,6020,20831],\"colorscale\":[[0.0,\"rgb(0,0,255)\"],[1.0,\"rgb(255,0,0)\"]],\"reversescale\":true},\"orientation\":\"h\",\"type\":\"bar\",\"x\":[420,1345,1384,6020,20831],\"y\":[2,3,1,4,5]}],                        {\"template\":{\"data\":{\"bar\":[{\"error_x\":{\"color\":\"#2a3f5f\"},\"error_y\":{\"color\":\"#2a3f5f\"},\"marker\":{\"line\":{\"color\":\"#E5ECF6\",\"width\":0.5},\"pattern\":{\"fillmode\":\"overlay\",\"size\":10,\"solidity\":0.2}},\"type\":\"bar\"}],\"barpolar\":[{\"marker\":{\"line\":{\"color\":\"#E5ECF6\",\"width\":0.5},\"pattern\":{\"fillmode\":\"overlay\",\"size\":10,\"solidity\":0.2}},\"type\":\"barpolar\"}],\"carpet\":[{\"aaxis\":{\"endlinecolor\":\"#2a3f5f\",\"gridcolor\":\"white\",\"linecolor\":\"white\",\"minorgridcolor\":\"white\",\"startlinecolor\":\"#2a3f5f\"},\"baxis\":{\"endlinecolor\":\"#2a3f5f\",\"gridcolor\":\"white\",\"linecolor\":\"white\",\"minorgridcolor\":\"white\",\"startlinecolor\":\"#2a3f5f\"},\"type\":\"carpet\"}],\"choropleth\":[{\"colorbar\":{\"outlinewidth\":0,\"ticks\":\"\"},\"type\":\"choropleth\"}],\"contour\":[{\"colorbar\":{\"outlinewidth\":0,\"ticks\":\"\"},\"colorscale\":[[0.0,\"#0d0887\"],[0.1111111111111111,\"#46039f\"],[0.2222222222222222,\"#7201a8\"],[0.3333333333333333,\"#9c179e\"],[0.4444444444444444,\"#bd3786\"],[0.5555555555555556,\"#d8576b\"],[0.6666666666666666,\"#ed7953\"],[0.7777777777777778,\"#fb9f3a\"],[0.8888888888888888,\"#fdca26\"],[1.0,\"#f0f921\"]],\"type\":\"contour\"}],\"contourcarpet\":[{\"colorbar\":{\"outlinewidth\":0,\"ticks\":\"\"},\"type\":\"contourcarpet\"}],\"heatmap\":[{\"colorbar\":{\"outlinewidth\":0,\"ticks\":\"\"},\"colorscale\":[[0.0,\"#0d0887\"],[0.1111111111111111,\"#46039f\"],[0.2222222222222222,\"#7201a8\"],[0.3333333333333333,\"#9c179e\"],[0.4444444444444444,\"#bd3786\"],[0.5555555555555556,\"#d8576b\"],[0.6666666666666666,\"#ed7953\"],[0.7777777777777778,\"#fb9f3a\"],[0.8888888888888888,\"#fdca26\"],[1.0,\"#f0f921\"]],\"type\":\"heatmap\"}],\"heatmapgl\":[{\"colorbar\":{\"outlinewidth\":0,\"ticks\":\"\"},\"colorscale\":[[0.0,\"#0d0887\"],[0.1111111111111111,\"#46039f\"],[0.2222222222222222,\"#7201a8\"],[0.3333333333333333,\"#9c179e\"],[0.4444444444444444,\"#bd3786\"],[0.5555555555555556,\"#d8576b\"],[0.6666666666666666,\"#ed7953\"],[0.7777777777777778,\"#fb9f3a\"],[0.8888888888888888,\"#fdca26\"],[1.0,\"#f0f921\"]],\"type\":\"heatmapgl\"}],\"histogram\":[{\"marker\":{\"pattern\":{\"fillmode\":\"overlay\",\"size\":10,\"solidity\":0.2}},\"type\":\"histogram\"}],\"histogram2d\":[{\"colorbar\":{\"outlinewidth\":0,\"ticks\":\"\"},\"colorscale\":[[0.0,\"#0d0887\"],[0.1111111111111111,\"#46039f\"],[0.2222222222222222,\"#7201a8\"],[0.3333333333333333,\"#9c179e\"],[0.4444444444444444,\"#bd3786\"],[0.5555555555555556,\"#d8576b\"],[0.6666666666666666,\"#ed7953\"],[0.7777777777777778,\"#fb9f3a\"],[0.8888888888888888,\"#fdca26\"],[1.0,\"#f0f921\"]],\"type\":\"histogram2d\"}],\"histogram2dcontour\":[{\"colorbar\":{\"outlinewidth\":0,\"ticks\":\"\"},\"colorscale\":[[0.0,\"#0d0887\"],[0.1111111111111111,\"#46039f\"],[0.2222222222222222,\"#7201a8\"],[0.3333333333333333,\"#9c179e\"],[0.4444444444444444,\"#bd3786\"],[0.5555555555555556,\"#d8576b\"],[0.6666666666666666,\"#ed7953\"],[0.7777777777777778,\"#fb9f3a\"],[0.8888888888888888,\"#fdca26\"],[1.0,\"#f0f921\"]],\"type\":\"histogram2dcontour\"}],\"mesh3d\":[{\"colorbar\":{\"outlinewidth\":0,\"ticks\":\"\"},\"type\":\"mesh3d\"}],\"parcoords\":[{\"line\":{\"colorbar\":{\"outlinewidth\":0,\"ticks\":\"\"}},\"type\":\"parcoords\"}],\"pie\":[{\"automargin\":true,\"type\":\"pie\"}],\"scatter\":[{\"marker\":{\"colorbar\":{\"outlinewidth\":0,\"ticks\":\"\"}},\"type\":\"scatter\"}],\"scatter3d\":[{\"line\":{\"colorbar\":{\"outlinewidth\":0,\"ticks\":\"\"}},\"marker\":{\"colorbar\":{\"outlinewidth\":0,\"ticks\":\"\"}},\"type\":\"scatter3d\"}],\"scattercarpet\":[{\"marker\":{\"colorbar\":{\"outlinewidth\":0,\"ticks\":\"\"}},\"type\":\"scattercarpet\"}],\"scattergeo\":[{\"marker\":{\"colorbar\":{\"outlinewidth\":0,\"ticks\":\"\"}},\"type\":\"scattergeo\"}],\"scattergl\":[{\"marker\":{\"colorbar\":{\"outlinewidth\":0,\"ticks\":\"\"}},\"type\":\"scattergl\"}],\"scattermapbox\":[{\"marker\":{\"colorbar\":{\"outlinewidth\":0,\"ticks\":\"\"}},\"type\":\"scattermapbox\"}],\"scatterpolar\":[{\"marker\":{\"colorbar\":{\"outlinewidth\":0,\"ticks\":\"\"}},\"type\":\"scatterpolar\"}],\"scatterpolargl\":[{\"marker\":{\"colorbar\":{\"outlinewidth\":0,\"ticks\":\"\"}},\"type\":\"scatterpolargl\"}],\"scatterternary\":[{\"marker\":{\"colorbar\":{\"outlinewidth\":0,\"ticks\":\"\"}},\"type\":\"scatterternary\"}],\"surface\":[{\"colorbar\":{\"outlinewidth\":0,\"ticks\":\"\"},\"colorscale\":[[0.0,\"#0d0887\"],[0.1111111111111111,\"#46039f\"],[0.2222222222222222,\"#7201a8\"],[0.3333333333333333,\"#9c179e\"],[0.4444444444444444,\"#bd3786\"],[0.5555555555555556,\"#d8576b\"],[0.6666666666666666,\"#ed7953\"],[0.7777777777777778,\"#fb9f3a\"],[0.8888888888888888,\"#fdca26\"],[1.0,\"#f0f921\"]],\"type\":\"surface\"}],\"table\":[{\"cells\":{\"fill\":{\"color\":\"#EBF0F8\"},\"line\":{\"color\":\"white\"}},\"header\":{\"fill\":{\"color\":\"#C8D4E3\"},\"line\":{\"color\":\"white\"}},\"type\":\"table\"}]},\"layout\":{\"annotationdefaults\":{\"arrowcolor\":\"#2a3f5f\",\"arrowhead\":0,\"arrowwidth\":1},\"autotypenumbers\":\"strict\",\"coloraxis\":{\"colorbar\":{\"outlinewidth\":0,\"ticks\":\"\"}},\"colorscale\":{\"diverging\":[[0,\"#8e0152\"],[0.1,\"#c51b7d\"],[0.2,\"#de77ae\"],[0.3,\"#f1b6da\"],[0.4,\"#fde0ef\"],[0.5,\"#f7f7f7\"],[0.6,\"#e6f5d0\"],[0.7,\"#b8e186\"],[0.8,\"#7fbc41\"],[0.9,\"#4d9221\"],[1,\"#276419\"]],\"sequential\":[[0.0,\"#0d0887\"],[0.1111111111111111,\"#46039f\"],[0.2222222222222222,\"#7201a8\"],[0.3333333333333333,\"#9c179e\"],[0.4444444444444444,\"#bd3786\"],[0.5555555555555556,\"#d8576b\"],[0.6666666666666666,\"#ed7953\"],[0.7777777777777778,\"#fb9f3a\"],[0.8888888888888888,\"#fdca26\"],[1.0,\"#f0f921\"]],\"sequentialminus\":[[0.0,\"#0d0887\"],[0.1111111111111111,\"#46039f\"],[0.2222222222222222,\"#7201a8\"],[0.3333333333333333,\"#9c179e\"],[0.4444444444444444,\"#bd3786\"],[0.5555555555555556,\"#d8576b\"],[0.6666666666666666,\"#ed7953\"],[0.7777777777777778,\"#fb9f3a\"],[0.8888888888888888,\"#fdca26\"],[1.0,\"#f0f921\"]]},\"colorway\":[\"#636efa\",\"#EF553B\",\"#00cc96\",\"#ab63fa\",\"#FFA15A\",\"#19d3f3\",\"#FF6692\",\"#B6E880\",\"#FF97FF\",\"#FECB52\"],\"font\":{\"color\":\"#2a3f5f\"},\"geo\":{\"bgcolor\":\"white\",\"lakecolor\":\"white\",\"landcolor\":\"#E5ECF6\",\"showlakes\":true,\"showland\":true,\"subunitcolor\":\"white\"},\"hoverlabel\":{\"align\":\"left\"},\"hovermode\":\"closest\",\"mapbox\":{\"style\":\"light\"},\"paper_bgcolor\":\"white\",\"plot_bgcolor\":\"#E5ECF6\",\"polar\":{\"angularaxis\":{\"gridcolor\":\"white\",\"linecolor\":\"white\",\"ticks\":\"\"},\"bgcolor\":\"#E5ECF6\",\"radialaxis\":{\"gridcolor\":\"white\",\"linecolor\":\"white\",\"ticks\":\"\"}},\"scene\":{\"xaxis\":{\"backgroundcolor\":\"#E5ECF6\",\"gridcolor\":\"white\",\"gridwidth\":2,\"linecolor\":\"white\",\"showbackground\":true,\"ticks\":\"\",\"zerolinecolor\":\"white\"},\"yaxis\":{\"backgroundcolor\":\"#E5ECF6\",\"gridcolor\":\"white\",\"gridwidth\":2,\"linecolor\":\"white\",\"showbackground\":true,\"ticks\":\"\",\"zerolinecolor\":\"white\"},\"zaxis\":{\"backgroundcolor\":\"#E5ECF6\",\"gridcolor\":\"white\",\"gridwidth\":2,\"linecolor\":\"white\",\"showbackground\":true,\"ticks\":\"\",\"zerolinecolor\":\"white\"}},\"shapedefaults\":{\"line\":{\"color\":\"#2a3f5f\"}},\"ternary\":{\"aaxis\":{\"gridcolor\":\"white\",\"linecolor\":\"white\",\"ticks\":\"\"},\"baxis\":{\"gridcolor\":\"white\",\"linecolor\":\"white\",\"ticks\":\"\"},\"bgcolor\":\"#E5ECF6\",\"caxis\":{\"gridcolor\":\"white\",\"linecolor\":\"white\",\"ticks\":\"\"}},\"title\":{\"x\":0.05},\"xaxis\":{\"automargin\":true,\"gridcolor\":\"white\",\"linecolor\":\"white\",\"ticks\":\"\",\"title\":{\"standoff\":15},\"zerolinecolor\":\"white\",\"zerolinewidth\":2},\"yaxis\":{\"automargin\":true,\"gridcolor\":\"white\",\"linecolor\":\"white\",\"ticks\":\"\",\"title\":{\"standoff\":15},\"zerolinecolor\":\"white\",\"zerolinewidth\":2}}},\"title\":{\"text\":\"Ratings distribution\"}},                        {\"responsive\": true}                    ).then(function(){\n",
       "                            \n",
       "var gd = document.getElementById('ca6718a4-5060-479b-8aa6-7ceee595aa97');\n",
       "var x = new MutationObserver(function (mutations, observer) {{\n",
       "        var display = window.getComputedStyle(gd).display;\n",
       "        if (!display || display === 'none') {{\n",
       "            console.log([gd, 'removed!']);\n",
       "            Plotly.purge(gd);\n",
       "            observer.disconnect();\n",
       "        }}\n",
       "}});\n",
       "\n",
       "// Listen for the removal of the full notebook cells\n",
       "var notebookContainer = gd.closest('#notebook-container');\n",
       "if (notebookContainer) {{\n",
       "    x.observe(notebookContainer, {childList: true});\n",
       "}}\n",
       "\n",
       "// Listen for the clearing of the current output cell\n",
       "var outputEl = gd.closest('.output');\n",
       "if (outputEl) {{\n",
       "    x.observe(outputEl, {childList: true});\n",
       "}}\n",
       "\n",
       "                        })                };                });            </script>        </div>"
      ]
     },
     "metadata": {},
     "output_type": "display_data"
    }
   ],
   "source": [
    "cnt_srs = prod_df['reviews_rating'].value_counts().head()\n",
    "trace = go.Bar(\n",
    "    y=cnt_srs.index[::-1],\n",
    "    x=cnt_srs.values[::-1],\n",
    "    orientation = 'h',\n",
    "    marker=dict(\n",
    "        color=cnt_srs.values[::-1],\n",
    "        colorscale = 'Bluered',\n",
    "        reversescale = True\n",
    "    ),\n",
    ")\n",
    "\n",
    "layout = dict(\n",
    "    title='Ratings distribution',\n",
    "    )\n",
    "data = [trace]\n",
    "fig = go.Figure(data=data, layout=layout)\n",
    "py.iplot(fig, filename=\"Ratings\")"
   ]
  },
  {
   "cell_type": "markdown",
   "metadata": {
    "id": "rb8TOIMAuJdg"
   },
   "source": [
    "#### Now let's have a look what do the length of the reviews tell about the ratings"
   ]
  },
  {
   "cell_type": "code",
   "execution_count": 172,
   "metadata": {
    "id": "cRq5mFMzuJdh"
   },
   "outputs": [],
   "source": [
    "prod_df['reviews_length']=prod_df['reviews_text'].apply(len)\n"
   ]
  },
  {
   "cell_type": "code",
   "execution_count": 173,
   "metadata": {
    "colab": {
     "base_uri": "https://localhost:8080/",
     "height": 324
    },
    "id": "c-tOPNGiuJdh",
    "outputId": "eb82ca0c-92b2-4dc6-e163-7f7d73a07fb4"
   },
   "outputs": [
    {
     "data": {
      "text/plain": [
       "<seaborn.axisgrid.FacetGrid at 0x1eba6671c88>"
      ]
     },
     "execution_count": 173,
     "metadata": {},
     "output_type": "execute_result"
    },
    {
     "data": {
      "image/png": "[encoded data removed]",
      "text/plain": [
       "<Figure size 1800x360 with 5 Axes>"
      ]
     },
     "metadata": {},
     "output_type": "display_data"
    }
   ],
   "source": [
    "sns.set(font_scale=2.0)\n",
    "\n",
    "g = sns.FacetGrid(prod_df,col='reviews_rating',size=5)\n",
    "g.map(plt.hist,'reviews_length' , bins = 10)"
   ]
  },
  {
   "cell_type": "code",
   "execution_count": 174,
   "metadata": {
    "id": "daM7BU8OuJdh"
   },
   "outputs": [],
   "source": [
    "prod_df['reviews_didPurchase'].fillna(\"Review N/A\",inplace=True)"
   ]
  },
  {
   "cell_type": "code",
   "execution_count": 175,
   "metadata": {
    "colab": {
     "base_uri": "https://localhost:8080/",
     "height": 530
    },
    "id": "huD2lLYuuJdi",
    "outputId": "38d06c3c-76e8-4417-d4a0-9f24b750f0aa"
   },
   "outputs": [
    {
     "data": {
      "image/png": "[encoded data removed]",
      "text/plain": [
       "<Figure size 720x576 with 1 Axes>"
      ]
     },
     "metadata": {},
     "output_type": "display_data"
    }
   ],
   "source": [
    "plt.figure(figsize=(10,8))\n",
    "ax=sns.countplot(prod_df['reviews_didPurchase'])\n",
    "ax.set_xlabel(xlabel=\"People's Reviews\",fontsize=17)\n",
    "ax.set_ylabel(ylabel='No. of Reviews',fontsize=17)\n",
    "ax.axes.set_title('Genuine No. of Reviews',fontsize=17)\n",
    "ax.tick_params(labelsize=13)"
   ]
  },
  {
   "cell_type": "code",
   "execution_count": 176,
   "metadata": {
    "colab": {
     "base_uri": "https://localhost:8080/"
    },
    "id": "fP6h7oAxuJdi",
    "outputId": "cdf8082a-f00c-41c5-92e9-20e0dd86b300"
   },
   "outputs": [
    {
     "data": {
      "text/plain": [
       "False         14498\n",
       "Review N/A    14068\n",
       "True           1434\n",
       "Name: reviews_didPurchase, dtype: int64"
      ]
     },
     "execution_count": 176,
     "metadata": {},
     "output_type": "execute_result"
    }
   ],
   "source": [
    "prod_df['reviews_didPurchase'].value_counts()"
   ]
  },
  {
   "cell_type": "code",
   "execution_count": 177,
   "metadata": {
    "colab": {
     "base_uri": "https://localhost:8080/",
     "height": 307
    },
    "id": "x-3TSG7TuJdi",
    "outputId": "55ed0c9f-2b93-43ec-ca7c-88b04a1c0d1f"
   },
   "outputs": [
    {
     "data": {
      "image/png": "[encoded data removed]",
      "text/plain": [
       "<Figure size 432x288 with 1 Axes>"
      ]
     },
     "metadata": {},
     "output_type": "display_data"
    }
   ],
   "source": [
    "# do recommendation Distribution\n",
    "prod_df['reviews_doRecommend'].fillna(\"N/A\",inplace=True)\n",
    "sns.countplot(prod_df['reviews_doRecommend'])\n",
    "plt.show()"
   ]
  },
  {
   "cell_type": "code",
   "execution_count": 178,
   "metadata": {
    "colab": {
     "base_uri": "https://localhost:8080/",
     "height": 278
    },
    "id": "hgoomBCnuJdj",
    "outputId": "c7d25fd2-f8ba-4976-a412-b8ed8b785344"
   },
   "outputs": [
    {
     "data": {
      "image/png": "[encoded data removed]",
      "text/plain": [
       "<Figure size 432x288 with 1 Axes>"
      ]
     },
     "metadata": {},
     "output_type": "display_data"
    }
   ],
   "source": [
    "# checking the reviews in year , can see in 2014 has most number of reviews \n",
    "prod_df[\"date\"] = pd.to_datetime(prod_df[\"reviews_date\"], dayfirst=True, errors='coerce') \n",
    "prod_df['year']= prod_df['date'].dt.year\n",
    "prod_df['year'].value_counts().plot.barh()\n",
    "plt.show()"
   ]
  },
  {
   "cell_type": "markdown",
   "metadata": {},
   "source": [
    "#### Checking the Unique Products"
   ]
  },
  {
   "cell_type": "code",
   "execution_count": 179,
   "metadata": {
    "colab": {
     "base_uri": "https://localhost:8080/"
    },
    "id": "J7m_3QRruJdj",
    "outputId": "d79c1226-0e2e-4412-b283-52df435da14a"
   },
   "outputs": [
    {
     "data": {
      "text/plain": [
       "271"
      ]
     },
     "execution_count": 179,
     "metadata": {},
     "output_type": "execute_result"
    }
   ],
   "source": [
    "#Total Unique products\n",
    "len(prod_df['name'].unique())"
   ]
  },
  {
   "cell_type": "code",
   "execution_count": 180,
   "metadata": {
    "id": "yTMlWqwnuJdp",
    "scrolled": true
   },
   "outputs": [
    {
     "data": {
      "text/plain": [
       "Clorox Disinfecting Wipes Value Pack Scented 150 Ct Total                         8545\n",
       "Godzilla 3d Includes Digital Copy Ultraviolet 3d/2d Blu-Ray/dvd                   3325\n",
       "Clorox Disinfecting Bathroom Cleaner                                              2039\n",
       "L'or233al Paris Elvive Extraordinary Clay Rebalancing Conditioner - 12.6 Fl Oz    1186\n",
       "Planes: Fire Rescue (2 Discs) (includes Digital Copy) (blu-Ray/dvd)               1143\n",
       "Name: name, dtype: int64"
      ]
     },
     "execution_count": 180,
     "metadata": {},
     "output_type": "execute_result"
    }
   ],
   "source": [
    "#checking top 5 products in the dataset based on their count\n",
    "prod_df['name'].value_counts()[:5]"
   ]
  },
  {
   "cell_type": "markdown",
   "metadata": {},
   "source": [
    "#### Checking the relation of Brand and Rating"
   ]
  },
  {
   "cell_type": "code",
   "execution_count": 181,
   "metadata": {},
   "outputs": [
    {
     "data": {
      "text/html": [
       "<div>\n",
       "<style scoped>\n",
       "    .dataframe tbody tr th:only-of-type {\n",
       "        vertical-align: middle;\n",
       "    }\n",
       "\n",
       "    .dataframe tbody tr th {\n",
       "        vertical-align: top;\n",
       "    }\n",
       "\n",
       "    .dataframe thead th {\n",
       "        text-align: right;\n",
       "    }\n",
       "</style>\n",
       "<table border=\"1\" class=\"dataframe\">\n",
       "  <thead>\n",
       "    <tr style=\"text-align: right;\">\n",
       "      <th></th>\n",
       "      <th>NoOfRatings</th>\n",
       "      <th>AverageRating</th>\n",
       "    </tr>\n",
       "    <tr>\n",
       "      <th>brand</th>\n",
       "      <th></th>\n",
       "      <th></th>\n",
       "    </tr>\n",
       "  </thead>\n",
       "  <tbody>\n",
       "    <tr>\n",
       "      <th>Avery</th>\n",
       "      <td>314</td>\n",
       "      <td>4.885350</td>\n",
       "    </tr>\n",
       "    <tr>\n",
       "      <th>Clorox</th>\n",
       "      <td>10585</td>\n",
       "      <td>4.824280</td>\n",
       "    </tr>\n",
       "    <tr>\n",
       "      <th>Chester's</th>\n",
       "      <td>177</td>\n",
       "      <td>4.819209</td>\n",
       "    </tr>\n",
       "    <tr>\n",
       "      <th>Lundberg</th>\n",
       "      <td>414</td>\n",
       "      <td>4.782609</td>\n",
       "    </tr>\n",
       "    <tr>\n",
       "      <th>Lysol</th>\n",
       "      <td>155</td>\n",
       "      <td>4.748387</td>\n",
       "    </tr>\n",
       "    <tr>\n",
       "      <th>Vaseline</th>\n",
       "      <td>254</td>\n",
       "      <td>4.748031</td>\n",
       "    </tr>\n",
       "    <tr>\n",
       "      <th>Warner Music Group</th>\n",
       "      <td>204</td>\n",
       "      <td>4.691176</td>\n",
       "    </tr>\n",
       "    <tr>\n",
       "      <th>Olay</th>\n",
       "      <td>637</td>\n",
       "      <td>4.687598</td>\n",
       "    </tr>\n",
       "    <tr>\n",
       "      <th>Disney</th>\n",
       "      <td>1200</td>\n",
       "      <td>4.687500</td>\n",
       "    </tr>\n",
       "    <tr>\n",
       "      <th>Sony Pictures</th>\n",
       "      <td>845</td>\n",
       "      <td>4.674556</td>\n",
       "    </tr>\n",
       "    <tr>\n",
       "      <th>Burt's Bees</th>\n",
       "      <td>881</td>\n",
       "      <td>4.650397</td>\n",
       "    </tr>\n",
       "    <tr>\n",
       "      <th>Coty</th>\n",
       "      <td>158</td>\n",
       "      <td>4.645570</td>\n",
       "    </tr>\n",
       "    <tr>\n",
       "      <th>Lionsgate</th>\n",
       "      <td>186</td>\n",
       "      <td>4.645161</td>\n",
       "    </tr>\n",
       "    <tr>\n",
       "      <th>Tostitos</th>\n",
       "      <td>286</td>\n",
       "      <td>4.622378</td>\n",
       "    </tr>\n",
       "    <tr>\n",
       "      <th>Summit Entertainment</th>\n",
       "      <td>813</td>\n",
       "      <td>4.585486</td>\n",
       "    </tr>\n",
       "    <tr>\n",
       "      <th>Universal Home Video</th>\n",
       "      <td>668</td>\n",
       "      <td>4.491018</td>\n",
       "    </tr>\n",
       "    <tr>\n",
       "      <th>Warner Bros.</th>\n",
       "      <td>458</td>\n",
       "      <td>4.484716</td>\n",
       "    </tr>\n",
       "    <tr>\n",
       "      <th>Hoover</th>\n",
       "      <td>362</td>\n",
       "      <td>4.389503</td>\n",
       "    </tr>\n",
       "    <tr>\n",
       "      <th>Cuisinart</th>\n",
       "      <td>103</td>\n",
       "      <td>4.388350</td>\n",
       "    </tr>\n",
       "    <tr>\n",
       "      <th>Pleasant Hearth</th>\n",
       "      <td>111</td>\n",
       "      <td>4.387387</td>\n",
       "    </tr>\n",
       "    <tr>\n",
       "      <th>Warner Home Video</th>\n",
       "      <td>3325</td>\n",
       "      <td>4.350677</td>\n",
       "    </tr>\n",
       "    <tr>\n",
       "      <th>FOX</th>\n",
       "      <td>887</td>\n",
       "      <td>4.335964</td>\n",
       "    </tr>\n",
       "    <tr>\n",
       "      <th>Hormel</th>\n",
       "      <td>196</td>\n",
       "      <td>4.311224</td>\n",
       "    </tr>\n",
       "    <tr>\n",
       "      <th>Pantene</th>\n",
       "      <td>154</td>\n",
       "      <td>4.285714</td>\n",
       "    </tr>\n",
       "    <tr>\n",
       "      <th>Storkcraft</th>\n",
       "      <td>264</td>\n",
       "      <td>4.257576</td>\n",
       "    </tr>\n",
       "    <tr>\n",
       "      <th>Just For Men</th>\n",
       "      <td>224</td>\n",
       "      <td>4.214286</td>\n",
       "    </tr>\n",
       "    <tr>\n",
       "      <th>Pendaflex</th>\n",
       "      <td>310</td>\n",
       "      <td>4.190323</td>\n",
       "    </tr>\n",
       "    <tr>\n",
       "      <th>Windex</th>\n",
       "      <td>348</td>\n",
       "      <td>4.129310</td>\n",
       "    </tr>\n",
       "    <tr>\n",
       "      <th>L'oreal Paris</th>\n",
       "      <td>1186</td>\n",
       "      <td>4.026981</td>\n",
       "    </tr>\n",
       "    <tr>\n",
       "      <th>L'Oreal Paris</th>\n",
       "      <td>124</td>\n",
       "      <td>3.629032</td>\n",
       "    </tr>\n",
       "    <tr>\n",
       "      <th>Aveeno</th>\n",
       "      <td>313</td>\n",
       "      <td>3.434505</td>\n",
       "    </tr>\n",
       "    <tr>\n",
       "      <th>Clear Scalp &amp; Hair Therapy</th>\n",
       "      <td>372</td>\n",
       "      <td>2.841398</td>\n",
       "    </tr>\n",
       "    <tr>\n",
       "      <th>Nexxus</th>\n",
       "      <td>693</td>\n",
       "      <td>1.359307</td>\n",
       "    </tr>\n",
       "  </tbody>\n",
       "</table>\n",
       "</div>"
      ],
      "text/plain": [
       "                            NoOfRatings  AverageRating\n",
       "brand                                                 \n",
       "Avery                               314       4.885350\n",
       "Clorox                            10585       4.824280\n",
       "Chester's                           177       4.819209\n",
       "Lundberg                            414       4.782609\n",
       "Lysol                               155       4.748387\n",
       "Vaseline                            254       4.748031\n",
       "Warner Music Group                  204       4.691176\n",
       "Olay                                637       4.687598\n",
       "Disney                             1200       4.687500\n",
       "Sony Pictures                       845       4.674556\n",
       "Burt's Bees                         881       4.650397\n",
       "Coty                                158       4.645570\n",
       "Lionsgate                           186       4.645161\n",
       "Tostitos                            286       4.622378\n",
       "Summit Entertainment                813       4.585486\n",
       "Universal Home Video                668       4.491018\n",
       "Warner Bros.                        458       4.484716\n",
       "Hoover                              362       4.389503\n",
       "Cuisinart                           103       4.388350\n",
       "Pleasant Hearth                     111       4.387387\n",
       "Warner Home Video                  3325       4.350677\n",
       "FOX                                 887       4.335964\n",
       "Hormel                              196       4.311224\n",
       "Pantene                             154       4.285714\n",
       "Storkcraft                          264       4.257576\n",
       "Just For Men                        224       4.214286\n",
       "Pendaflex                           310       4.190323\n",
       "Windex                              348       4.129310\n",
       "L'oreal Paris                      1186       4.026981\n",
       "L'Oreal Paris                       124       3.629032\n",
       "Aveeno                              313       3.434505\n",
       "Clear Scalp & Hair Therapy          372       2.841398\n",
       "Nexxus                              693       1.359307"
      ]
     },
     "execution_count": 181,
     "metadata": {},
     "output_type": "execute_result"
    }
   ],
   "source": [
    "df_manfc_rating = prod_df.pivot_table(index='brand' ,values = ['reviews_rating','id'] ,\n",
    "                                      aggfunc ={ 'reviews_rating':'mean','id':'count'} \n",
    "                                     ).rename(columns={'reviews_rating':'AverageRating','id':'NoOfRatings'})\n",
    "df_manfc_rating = df_manfc_rating[df_manfc_rating['NoOfRatings']>100].sort_values(by= ['AverageRating'], ascending =False)\n",
    "df_manfc_rating"
   ]
  },
  {
   "cell_type": "markdown",
   "metadata": {},
   "source": [
    "`considering more than 100 ratings for a given product , best products are  `\n",
    "- Avery\n",
    "- Clorox\n",
    "- Chester's\n",
    "- Lundberg"
   ]
  },
  {
   "cell_type": "code",
   "execution_count": 182,
   "metadata": {},
   "outputs": [
    {
     "data": {
      "text/plain": [
       "<matplotlib.axes._subplots.AxesSubplot at 0x1ebe5af6508>"
      ]
     },
     "execution_count": 182,
     "metadata": {},
     "output_type": "execute_result"
    },
    {
     "data": {
      "image/png": "[encoded data removed]",
      "text/plain": [
       "<Figure size 1440x360 with 1 Axes>"
      ]
     },
     "metadata": {},
     "output_type": "display_data"
    }
   ],
   "source": [
    "df_manfc_rating=df_manfc_rating.reset_index()\n",
    "df_manfc_rating.plot(title='Average rating based on Brand for which there are more than 100 reviews',kind='bar',x='brand',y='AverageRating',figsize=(20,5))"
   ]
  },
  {
   "cell_type": "markdown",
   "metadata": {},
   "source": [
    "#### Users can buy same product mulitple time and can give different reviews at different time for the same product. It looks like there are duplucate records if we see below columns together\n",
    "imp_cols= ['id','name','reviews_username','reviews_title','reviews_text','reviews_rating','reviews_date']"
   ]
  },
  {
   "cell_type": "code",
   "execution_count": 183,
   "metadata": {},
   "outputs": [
    {
     "name": "stdout",
     "output_type": "stream",
     "text": [
      "(30, 18)\n"
     ]
    },
    {
     "data": {
      "text/html": [
       "<div>\n",
       "<style scoped>\n",
       "    .dataframe tbody tr th:only-of-type {\n",
       "        vertical-align: middle;\n",
       "    }\n",
       "\n",
       "    .dataframe tbody tr th {\n",
       "        vertical-align: top;\n",
       "    }\n",
       "\n",
       "    .dataframe thead th {\n",
       "        text-align: right;\n",
       "    }\n",
       "</style>\n",
       "<table border=\"1\" class=\"dataframe\">\n",
       "  <thead>\n",
       "    <tr style=\"text-align: right;\">\n",
       "      <th></th>\n",
       "      <th>id</th>\n",
       "      <th>brand</th>\n",
       "      <th>categories</th>\n",
       "      <th>manufacturer</th>\n",
       "      <th>name</th>\n",
       "      <th>reviews_date</th>\n",
       "      <th>reviews_didPurchase</th>\n",
       "      <th>reviews_doRecommend</th>\n",
       "      <th>reviews_rating</th>\n",
       "      <th>reviews_text</th>\n",
       "      <th>reviews_title</th>\n",
       "      <th>reviews_userCity</th>\n",
       "      <th>reviews_userProvince</th>\n",
       "      <th>reviews_username</th>\n",
       "      <th>user_sentiment</th>\n",
       "      <th>reviews_length</th>\n",
       "      <th>date</th>\n",
       "      <th>year</th>\n",
       "    </tr>\n",
       "  </thead>\n",
       "  <tbody>\n",
       "    <tr>\n",
       "      <th>4317</th>\n",
       "      <td>AVpe9W4D1cnluZ0-avf0</td>\n",
       "      <td>Hoover</td>\n",
       "      <td>Home,Home Appliances,Vacuums &amp; Floor Care,Upri...</td>\n",
       "      <td>Hoover</td>\n",
       "      <td>Hoover174 Platinum Collection153 Lightweight B...</td>\n",
       "      <td>2010-10-28T00:00:00.000Z</td>\n",
       "      <td>False</td>\n",
       "      <td>True</td>\n",
       "      <td>5</td>\n",
       "      <td>WOW! I got mine from ... today and all I can s...</td>\n",
       "      <td>A++++++++++</td>\n",
       "      <td>NaN</td>\n",
       "      <td>NaN</td>\n",
       "      <td>ginab</td>\n",
       "      <td>Positive</td>\n",
       "      <td>705</td>\n",
       "      <td>2010-10-28 00:00:00+00:00</td>\n",
       "      <td>2010.0</td>\n",
       "    </tr>\n",
       "    <tr>\n",
       "      <th>4477</th>\n",
       "      <td>AVpe9W4D1cnluZ0-avf0</td>\n",
       "      <td>Hoover</td>\n",
       "      <td>Home,Home Appliances,Vacuums &amp; Floor Care,Upri...</td>\n",
       "      <td>Hoover</td>\n",
       "      <td>Hoover174 Platinum Collection153 Lightweight B...</td>\n",
       "      <td>2010-10-28T00:00:00.000Z</td>\n",
       "      <td>Review N/A</td>\n",
       "      <td>True</td>\n",
       "      <td>5</td>\n",
       "      <td>WOW! I got mine from ... today and all I can s...</td>\n",
       "      <td>A++++++++++</td>\n",
       "      <td>New Lenox</td>\n",
       "      <td>NaN</td>\n",
       "      <td>ginab</td>\n",
       "      <td>Positive</td>\n",
       "      <td>705</td>\n",
       "      <td>2010-10-28 00:00:00+00:00</td>\n",
       "      <td>2010.0</td>\n",
       "    </tr>\n",
       "    <tr>\n",
       "      <th>15031</th>\n",
       "      <td>AVpf4oLxLJeJML43FcxC</td>\n",
       "      <td>Avery</td>\n",
       "      <td>Office,Office Supplies,Office Organization,Bin...</td>\n",
       "      <td>Avery Dennison</td>\n",
       "      <td>Avery174 Ready Index Contemporary Table Of Con...</td>\n",
       "      <td>2009-08-11T00:00:00.000Z</td>\n",
       "      <td>Review N/A</td>\n",
       "      <td>True</td>\n",
       "      <td>4</td>\n",
       "      <td>I love the dividers- would be perfect to use i...</td>\n",
       "      <td>Avery Dividers</td>\n",
       "      <td>NaN</td>\n",
       "      <td>NaN</td>\n",
       "      <td>jojaz17</td>\n",
       "      <td>Positive</td>\n",
       "      <td>280</td>\n",
       "      <td>2009-08-11 00:00:00+00:00</td>\n",
       "      <td>2009.0</td>\n",
       "    </tr>\n",
       "    <tr>\n",
       "      <th>15034</th>\n",
       "      <td>AVpf4oLxLJeJML43FcxC</td>\n",
       "      <td>Avery</td>\n",
       "      <td>Office,Office Supplies,Office Organization,Bin...</td>\n",
       "      <td>Avery Dennison</td>\n",
       "      <td>Avery174 Ready Index Contemporary Table Of Con...</td>\n",
       "      <td>2009-08-11T00:00:00.000Z</td>\n",
       "      <td>False</td>\n",
       "      <td>True</td>\n",
       "      <td>4</td>\n",
       "      <td>I love the dividers- would be perfect to use i...</td>\n",
       "      <td>Avery Dividers</td>\n",
       "      <td>NaN</td>\n",
       "      <td>NaN</td>\n",
       "      <td>jojaz17</td>\n",
       "      <td>Positive</td>\n",
       "      <td>280</td>\n",
       "      <td>2009-08-11 00:00:00+00:00</td>\n",
       "      <td>2009.0</td>\n",
       "    </tr>\n",
       "    <tr>\n",
       "      <th>15056</th>\n",
       "      <td>AVpf4oLxLJeJML43FcxC</td>\n",
       "      <td>Avery</td>\n",
       "      <td>Office,Office Supplies,Office Organization,Bin...</td>\n",
       "      <td>Avery Dennison</td>\n",
       "      <td>Avery174 Ready Index Contemporary Table Of Con...</td>\n",
       "      <td>2010-02-10T00:00:00.000Z</td>\n",
       "      <td>Review N/A</td>\n",
       "      <td>True</td>\n",
       "      <td>5</td>\n",
       "      <td>The labels are easy to read the names on, not ...</td>\n",
       "      <td>Clearest Print On Labels</td>\n",
       "      <td>NaN</td>\n",
       "      <td>NaN</td>\n",
       "      <td>math69is</td>\n",
       "      <td>Positive</td>\n",
       "      <td>99</td>\n",
       "      <td>2010-02-10 00:00:00+00:00</td>\n",
       "      <td>2010.0</td>\n",
       "    </tr>\n",
       "    <tr>\n",
       "      <th>15057</th>\n",
       "      <td>AVpf4oLxLJeJML43FcxC</td>\n",
       "      <td>Avery</td>\n",
       "      <td>Office,Office Supplies,Office Organization,Bin...</td>\n",
       "      <td>Avery Dennison</td>\n",
       "      <td>Avery174 Ready Index Contemporary Table Of Con...</td>\n",
       "      <td>2011-12-06T00:00:00.000Z</td>\n",
       "      <td>Review N/A</td>\n",
       "      <td>True</td>\n",
       "      <td>5</td>\n",
       "      <td>I use these all the time and highly recommend ...</td>\n",
       "      <td>Best Dividers Available</td>\n",
       "      <td>NaN</td>\n",
       "      <td>NaN</td>\n",
       "      <td>atg29</td>\n",
       "      <td>Positive</td>\n",
       "      <td>400</td>\n",
       "      <td>2011-12-06 00:00:00+00:00</td>\n",
       "      <td>2011.0</td>\n",
       "    </tr>\n",
       "    <tr>\n",
       "      <th>15060</th>\n",
       "      <td>AVpf4oLxLJeJML43FcxC</td>\n",
       "      <td>Avery</td>\n",
       "      <td>Office,Office Supplies,Office Organization,Bin...</td>\n",
       "      <td>Avery Dennison</td>\n",
       "      <td>Avery174 Ready Index Contemporary Table Of Con...</td>\n",
       "      <td>2010-02-10T00:00:00.000Z</td>\n",
       "      <td>Review N/A</td>\n",
       "      <td>True</td>\n",
       "      <td>5</td>\n",
       "      <td>I use these notebooks for many projects, they ...</td>\n",
       "      <td>Highly Practical</td>\n",
       "      <td>NaN</td>\n",
       "      <td>NaN</td>\n",
       "      <td>sharon9527</td>\n",
       "      <td>Positive</td>\n",
       "      <td>74</td>\n",
       "      <td>2010-02-10 00:00:00+00:00</td>\n",
       "      <td>2010.0</td>\n",
       "    </tr>\n",
       "    <tr>\n",
       "      <th>15076</th>\n",
       "      <td>AVpf4oLxLJeJML43FcxC</td>\n",
       "      <td>Avery</td>\n",
       "      <td>Office,Office Supplies,Office Organization,Bin...</td>\n",
       "      <td>Avery Dennison</td>\n",
       "      <td>Avery174 Ready Index Contemporary Table Of Con...</td>\n",
       "      <td>2011-12-05T00:00:00.000Z</td>\n",
       "      <td>Review N/A</td>\n",
       "      <td>N/A</td>\n",
       "      <td>5</td>\n",
       "      <td>These dividers are essential wherever extra di...</td>\n",
       "      <td>Professional</td>\n",
       "      <td>NaN</td>\n",
       "      <td>NaN</td>\n",
       "      <td>gellis</td>\n",
       "      <td>Positive</td>\n",
       "      <td>322</td>\n",
       "      <td>2011-12-05 00:00:00+00:00</td>\n",
       "      <td>2011.0</td>\n",
       "    </tr>\n",
       "    <tr>\n",
       "      <th>15080</th>\n",
       "      <td>AVpf4oLxLJeJML43FcxC</td>\n",
       "      <td>Avery</td>\n",
       "      <td>Office,Office Supplies,Office Organization,Bin...</td>\n",
       "      <td>Avery Dennison</td>\n",
       "      <td>Avery174 Ready Index Contemporary Table Of Con...</td>\n",
       "      <td>2009-08-24T00:00:00.000Z</td>\n",
       "      <td>Review N/A</td>\n",
       "      <td>True</td>\n",
       "      <td>5</td>\n",
       "      <td>So how many words can I think of to speak of t...</td>\n",
       "      <td>Ready Index</td>\n",
       "      <td>NaN</td>\n",
       "      <td>NaN</td>\n",
       "      <td>c1a5</td>\n",
       "      <td>Positive</td>\n",
       "      <td>156</td>\n",
       "      <td>2009-08-24 00:00:00+00:00</td>\n",
       "      <td>2009.0</td>\n",
       "    </tr>\n",
       "    <tr>\n",
       "      <th>15081</th>\n",
       "      <td>AVpf4oLxLJeJML43FcxC</td>\n",
       "      <td>Avery</td>\n",
       "      <td>Office,Office Supplies,Office Organization,Bin...</td>\n",
       "      <td>Avery Dennison</td>\n",
       "      <td>Avery174 Ready Index Contemporary Table Of Con...</td>\n",
       "      <td>2009-08-24T00:00:00.000Z</td>\n",
       "      <td>Review N/A</td>\n",
       "      <td>True</td>\n",
       "      <td>5</td>\n",
       "      <td>It was great being able to set up my new spons...</td>\n",
       "      <td>Great Product</td>\n",
       "      <td>NaN</td>\n",
       "      <td>NaN</td>\n",
       "      <td>sscc</td>\n",
       "      <td>Positive</td>\n",
       "      <td>213</td>\n",
       "      <td>2009-08-24 00:00:00+00:00</td>\n",
       "      <td>2009.0</td>\n",
       "    </tr>\n",
       "    <tr>\n",
       "      <th>15082</th>\n",
       "      <td>AVpf4oLxLJeJML43FcxC</td>\n",
       "      <td>Avery</td>\n",
       "      <td>Office,Office Supplies,Office Organization,Bin...</td>\n",
       "      <td>Avery Dennison</td>\n",
       "      <td>Avery174 Ready Index Contemporary Table Of Con...</td>\n",
       "      <td>2009-08-24T00:00:00.000Z</td>\n",
       "      <td>Review N/A</td>\n",
       "      <td>True</td>\n",
       "      <td>5</td>\n",
       "      <td>The Ready Index Double Column Table of Content...</td>\n",
       "      <td>Excellent Product</td>\n",
       "      <td>NaN</td>\n",
       "      <td>NaN</td>\n",
       "      <td>patcps</td>\n",
       "      <td>Positive</td>\n",
       "      <td>394</td>\n",
       "      <td>2009-08-24 00:00:00+00:00</td>\n",
       "      <td>2009.0</td>\n",
       "    </tr>\n",
       "    <tr>\n",
       "      <th>15086</th>\n",
       "      <td>AVpf4oLxLJeJML43FcxC</td>\n",
       "      <td>Avery</td>\n",
       "      <td>Office,Office Supplies,Office Organization,Bin...</td>\n",
       "      <td>Avery Dennison</td>\n",
       "      <td>Avery174 Ready Index Contemporary Table Of Con...</td>\n",
       "      <td>2009-08-17T00:00:00.000Z</td>\n",
       "      <td>Review N/A</td>\n",
       "      <td>True</td>\n",
       "      <td>5</td>\n",
       "      <td>The sample arrived just in time for me to use ...</td>\n",
       "      <td>Great Idea</td>\n",
       "      <td>NaN</td>\n",
       "      <td>NaN</td>\n",
       "      <td>hrdwrkngmom</td>\n",
       "      <td>Positive</td>\n",
       "      <td>129</td>\n",
       "      <td>2009-08-17 00:00:00+00:00</td>\n",
       "      <td>2009.0</td>\n",
       "    </tr>\n",
       "    <tr>\n",
       "      <th>15092</th>\n",
       "      <td>AVpf4oLxLJeJML43FcxC</td>\n",
       "      <td>Avery</td>\n",
       "      <td>Office,Office Supplies,Office Organization,Bin...</td>\n",
       "      <td>Avery Dennison</td>\n",
       "      <td>Avery174 Ready Index Contemporary Table Of Con...</td>\n",
       "      <td>2009-08-11T00:00:00.000Z</td>\n",
       "      <td>Review N/A</td>\n",
       "      <td>True</td>\n",
       "      <td>5</td>\n",
       "      <td>I am well pleased with the product. It was eas...</td>\n",
       "      <td>Excelent Product</td>\n",
       "      <td>NaN</td>\n",
       "      <td>NaN</td>\n",
       "      <td>bluefox</td>\n",
       "      <td>Positive</td>\n",
       "      <td>101</td>\n",
       "      <td>2009-08-11 00:00:00+00:00</td>\n",
       "      <td>2009.0</td>\n",
       "    </tr>\n",
       "    <tr>\n",
       "      <th>15096</th>\n",
       "      <td>AVpf4oLxLJeJML43FcxC</td>\n",
       "      <td>Avery</td>\n",
       "      <td>Office,Office Supplies,Office Organization,Bin...</td>\n",
       "      <td>Avery Dennison</td>\n",
       "      <td>Avery174 Ready Index Contemporary Table Of Con...</td>\n",
       "      <td>2009-08-11T00:00:00.000Z</td>\n",
       "      <td>Review N/A</td>\n",
       "      <td>True</td>\n",
       "      <td>5</td>\n",
       "      <td>These were the handiest little index tabs I ha...</td>\n",
       "      <td>Ready Index</td>\n",
       "      <td>NaN</td>\n",
       "      <td>NaN</td>\n",
       "      <td>ready</td>\n",
       "      <td>Positive</td>\n",
       "      <td>128</td>\n",
       "      <td>2009-08-11 00:00:00+00:00</td>\n",
       "      <td>2009.0</td>\n",
       "    </tr>\n",
       "    <tr>\n",
       "      <th>15097</th>\n",
       "      <td>AVpf4oLxLJeJML43FcxC</td>\n",
       "      <td>Avery</td>\n",
       "      <td>Office,Office Supplies,Office Organization,Bin...</td>\n",
       "      <td>Avery Dennison</td>\n",
       "      <td>Avery174 Ready Index Contemporary Table Of Con...</td>\n",
       "      <td>2009-08-11T00:00:00.000Z</td>\n",
       "      <td>Review N/A</td>\n",
       "      <td>True</td>\n",
       "      <td>5</td>\n",
       "      <td>I tend to be disorganized with my paperwork. I...</td>\n",
       "      <td>Ready Index</td>\n",
       "      <td>NaN</td>\n",
       "      <td>NaN</td>\n",
       "      <td>bug1</td>\n",
       "      <td>Positive</td>\n",
       "      <td>192</td>\n",
       "      <td>2009-08-11 00:00:00+00:00</td>\n",
       "      <td>2009.0</td>\n",
       "    </tr>\n",
       "    <tr>\n",
       "      <th>15103</th>\n",
       "      <td>AVpf4oLxLJeJML43FcxC</td>\n",
       "      <td>Avery</td>\n",
       "      <td>Office,Office Supplies,Office Organization,Bin...</td>\n",
       "      <td>Avery Dennison</td>\n",
       "      <td>Avery174 Ready Index Contemporary Table Of Con...</td>\n",
       "      <td>2009-08-11T00:00:00.000Z</td>\n",
       "      <td>Review N/A</td>\n",
       "      <td>True</td>\n",
       "      <td>5</td>\n",
       "      <td>I used this in a Calibration book and it worke...</td>\n",
       "      <td>Good Purchas</td>\n",
       "      <td>NaN</td>\n",
       "      <td>NaN</td>\n",
       "      <td>labsec1</td>\n",
       "      <td>Positive</td>\n",
       "      <td>58</td>\n",
       "      <td>2009-08-11 00:00:00+00:00</td>\n",
       "      <td>2009.0</td>\n",
       "    </tr>\n",
       "    <tr>\n",
       "      <th>15106</th>\n",
       "      <td>AVpf4oLxLJeJML43FcxC</td>\n",
       "      <td>Avery</td>\n",
       "      <td>Office,Office Supplies,Office Organization,Bin...</td>\n",
       "      <td>Avery Dennison</td>\n",
       "      <td>Avery174 Ready Index Contemporary Table Of Con...</td>\n",
       "      <td>2010-02-10T00:00:00.000Z</td>\n",
       "      <td>Review N/A</td>\n",
       "      <td>True</td>\n",
       "      <td>5</td>\n",
       "      <td>i have used these Contemporary Ready Index Tab...</td>\n",
       "      <td>Great Product</td>\n",
       "      <td>NaN</td>\n",
       "      <td>NaN</td>\n",
       "      <td>dw5334</td>\n",
       "      <td>Positive</td>\n",
       "      <td>448</td>\n",
       "      <td>2010-02-10 00:00:00+00:00</td>\n",
       "      <td>2010.0</td>\n",
       "    </tr>\n",
       "    <tr>\n",
       "      <th>15133</th>\n",
       "      <td>AVpf4oLxLJeJML43FcxC</td>\n",
       "      <td>Avery</td>\n",
       "      <td>Office,Office Supplies,Office Organization,Bin...</td>\n",
       "      <td>Avery Dennison</td>\n",
       "      <td>Avery174 Ready Index Contemporary Table Of Con...</td>\n",
       "      <td>2011-12-06T00:00:00.000Z</td>\n",
       "      <td>False</td>\n",
       "      <td>True</td>\n",
       "      <td>5</td>\n",
       "      <td>I use these all the time and highly recommend ...</td>\n",
       "      <td>Best Dividers Available</td>\n",
       "      <td>NaN</td>\n",
       "      <td>NaN</td>\n",
       "      <td>atg29</td>\n",
       "      <td>Positive</td>\n",
       "      <td>400</td>\n",
       "      <td>2011-12-06 00:00:00+00:00</td>\n",
       "      <td>2011.0</td>\n",
       "    </tr>\n",
       "    <tr>\n",
       "      <th>15136</th>\n",
       "      <td>AVpf4oLxLJeJML43FcxC</td>\n",
       "      <td>Avery</td>\n",
       "      <td>Office,Office Supplies,Office Organization,Bin...</td>\n",
       "      <td>Avery Dennison</td>\n",
       "      <td>Avery174 Ready Index Contemporary Table Of Con...</td>\n",
       "      <td>2009-08-24T00:00:00.000Z</td>\n",
       "      <td>False</td>\n",
       "      <td>True</td>\n",
       "      <td>5</td>\n",
       "      <td>The Ready Index Double Column Table of Content...</td>\n",
       "      <td>Excellent Product</td>\n",
       "      <td>NaN</td>\n",
       "      <td>NaN</td>\n",
       "      <td>patcps</td>\n",
       "      <td>Positive</td>\n",
       "      <td>394</td>\n",
       "      <td>2009-08-24 00:00:00+00:00</td>\n",
       "      <td>2009.0</td>\n",
       "    </tr>\n",
       "    <tr>\n",
       "      <th>15182</th>\n",
       "      <td>AVpf4oLxLJeJML43FcxC</td>\n",
       "      <td>Avery</td>\n",
       "      <td>Office,Office Supplies,Office Organization,Bin...</td>\n",
       "      <td>Avery Dennison</td>\n",
       "      <td>Avery174 Ready Index Contemporary Table Of Con...</td>\n",
       "      <td>2010-02-10T00:00:00.000Z</td>\n",
       "      <td>False</td>\n",
       "      <td>True</td>\n",
       "      <td>5</td>\n",
       "      <td>i have used these Contemporary Ready Index Tab...</td>\n",
       "      <td>Great Product</td>\n",
       "      <td>NaN</td>\n",
       "      <td>NaN</td>\n",
       "      <td>dw5334</td>\n",
       "      <td>Positive</td>\n",
       "      <td>448</td>\n",
       "      <td>2010-02-10 00:00:00+00:00</td>\n",
       "      <td>2010.0</td>\n",
       "    </tr>\n",
       "    <tr>\n",
       "      <th>15198</th>\n",
       "      <td>AVpf4oLxLJeJML43FcxC</td>\n",
       "      <td>Avery</td>\n",
       "      <td>Office,Office Supplies,Office Organization,Bin...</td>\n",
       "      <td>Avery Dennison</td>\n",
       "      <td>Avery174 Ready Index Contemporary Table Of Con...</td>\n",
       "      <td>2011-12-05T00:00:00.000Z</td>\n",
       "      <td>False</td>\n",
       "      <td>False</td>\n",
       "      <td>5</td>\n",
       "      <td>These dividers are essential wherever extra di...</td>\n",
       "      <td>Professional</td>\n",
       "      <td>NaN</td>\n",
       "      <td>NaN</td>\n",
       "      <td>gellis</td>\n",
       "      <td>Positive</td>\n",
       "      <td>322</td>\n",
       "      <td>2011-12-05 00:00:00+00:00</td>\n",
       "      <td>2011.0</td>\n",
       "    </tr>\n",
       "    <tr>\n",
       "      <th>15211</th>\n",
       "      <td>AVpf4oLxLJeJML43FcxC</td>\n",
       "      <td>Avery</td>\n",
       "      <td>Office,Office Supplies,Office Organization,Bin...</td>\n",
       "      <td>Avery Dennison</td>\n",
       "      <td>Avery174 Ready Index Contemporary Table Of Con...</td>\n",
       "      <td>2009-08-24T00:00:00.000Z</td>\n",
       "      <td>False</td>\n",
       "      <td>True</td>\n",
       "      <td>5</td>\n",
       "      <td>It was great being able to set up my new spons...</td>\n",
       "      <td>Great Product</td>\n",
       "      <td>NaN</td>\n",
       "      <td>NaN</td>\n",
       "      <td>sscc</td>\n",
       "      <td>Positive</td>\n",
       "      <td>213</td>\n",
       "      <td>2009-08-24 00:00:00+00:00</td>\n",
       "      <td>2009.0</td>\n",
       "    </tr>\n",
       "    <tr>\n",
       "      <th>15246</th>\n",
       "      <td>AVpf4oLxLJeJML43FcxC</td>\n",
       "      <td>Avery</td>\n",
       "      <td>Office,Office Supplies,Office Organization,Bin...</td>\n",
       "      <td>Avery Dennison</td>\n",
       "      <td>Avery174 Ready Index Contemporary Table Of Con...</td>\n",
       "      <td>2009-08-11T00:00:00.000Z</td>\n",
       "      <td>False</td>\n",
       "      <td>True</td>\n",
       "      <td>5</td>\n",
       "      <td>I tend to be disorganized with my paperwork. I...</td>\n",
       "      <td>Ready Index</td>\n",
       "      <td>NaN</td>\n",
       "      <td>NaN</td>\n",
       "      <td>bug1</td>\n",
       "      <td>Positive</td>\n",
       "      <td>192</td>\n",
       "      <td>2009-08-11 00:00:00+00:00</td>\n",
       "      <td>2009.0</td>\n",
       "    </tr>\n",
       "    <tr>\n",
       "      <th>15267</th>\n",
       "      <td>AVpf4oLxLJeJML43FcxC</td>\n",
       "      <td>Avery</td>\n",
       "      <td>Office,Office Supplies,Office Organization,Bin...</td>\n",
       "      <td>Avery Dennison</td>\n",
       "      <td>Avery174 Ready Index Contemporary Table Of Con...</td>\n",
       "      <td>2009-08-24T00:00:00.000Z</td>\n",
       "      <td>False</td>\n",
       "      <td>True</td>\n",
       "      <td>5</td>\n",
       "      <td>So how many words can I think of to speak of t...</td>\n",
       "      <td>Ready Index</td>\n",
       "      <td>NaN</td>\n",
       "      <td>NaN</td>\n",
       "      <td>c1a5</td>\n",
       "      <td>Positive</td>\n",
       "      <td>156</td>\n",
       "      <td>2009-08-24 00:00:00+00:00</td>\n",
       "      <td>2009.0</td>\n",
       "    </tr>\n",
       "    <tr>\n",
       "      <th>15300</th>\n",
       "      <td>AVpf4oLxLJeJML43FcxC</td>\n",
       "      <td>Avery</td>\n",
       "      <td>Office,Office Supplies,Office Organization,Bin...</td>\n",
       "      <td>Avery Dennison</td>\n",
       "      <td>Avery174 Ready Index Contemporary Table Of Con...</td>\n",
       "      <td>2009-08-17T00:00:00.000Z</td>\n",
       "      <td>False</td>\n",
       "      <td>True</td>\n",
       "      <td>5</td>\n",
       "      <td>The sample arrived just in time for me to use ...</td>\n",
       "      <td>Great Idea</td>\n",
       "      <td>NaN</td>\n",
       "      <td>NaN</td>\n",
       "      <td>hrdwrkngmom</td>\n",
       "      <td>Positive</td>\n",
       "      <td>129</td>\n",
       "      <td>2009-08-17 00:00:00+00:00</td>\n",
       "      <td>2009.0</td>\n",
       "    </tr>\n",
       "    <tr>\n",
       "      <th>15301</th>\n",
       "      <td>AVpf4oLxLJeJML43FcxC</td>\n",
       "      <td>Avery</td>\n",
       "      <td>Office,Office Supplies,Office Organization,Bin...</td>\n",
       "      <td>Avery Dennison</td>\n",
       "      <td>Avery174 Ready Index Contemporary Table Of Con...</td>\n",
       "      <td>2009-08-11T00:00:00.000Z</td>\n",
       "      <td>False</td>\n",
       "      <td>True</td>\n",
       "      <td>5</td>\n",
       "      <td>These were the handiest little index tabs I ha...</td>\n",
       "      <td>Ready Index</td>\n",
       "      <td>NaN</td>\n",
       "      <td>NaN</td>\n",
       "      <td>ready</td>\n",
       "      <td>Positive</td>\n",
       "      <td>128</td>\n",
       "      <td>2009-08-11 00:00:00+00:00</td>\n",
       "      <td>2009.0</td>\n",
       "    </tr>\n",
       "    <tr>\n",
       "      <th>15313</th>\n",
       "      <td>AVpf4oLxLJeJML43FcxC</td>\n",
       "      <td>Avery</td>\n",
       "      <td>Office,Office Supplies,Office Organization,Bin...</td>\n",
       "      <td>Avery Dennison</td>\n",
       "      <td>Avery174 Ready Index Contemporary Table Of Con...</td>\n",
       "      <td>2009-08-11T00:00:00.000Z</td>\n",
       "      <td>False</td>\n",
       "      <td>True</td>\n",
       "      <td>5</td>\n",
       "      <td>I used this in a Calibration book and it worke...</td>\n",
       "      <td>Good Purchas</td>\n",
       "      <td>NaN</td>\n",
       "      <td>NaN</td>\n",
       "      <td>labsec1</td>\n",
       "      <td>Positive</td>\n",
       "      <td>58</td>\n",
       "      <td>2009-08-11 00:00:00+00:00</td>\n",
       "      <td>2009.0</td>\n",
       "    </tr>\n",
       "    <tr>\n",
       "      <th>15319</th>\n",
       "      <td>AVpf4oLxLJeJML43FcxC</td>\n",
       "      <td>Avery</td>\n",
       "      <td>Office,Office Supplies,Office Organization,Bin...</td>\n",
       "      <td>Avery Dennison</td>\n",
       "      <td>Avery174 Ready Index Contemporary Table Of Con...</td>\n",
       "      <td>2009-08-11T00:00:00.000Z</td>\n",
       "      <td>False</td>\n",
       "      <td>True</td>\n",
       "      <td>5</td>\n",
       "      <td>I am well pleased with the product. It was eas...</td>\n",
       "      <td>Excelent Product</td>\n",
       "      <td>NaN</td>\n",
       "      <td>NaN</td>\n",
       "      <td>bluefox</td>\n",
       "      <td>Positive</td>\n",
       "      <td>101</td>\n",
       "      <td>2009-08-11 00:00:00+00:00</td>\n",
       "      <td>2009.0</td>\n",
       "    </tr>\n",
       "    <tr>\n",
       "      <th>15320</th>\n",
       "      <td>AVpf4oLxLJeJML43FcxC</td>\n",
       "      <td>Avery</td>\n",
       "      <td>Office,Office Supplies,Office Organization,Bin...</td>\n",
       "      <td>Avery Dennison</td>\n",
       "      <td>Avery174 Ready Index Contemporary Table Of Con...</td>\n",
       "      <td>2010-02-10T00:00:00.000Z</td>\n",
       "      <td>False</td>\n",
       "      <td>True</td>\n",
       "      <td>5</td>\n",
       "      <td>The labels are easy to read the names on, not ...</td>\n",
       "      <td>Clearest Print On Labels</td>\n",
       "      <td>NaN</td>\n",
       "      <td>NaN</td>\n",
       "      <td>math69is</td>\n",
       "      <td>Positive</td>\n",
       "      <td>99</td>\n",
       "      <td>2010-02-10 00:00:00+00:00</td>\n",
       "      <td>2010.0</td>\n",
       "    </tr>\n",
       "    <tr>\n",
       "      <th>15328</th>\n",
       "      <td>AVpf4oLxLJeJML43FcxC</td>\n",
       "      <td>Avery</td>\n",
       "      <td>Office,Office Supplies,Office Organization,Bin...</td>\n",
       "      <td>Avery Dennison</td>\n",
       "      <td>Avery174 Ready Index Contemporary Table Of Con...</td>\n",
       "      <td>2010-02-10T00:00:00.000Z</td>\n",
       "      <td>False</td>\n",
       "      <td>True</td>\n",
       "      <td>5</td>\n",
       "      <td>I use these notebooks for many projects, they ...</td>\n",
       "      <td>Highly Practical</td>\n",
       "      <td>NaN</td>\n",
       "      <td>NaN</td>\n",
       "      <td>sharon9527</td>\n",
       "      <td>Positive</td>\n",
       "      <td>74</td>\n",
       "      <td>2010-02-10 00:00:00+00:00</td>\n",
       "      <td>2010.0</td>\n",
       "    </tr>\n",
       "  </tbody>\n",
       "</table>\n",
       "</div>"
      ],
      "text/plain": [
       "                         id   brand  \\\n",
       "4317   AVpe9W4D1cnluZ0-avf0  Hoover   \n",
       "4477   AVpe9W4D1cnluZ0-avf0  Hoover   \n",
       "15031  AVpf4oLxLJeJML43FcxC   Avery   \n",
       "15034  AVpf4oLxLJeJML43FcxC   Avery   \n",
       "15056  AVpf4oLxLJeJML43FcxC   Avery   \n",
       "15057  AVpf4oLxLJeJML43FcxC   Avery   \n",
       "15060  AVpf4oLxLJeJML43FcxC   Avery   \n",
       "15076  AVpf4oLxLJeJML43FcxC   Avery   \n",
       "15080  AVpf4oLxLJeJML43FcxC   Avery   \n",
       "15081  AVpf4oLxLJeJML43FcxC   Avery   \n",
       "15082  AVpf4oLxLJeJML43FcxC   Avery   \n",
       "15086  AVpf4oLxLJeJML43FcxC   Avery   \n",
       "15092  AVpf4oLxLJeJML43FcxC   Avery   \n",
       "15096  AVpf4oLxLJeJML43FcxC   Avery   \n",
       "15097  AVpf4oLxLJeJML43FcxC   Avery   \n",
       "15103  AVpf4oLxLJeJML43FcxC   Avery   \n",
       "15106  AVpf4oLxLJeJML43FcxC   Avery   \n",
       "15133  AVpf4oLxLJeJML43FcxC   Avery   \n",
       "15136  AVpf4oLxLJeJML43FcxC   Avery   \n",
       "15182  AVpf4oLxLJeJML43FcxC   Avery   \n",
       "15198  AVpf4oLxLJeJML43FcxC   Avery   \n",
       "15211  AVpf4oLxLJeJML43FcxC   Avery   \n",
       "15246  AVpf4oLxLJeJML43FcxC   Avery   \n",
       "15267  AVpf4oLxLJeJML43FcxC   Avery   \n",
       "15300  AVpf4oLxLJeJML43FcxC   Avery   \n",
       "15301  AVpf4oLxLJeJML43FcxC   Avery   \n",
       "15313  AVpf4oLxLJeJML43FcxC   Avery   \n",
       "15319  AVpf4oLxLJeJML43FcxC   Avery   \n",
       "15320  AVpf4oLxLJeJML43FcxC   Avery   \n",
       "15328  AVpf4oLxLJeJML43FcxC   Avery   \n",
       "\n",
       "                                              categories    manufacturer  \\\n",
       "4317   Home,Home Appliances,Vacuums & Floor Care,Upri...          Hoover   \n",
       "4477   Home,Home Appliances,Vacuums & Floor Care,Upri...          Hoover   \n",
       "15031  Office,Office Supplies,Office Organization,Bin...  Avery Dennison   \n",
       "15034  Office,Office Supplies,Office Organization,Bin...  Avery Dennison   \n",
       "15056  Office,Office Supplies,Office Organization,Bin...  Avery Dennison   \n",
       "15057  Office,Office Supplies,Office Organization,Bin...  Avery Dennison   \n",
       "15060  Office,Office Supplies,Office Organization,Bin...  Avery Dennison   \n",
       "15076  Office,Office Supplies,Office Organization,Bin...  Avery Dennison   \n",
       "15080  Office,Office Supplies,Office Organization,Bin...  Avery Dennison   \n",
       "15081  Office,Office Supplies,Office Organization,Bin...  Avery Dennison   \n",
       "15082  Office,Office Supplies,Office Organization,Bin...  Avery Dennison   \n",
       "15086  Office,Office Supplies,Office Organization,Bin...  Avery Dennison   \n",
       "15092  Office,Office Supplies,Office Organization,Bin...  Avery Dennison   \n",
       "15096  Office,Office Supplies,Office Organization,Bin...  Avery Dennison   \n",
       "15097  Office,Office Supplies,Office Organization,Bin...  Avery Dennison   \n",
       "15103  Office,Office Supplies,Office Organization,Bin...  Avery Dennison   \n",
       "15106  Office,Office Supplies,Office Organization,Bin...  Avery Dennison   \n",
       "15133  Office,Office Supplies,Office Organization,Bin...  Avery Dennison   \n",
       "15136  Office,Office Supplies,Office Organization,Bin...  Avery Dennison   \n",
       "15182  Office,Office Supplies,Office Organization,Bin...  Avery Dennison   \n",
       "15198  Office,Office Supplies,Office Organization,Bin...  Avery Dennison   \n",
       "15211  Office,Office Supplies,Office Organization,Bin...  Avery Dennison   \n",
       "15246  Office,Office Supplies,Office Organization,Bin...  Avery Dennison   \n",
       "15267  Office,Office Supplies,Office Organization,Bin...  Avery Dennison   \n",
       "15300  Office,Office Supplies,Office Organization,Bin...  Avery Dennison   \n",
       "15301  Office,Office Supplies,Office Organization,Bin...  Avery Dennison   \n",
       "15313  Office,Office Supplies,Office Organization,Bin...  Avery Dennison   \n",
       "15319  Office,Office Supplies,Office Organization,Bin...  Avery Dennison   \n",
       "15320  Office,Office Supplies,Office Organization,Bin...  Avery Dennison   \n",
       "15328  Office,Office Supplies,Office Organization,Bin...  Avery Dennison   \n",
       "\n",
       "                                                    name  \\\n",
       "4317   Hoover174 Platinum Collection153 Lightweight B...   \n",
       "4477   Hoover174 Platinum Collection153 Lightweight B...   \n",
       "15031  Avery174 Ready Index Contemporary Table Of Con...   \n",
       "15034  Avery174 Ready Index Contemporary Table Of Con...   \n",
       "15056  Avery174 Ready Index Contemporary Table Of Con...   \n",
       "15057  Avery174 Ready Index Contemporary Table Of Con...   \n",
       "15060  Avery174 Ready Index Contemporary Table Of Con...   \n",
       "15076  Avery174 Ready Index Contemporary Table Of Con...   \n",
       "15080  Avery174 Ready Index Contemporary Table Of Con...   \n",
       "15081  Avery174 Ready Index Contemporary Table Of Con...   \n",
       "15082  Avery174 Ready Index Contemporary Table Of Con...   \n",
       "15086  Avery174 Ready Index Contemporary Table Of Con...   \n",
       "15092  Avery174 Ready Index Contemporary Table Of Con...   \n",
       "15096  Avery174 Ready Index Contemporary Table Of Con...   \n",
       "15097  Avery174 Ready Index Contemporary Table Of Con...   \n",
       "15103  Avery174 Ready Index Contemporary Table Of Con...   \n",
       "15106  Avery174 Ready Index Contemporary Table Of Con...   \n",
       "15133  Avery174 Ready Index Contemporary Table Of Con...   \n",
       "15136  Avery174 Ready Index Contemporary Table Of Con...   \n",
       "15182  Avery174 Ready Index Contemporary Table Of Con...   \n",
       "15198  Avery174 Ready Index Contemporary Table Of Con...   \n",
       "15211  Avery174 Ready Index Contemporary Table Of Con...   \n",
       "15246  Avery174 Ready Index Contemporary Table Of Con...   \n",
       "15267  Avery174 Ready Index Contemporary Table Of Con...   \n",
       "15300  Avery174 Ready Index Contemporary Table Of Con...   \n",
       "15301  Avery174 Ready Index Contemporary Table Of Con...   \n",
       "15313  Avery174 Ready Index Contemporary Table Of Con...   \n",
       "15319  Avery174 Ready Index Contemporary Table Of Con...   \n",
       "15320  Avery174 Ready Index Contemporary Table Of Con...   \n",
       "15328  Avery174 Ready Index Contemporary Table Of Con...   \n",
       "\n",
       "                   reviews_date reviews_didPurchase reviews_doRecommend  \\\n",
       "4317   2010-10-28T00:00:00.000Z               False                True   \n",
       "4477   2010-10-28T00:00:00.000Z          Review N/A                True   \n",
       "15031  2009-08-11T00:00:00.000Z          Review N/A                True   \n",
       "15034  2009-08-11T00:00:00.000Z               False                True   \n",
       "15056  2010-02-10T00:00:00.000Z          Review N/A                True   \n",
       "15057  2011-12-06T00:00:00.000Z          Review N/A                True   \n",
       "15060  2010-02-10T00:00:00.000Z          Review N/A                True   \n",
       "15076  2011-12-05T00:00:00.000Z          Review N/A                 N/A   \n",
       "15080  2009-08-24T00:00:00.000Z          Review N/A                True   \n",
       "15081  2009-08-24T00:00:00.000Z          Review N/A                True   \n",
       "15082  2009-08-24T00:00:00.000Z          Review N/A                True   \n",
       "15086  2009-08-17T00:00:00.000Z          Review N/A                True   \n",
       "15092  2009-08-11T00:00:00.000Z          Review N/A                True   \n",
       "15096  2009-08-11T00:00:00.000Z          Review N/A                True   \n",
       "15097  2009-08-11T00:00:00.000Z          Review N/A                True   \n",
       "15103  2009-08-11T00:00:00.000Z          Review N/A                True   \n",
       "15106  2010-02-10T00:00:00.000Z          Review N/A                True   \n",
       "15133  2011-12-06T00:00:00.000Z               False                True   \n",
       "15136  2009-08-24T00:00:00.000Z               False                True   \n",
       "15182  2010-02-10T00:00:00.000Z               False                True   \n",
       "15198  2011-12-05T00:00:00.000Z               False               False   \n",
       "15211  2009-08-24T00:00:00.000Z               False                True   \n",
       "15246  2009-08-11T00:00:00.000Z               False                True   \n",
       "15267  2009-08-24T00:00:00.000Z               False                True   \n",
       "15300  2009-08-17T00:00:00.000Z               False                True   \n",
       "15301  2009-08-11T00:00:00.000Z               False                True   \n",
       "15313  2009-08-11T00:00:00.000Z               False                True   \n",
       "15319  2009-08-11T00:00:00.000Z               False                True   \n",
       "15320  2010-02-10T00:00:00.000Z               False                True   \n",
       "15328  2010-02-10T00:00:00.000Z               False                True   \n",
       "\n",
       "       reviews_rating                                       reviews_text  \\\n",
       "4317                5  WOW! I got mine from ... today and all I can s...   \n",
       "4477                5  WOW! I got mine from ... today and all I can s...   \n",
       "15031               4  I love the dividers- would be perfect to use i...   \n",
       "15034               4  I love the dividers- would be perfect to use i...   \n",
       "15056               5  The labels are easy to read the names on, not ...   \n",
       "15057               5  I use these all the time and highly recommend ...   \n",
       "15060               5  I use these notebooks for many projects, they ...   \n",
       "15076               5  These dividers are essential wherever extra di...   \n",
       "15080               5  So how many words can I think of to speak of t...   \n",
       "15081               5  It was great being able to set up my new spons...   \n",
       "15082               5  The Ready Index Double Column Table of Content...   \n",
       "15086               5  The sample arrived just in time for me to use ...   \n",
       "15092               5  I am well pleased with the product. It was eas...   \n",
       "15096               5  These were the handiest little index tabs I ha...   \n",
       "15097               5  I tend to be disorganized with my paperwork. I...   \n",
       "15103               5  I used this in a Calibration book and it worke...   \n",
       "15106               5  i have used these Contemporary Ready Index Tab...   \n",
       "15133               5  I use these all the time and highly recommend ...   \n",
       "15136               5  The Ready Index Double Column Table of Content...   \n",
       "15182               5  i have used these Contemporary Ready Index Tab...   \n",
       "15198               5  These dividers are essential wherever extra di...   \n",
       "15211               5  It was great being able to set up my new spons...   \n",
       "15246               5  I tend to be disorganized with my paperwork. I...   \n",
       "15267               5  So how many words can I think of to speak of t...   \n",
       "15300               5  The sample arrived just in time for me to use ...   \n",
       "15301               5  These were the handiest little index tabs I ha...   \n",
       "15313               5  I used this in a Calibration book and it worke...   \n",
       "15319               5  I am well pleased with the product. It was eas...   \n",
       "15320               5  The labels are easy to read the names on, not ...   \n",
       "15328               5  I use these notebooks for many projects, they ...   \n",
       "\n",
       "                  reviews_title reviews_userCity reviews_userProvince  \\\n",
       "4317                A++++++++++              NaN                  NaN   \n",
       "4477                A++++++++++        New Lenox                  NaN   \n",
       "15031            Avery Dividers              NaN                  NaN   \n",
       "15034            Avery Dividers              NaN                  NaN   \n",
       "15056  Clearest Print On Labels              NaN                  NaN   \n",
       "15057   Best Dividers Available              NaN                  NaN   \n",
       "15060          Highly Practical              NaN                  NaN   \n",
       "15076              Professional              NaN                  NaN   \n",
       "15080               Ready Index              NaN                  NaN   \n",
       "15081             Great Product              NaN                  NaN   \n",
       "15082         Excellent Product              NaN                  NaN   \n",
       "15086                Great Idea              NaN                  NaN   \n",
       "15092          Excelent Product              NaN                  NaN   \n",
       "15096               Ready Index              NaN                  NaN   \n",
       "15097               Ready Index              NaN                  NaN   \n",
       "15103              Good Purchas              NaN                  NaN   \n",
       "15106             Great Product              NaN                  NaN   \n",
       "15133   Best Dividers Available              NaN                  NaN   \n",
       "15136         Excellent Product              NaN                  NaN   \n",
       "15182             Great Product              NaN                  NaN   \n",
       "15198              Professional              NaN                  NaN   \n",
       "15211             Great Product              NaN                  NaN   \n",
       "15246               Ready Index              NaN                  NaN   \n",
       "15267               Ready Index              NaN                  NaN   \n",
       "15300                Great Idea              NaN                  NaN   \n",
       "15301               Ready Index              NaN                  NaN   \n",
       "15313              Good Purchas              NaN                  NaN   \n",
       "15319          Excelent Product              NaN                  NaN   \n",
       "15320  Clearest Print On Labels              NaN                  NaN   \n",
       "15328          Highly Practical              NaN                  NaN   \n",
       "\n",
       "      reviews_username user_sentiment  reviews_length  \\\n",
       "4317             ginab       Positive             705   \n",
       "4477             ginab       Positive             705   \n",
       "15031          jojaz17       Positive             280   \n",
       "15034          jojaz17       Positive             280   \n",
       "15056         math69is       Positive              99   \n",
       "15057            atg29       Positive             400   \n",
       "15060       sharon9527       Positive              74   \n",
       "15076           gellis       Positive             322   \n",
       "15080             c1a5       Positive             156   \n",
       "15081             sscc       Positive             213   \n",
       "15082           patcps       Positive             394   \n",
       "15086      hrdwrkngmom       Positive             129   \n",
       "15092          bluefox       Positive             101   \n",
       "15096            ready       Positive             128   \n",
       "15097             bug1       Positive             192   \n",
       "15103          labsec1       Positive              58   \n",
       "15106           dw5334       Positive             448   \n",
       "15133            atg29       Positive             400   \n",
       "15136           patcps       Positive             394   \n",
       "15182           dw5334       Positive             448   \n",
       "15198           gellis       Positive             322   \n",
       "15211             sscc       Positive             213   \n",
       "15246             bug1       Positive             192   \n",
       "15267             c1a5       Positive             156   \n",
       "15300      hrdwrkngmom       Positive             129   \n",
       "15301            ready       Positive             128   \n",
       "15313          labsec1       Positive              58   \n",
       "15319          bluefox       Positive             101   \n",
       "15320         math69is       Positive              99   \n",
       "15328       sharon9527       Positive              74   \n",
       "\n",
       "                           date    year  \n",
       "4317  2010-10-28 00:00:00+00:00  2010.0  \n",
       "4477  2010-10-28 00:00:00+00:00  2010.0  \n",
       "15031 2009-08-11 00:00:00+00:00  2009.0  \n",
       "15034 2009-08-11 00:00:00+00:00  2009.0  \n",
       "15056 2010-02-10 00:00:00+00:00  2010.0  \n",
       "15057 2011-12-06 00:00:00+00:00  2011.0  \n",
       "15060 2010-02-10 00:00:00+00:00  2010.0  \n",
       "15076 2011-12-05 00:00:00+00:00  2011.0  \n",
       "15080 2009-08-24 00:00:00+00:00  2009.0  \n",
       "15081 2009-08-24 00:00:00+00:00  2009.0  \n",
       "15082 2009-08-24 00:00:00+00:00  2009.0  \n",
       "15086 2009-08-17 00:00:00+00:00  2009.0  \n",
       "15092 2009-08-11 00:00:00+00:00  2009.0  \n",
       "15096 2009-08-11 00:00:00+00:00  2009.0  \n",
       "15097 2009-08-11 00:00:00+00:00  2009.0  \n",
       "15103 2009-08-11 00:00:00+00:00  2009.0  \n",
       "15106 2010-02-10 00:00:00+00:00  2010.0  \n",
       "15133 2011-12-06 00:00:00+00:00  2011.0  \n",
       "15136 2009-08-24 00:00:00+00:00  2009.0  \n",
       "15182 2010-02-10 00:00:00+00:00  2010.0  \n",
       "15198 2011-12-05 00:00:00+00:00  2011.0  \n",
       "15211 2009-08-24 00:00:00+00:00  2009.0  \n",
       "15246 2009-08-11 00:00:00+00:00  2009.0  \n",
       "15267 2009-08-24 00:00:00+00:00  2009.0  \n",
       "15300 2009-08-17 00:00:00+00:00  2009.0  \n",
       "15301 2009-08-11 00:00:00+00:00  2009.0  \n",
       "15313 2009-08-11 00:00:00+00:00  2009.0  \n",
       "15319 2009-08-11 00:00:00+00:00  2009.0  \n",
       "15320 2010-02-10 00:00:00+00:00  2010.0  \n",
       "15328 2010-02-10 00:00:00+00:00  2010.0  "
      ]
     },
     "execution_count": 183,
     "metadata": {},
     "output_type": "execute_result"
    }
   ],
   "source": [
    "#Lets check duplicates\n",
    "imp_cols= ['id','name','reviews_username','reviews_title','reviews_text','reviews_rating','reviews_date']\n",
    "duplicate_rows = prod_df[prod_df.duplicated(subset=imp_cols, keep=False)]\n",
    "print(duplicate_rows.shape)\n",
    "duplicate_rows"
   ]
  },
  {
   "cell_type": "code",
   "execution_count": 184,
   "metadata": {},
   "outputs": [
    {
     "data": {
      "text/plain": [
       "(29985, 18)"
      ]
     },
     "execution_count": 184,
     "metadata": {},
     "output_type": "execute_result"
    }
   ],
   "source": [
    "#removing the duplicate rows\n",
    "prod_df = prod_df.drop_duplicates(subset=imp_cols, keep='last')\n",
    "prod_df.shape"
   ]
  },
  {
   "cell_type": "markdown",
   "metadata": {},
   "source": [
    "### Data Cleaning"
   ]
  },
  {
   "cell_type": "code",
   "execution_count": 185,
   "metadata": {
    "colab": {
     "base_uri": "https://localhost:8080/"
    },
    "id": "_37JuHNh4YTW",
    "outputId": "7cdd6cb7-026a-46ac-cf27-d5e1315e8402"
   },
   "outputs": [
    {
     "name": "stdout",
     "output_type": "stream",
     "text": [
      "shape of prod_df before removing null records (29985, 18)\n",
      "shape of prod_df after removing null records (29984, 18)\n"
     ]
    }
   ],
   "source": [
    "# As we know that there is one null record for user sentiment , let drop it\n",
    "print(\"shape of prod_df before removing null records\", prod_df.shape)\n",
    "prod_df = prod_df[prod_df['user_sentiment'].notna()]\n",
    "print(\"shape of prod_df after removing null records\", prod_df.shape)"
   ]
  },
  {
   "cell_type": "code",
   "execution_count": 186,
   "metadata": {},
   "outputs": [
    {
     "data": {
      "text/plain": [
       "id                          0\n",
       "brand                       0\n",
       "categories                  0\n",
       "manufacturer              141\n",
       "name                        0\n",
       "reviews_date               46\n",
       "reviews_didPurchase         0\n",
       "reviews_doRecommend         0\n",
       "reviews_rating              0\n",
       "reviews_text                0\n",
       "reviews_title             190\n",
       "reviews_userCity        28055\n",
       "reviews_userProvince    29815\n",
       "reviews_username           63\n",
       "user_sentiment              0\n",
       "reviews_length              0\n",
       "date                       54\n",
       "year                       54\n",
       "dtype: int64"
      ]
     },
     "execution_count": 186,
     "metadata": {},
     "output_type": "execute_result"
    }
   ],
   "source": [
    "#checking the null %age again\n",
    "prod_df.isnull().sum()"
   ]
  },
  {
   "cell_type": "code",
   "execution_count": 187,
   "metadata": {
    "colab": {
     "base_uri": "https://localhost:8080/"
    },
    "id": "mGdOSmpiuJdk",
    "outputId": "9f1cb15e-c691-454b-c878-b4bdd8c1bb5f"
   },
   "outputs": [
    {
     "data": {
      "text/plain": [
       "Positive    88.770678\n",
       "Negative    11.229322\n",
       "Name: user_sentiment, dtype: float64"
      ]
     },
     "execution_count": 187,
     "metadata": {},
     "output_type": "execute_result"
    }
   ],
   "source": [
    "# Ratio of user_sentiment ( target column)\n",
    "prod_df['user_sentiment'].value_counts()/len(prod_df['user_sentiment'])*100"
   ]
  },
  {
   "cell_type": "markdown",
   "metadata": {
    "id": "ecazzUbeuJdk"
   },
   "source": [
    "`By Looking at the sentiment colunm , we can see class imbalance problem i.e. only 11% of the rows are having negative sentiments`"
   ]
  },
  {
   "cell_type": "code",
   "execution_count": 188,
   "metadata": {},
   "outputs": [
    {
     "data": {
      "text/plain": [
       "id                                                   AVpfrTyiLJeJML43BrSI\n",
       "brand                                                                UMGD\n",
       "categories              Movies, Music & Books,Music,Kids' Music,Music ...\n",
       "manufacturer                                          Walt Disney Records\n",
       "name                                Various Artists - Choo Choo Soul (cd)\n",
       "reviews_date                                     2015-12-26T12:56:24.000Z\n",
       "reviews_didPurchase                                            Review N/A\n",
       "reviews_doRecommend                                                  True\n",
       "reviews_rating                                                          5\n",
       "reviews_text            Love that it comes with a CD and DVD. My 2 boy...\n",
       "reviews_title                                            Choo - Choo Soul\n",
       "reviews_userCity                                                  Orlando\n",
       "reviews_userProvince                                                  NaN\n",
       "reviews_username                                                tristin02\n",
       "user_sentiment                                                   Positive\n",
       "reviews_length                                                        135\n",
       "date                                            2015-12-26 12:56:24+00:00\n",
       "year                                                                 2015\n",
       "Name: 28370, dtype: object"
      ]
     },
     "execution_count": 188,
     "metadata": {},
     "output_type": "execute_result"
    }
   ],
   "source": [
    "prod_df.iloc[28354]"
   ]
  },
  {
   "cell_type": "markdown",
   "metadata": {
    "id": "OHALZ8WkuJdk"
   },
   "source": [
    "## Pre-processing of review text"
   ]
  },
  {
   "cell_type": "markdown",
   "metadata": {
    "id": "MD9sx3i7uJdl"
   },
   "source": [
    "####  As we know that reviews with negative sentiments or lower ratings will have keywords like Not , wouldn't , WON'T. So we can exlude these from stops words so that our model can predict well."
   ]
  },
  {
   "cell_type": "code",
   "execution_count": 189,
   "metadata": {
    "colab": {
     "base_uri": "https://localhost:8080/",
     "height": 194
    },
    "id": "Tf-WSs6fuJdl",
    "outputId": "7868375f-cda6-455f-d8f9-e47698539fc7",
    "scrolled": true
   },
   "outputs": [
    {
     "data": {
      "text/html": [
       "<div>\n",
       "<style scoped>\n",
       "    .dataframe tbody tr th:only-of-type {\n",
       "        vertical-align: middle;\n",
       "    }\n",
       "\n",
       "    .dataframe tbody tr th {\n",
       "        vertical-align: top;\n",
       "    }\n",
       "\n",
       "    .dataframe thead th {\n",
       "        text-align: right;\n",
       "    }\n",
       "</style>\n",
       "<table border=\"1\" class=\"dataframe\">\n",
       "  <thead>\n",
       "    <tr style=\"text-align: right;\">\n",
       "      <th></th>\n",
       "      <th>reviews_text</th>\n",
       "    </tr>\n",
       "  </thead>\n",
       "  <tbody>\n",
       "    <tr>\n",
       "      <th>40</th>\n",
       "      <td>I WON'T recommend this product to anyone</td>\n",
       "    </tr>\n",
       "    <tr>\n",
       "      <th>1238</th>\n",
       "      <td>HAVING A 3 MONTH OLD DAUGHTER MEANS I HAVE NO ...</td>\n",
       "    </tr>\n",
       "    <tr>\n",
       "      <th>1245</th>\n",
       "      <td>I RECENTLY USED FINISH QUANTUM FOR THE FIRST T...</td>\n",
       "    </tr>\n",
       "    <tr>\n",
       "      <th>1538</th>\n",
       "      <td>IT WAS SUPPOSE TO BE A 2DISC ITEM,,,THERE WAS ...</td>\n",
       "    </tr>\n",
       "    <tr>\n",
       "      <th>1797</th>\n",
       "      <td>Would ABSOLUTELY NOT recommend. We could only ...</td>\n",
       "    </tr>\n",
       "  </tbody>\n",
       "</table>\n",
       "</div>"
      ],
      "text/plain": [
       "                                           reviews_text\n",
       "40             I WON'T recommend this product to anyone\n",
       "1238  HAVING A 3 MONTH OLD DAUGHTER MEANS I HAVE NO ...\n",
       "1245  I RECENTLY USED FINISH QUANTUM FOR THE FIRST T...\n",
       "1538  IT WAS SUPPOSE TO BE A 2DISC ITEM,,,THERE WAS ...\n",
       "1797  Would ABSOLUTELY NOT recommend. We could only ..."
      ]
     },
     "execution_count": 189,
     "metadata": {},
     "output_type": "execute_result"
    }
   ],
   "source": [
    "negative_comments = prod_df[(prod_df['user_sentiment']=='Negative') & ((prod_df['reviews_text'].str.contains(\"NOT\")) |(prod_df['reviews_text'].str.contains(\"N'T\")) )][['reviews_text']]\n",
    "negative_comments.head()"
   ]
  },
  {
   "cell_type": "code",
   "execution_count": 190,
   "metadata": {
    "colab": {
     "base_uri": "https://localhost:8080/"
    },
    "id": "HLhEGAZnyOAc",
    "outputId": "46ba944e-4874-4024-fcd6-e0407057911b"
   },
   "outputs": [
    {
     "name": "stderr",
     "output_type": "stream",
     "text": [
      "[nltk_data] Error loading stopwords: <urlopen error Tunnel connection\n",
      "[nltk_data]     failed: 407 Proxy Authentication Required>\n"
     ]
    }
   ],
   "source": [
    "# Downloads the data.\n",
    "import nltk\n",
    "nltk.download('stopwords')\n",
    "\n",
    "\n",
    "# Using the stopwords.\n",
    "from nltk.corpus import stopwords\n",
    "\n",
    "# Initialize the stopwords\n",
    "en_stops = stopwords.words('english')"
   ]
  },
  {
   "cell_type": "code",
   "execution_count": 191,
   "metadata": {
    "colab": {
     "base_uri": "https://localhost:8080/"
    },
    "id": "jXwA7DmkuJdl",
    "outputId": "64c43e47-e2ea-4ccd-c295-a83206e6b0e5",
    "scrolled": false
   },
   "outputs": [
    {
     "name": "stdout",
     "output_type": "stream",
     "text": [
      "['no', 'nor', 'not', \"don't\", 'now', \"aren't\", \"couldn't\", \"didn't\", \"doesn't\", \"hadn't\", \"hasn't\", \"haven't\", \"isn't\", \"mightn't\", \"mustn't\", \"needn't\", \"shan't\", \"shouldn't\", \"wasn't\", \"weren't\", \"won't\", \"wouldn't\"]\n"
     ]
    }
   ],
   "source": [
    "# checking the stop words\n",
    "excluding_stops = [ sword for sword in en_stops if 'n\\'t' in sword or 'not' in sword or 'no' in sword ]\n",
    "print(excluding_stops)"
   ]
  },
  {
   "cell_type": "code",
   "execution_count": 192,
   "metadata": {
    "colab": {
     "base_uri": "https://localhost:8080/"
    },
    "id": "OI2w2uJbuJdm",
    "outputId": "0f93d80e-4189-4e5c-b5cb-530240a635a7",
    "scrolled": true
   },
   "outputs": [
    {
     "name": "stdout",
     "output_type": "stream",
     "text": [
      "{'itself', 'were', 'was', 'couldn', 'do', 'your', 'm', 'so', 'this', 'have', 'wasn', 'more', 'being', 'o', 'very', 'over', 'needn', 'wouldn', 'did', 'the', 'it', 'ain', 'with', 'a', 'about', 'in', 'at', 'while', 'does', 'she', 'below', 'both', 'other', 'too', 'through', 'again', 'into', 'yours', 'herself', 'hadn', 'until', 'yourselves', 'hers', 'those', 'had', 'them', 'ours', \"should've\", 'what', 'should', 'against', 'has', 'we', 'but', 'off', 'its', 'own', 'll', \"you'll\", 'yourself', 'him', \"you've\", 'themselves', 'd', 'be', 're', \"that'll\", 'our', 'and', 'are', 'is', 'few', 'am', 'of', 'mightn', 'down', 'to', 'you', 's', 'that', 'their', 'aren', 'myself', 'don', \"you're\", 'been', 'why', 'during', 'theirs', 'before', 'didn', 'will', 'me', 'who', 'up', 'he', 'such', 'haven', 'where', 'most', 'just', 'as', 'her', 'all', 'for', 'only', 'doing', 'out', 'if', 'doesn', \"she's\", 'hasn', 'here', 'between', 'these', 'y', 'ourselves', 'there', 'each', 'than', 'how', 'by', 'my', 'having', 'isn', 'on', 'because', 'same', \"you'd\", 'can', 'shan', 'from', 'after', 'his', 'further', 'won', 'when', 'some', 'any', 'whom', 'above', 'then', 't', 'mustn', 'under', 'himself', 'they', 'weren', 'shouldn', 'once', 'ma', 'i', 'which', 've', \"it's\", 'an', 'or'}\n"
     ]
    }
   ],
   "source": [
    "# excluding the keywords like Not , wouldn't , WON'T.\n",
    "en_stops_excluded = set(en_stops)-set(excluding_stops)\n",
    "print(en_stops_excluded)"
   ]
  },
  {
   "cell_type": "code",
   "execution_count": 193,
   "metadata": {
    "id": "N2xFVMQouJdm"
   },
   "outputs": [],
   "source": [
    "# List of apostrophes which needs to be replaced \n",
    "appos = {\n",
    "\"aren't\" : \"are not\",\n",
    "\"can't\" : \"cannot\",\n",
    "\"couldn't\" : \"could not\",\n",
    "\"didn't\" : \"did not\",\n",
    "\"doesn't\" : \"does not\",\n",
    "\"don't\" : \"do not\",\n",
    "\"hadn't\" : \"had not\",\n",
    "\"hasn't\" : \"has not\",\n",
    "\"haven't\" : \"have not\",\n",
    "\"mightn't\" : \"might not\",\n",
    "\"mustn't\" : \"must not\",\n",
    "\"shan't\" : \"shall not\",\n",
    "\"shouldn't\" : \"should not\",\n",
    "\"weren't\" : \"were not\",\n",
    "\"won't\" : \"will not\",\n",
    "\"wouldn't\" : \"would not\",\n",
    "\"nt\":\"not\"\n",
    "}"
   ]
  },
  {
   "cell_type": "markdown",
   "metadata": {
    "id": "cO9rWgnkuJdm"
   },
   "source": [
    "`Creating review_preprocess function to  preprocess and clean the reviews`"
   ]
  },
  {
   "cell_type": "code",
   "execution_count": 194,
   "metadata": {
    "id": "1XDgJORjuJdm"
   },
   "outputs": [],
   "source": [
    "import string\n",
    "def review_preprocess(review, exlude_notKeywords=True):\n",
    "    \"\"\"\n",
    "    Takes in a string of review, then performs the following:\n",
    "    1. Remove HTML tag from review\n",
    "    2. Remove URLs from review\n",
    "    3. Make entire review lowercase and Replace apostrophes with words    \n",
    "    4. Split the review in words\n",
    "    5. Remove all punctuation\n",
    "    6. Remove empty strings from review\n",
    "    7. Remove all stopwords\n",
    "    8. Returns a list of the cleaned review after jioning them back to a sentence\n",
    "    \"\"\"\n",
    "    \"\"\"\n",
    "    Removing HTML tag from review\n",
    "    \"\"\"\n",
    "    clean = re.compile('<.*?>')\n",
    "    review_without_tag = re.sub(clean, '', str(review) )\n",
    "    \n",
    "    \n",
    "    \"\"\"\n",
    "    Removing URLs\n",
    "    \"\"\"\n",
    "    review_without_tag_and_url = re.sub(r\"http\\S+\", \"\", review_without_tag)\n",
    "    \n",
    "    review_without_tag_and_url = re.sub(r\"www\\S+\", \"\", review_without_tag)\n",
    "    \n",
    "    \"\"\"\n",
    "    Make entire string lowercase\n",
    "    \"\"\"\n",
    "    review_lowercase = review_without_tag_and_url.lower()\n",
    "    \n",
    "    \"\"\"\n",
    "    Replace apostrophes with words\n",
    "    \"\"\"\n",
    "    appos_replaced_words = split = \" \".join([appos[word] if word in appos else word for word in review_lowercase.split()])\n",
    "    \n",
    "    \"\"\"\n",
    "    Split string into words\n",
    "    \"\"\"\n",
    "    list_of_words = word_tokenize(appos_replaced_words)\n",
    "    \n",
    "    \n",
    "    \"\"\"\n",
    "    Remove punctuation\n",
    "    Checking characters to see if they are in punctuation\n",
    "    \"\"\"\n",
    "\n",
    "    list_of_words_without_punctuation=[''.join(this_char for this_char in this_string if (this_char in string.ascii_lowercase))for this_string in list_of_words]\n",
    "     \n",
    "    \n",
    "    \"\"\"\n",
    "    Remove empty strings\n",
    "    \"\"\"\n",
    "    list_of_words_without_punctuation = list(filter(None, list_of_words_without_punctuation))\n",
    "    \n",
    "    \n",
    "    \"\"\"\n",
    "    Remove any stopwords\n",
    "    \"\"\"\n",
    "    if exlude_notKeywords:\n",
    "        filtered_word_list = [w for w in list_of_words_without_punctuation if w not in en_stops_excluded] \n",
    "    else:\n",
    "        filtered_word_list = [w for w in list_of_words_without_punctuation if w not in en_stops]\n",
    "    \n",
    "    \"\"\"\n",
    "    Returns a list of the cleaned review after jioning them back to a sentence\n",
    "    \"\"\"\n",
    "    return ' '.join(filtered_word_list)\n",
    "\n",
    "    "
   ]
  },
  {
   "cell_type": "code",
   "execution_count": 195,
   "metadata": {
    "colab": {
     "base_uri": "https://localhost:8080/"
    },
    "id": "kixjtT2SzIrL",
    "outputId": "cac5fcfb-578f-4f0f-b83d-f5df45aeab04"
   },
   "outputs": [
    {
     "name": "stderr",
     "output_type": "stream",
     "text": [
      "[nltk_data] Error loading punkt: <urlopen error Tunnel connection\n",
      "[nltk_data]     failed: 407 Proxy Authentication Required>\n"
     ]
    },
    {
     "data": {
      "text/plain": [
       "False"
      ]
     },
     "execution_count": 195,
     "metadata": {},
     "output_type": "execute_result"
    }
   ],
   "source": [
    "import nltk\n",
    "nltk.download('punkt')"
   ]
  },
  {
   "cell_type": "code",
   "execution_count": 196,
   "metadata": {
    "colab": {
     "base_uri": "https://localhost:8080/"
    },
    "id": "s7MhSn-MuJdn",
    "outputId": "ea9b79ab-f91a-403c-d83b-4c0e692fcb94"
   },
   "outputs": [
    {
     "name": "stdout",
     "output_type": "stream",
     "text": [
      "Before Pre processing :- I WON'T recommend this product to anyone\n",
      "After Pre processing :- not recommend product anyone\n"
     ]
    }
   ],
   "source": [
    "random_review = negative_comments[\"reviews_text\"][40]\n",
    "print(\"Before Pre processing :-\"  , random_review)\n",
    "processed_review= review_preprocess(random_review)\n",
    "print(\"After Pre processing :-\"  , processed_review)"
   ]
  },
  {
   "cell_type": "markdown",
   "metadata": {},
   "source": [
    "### As we have to build our model based on reviews_text and reviews_title . Lets concatenate both the columns"
   ]
  },
  {
   "cell_type": "code",
   "execution_count": 197,
   "metadata": {},
   "outputs": [
    {
     "data": {
      "text/plain": [
       "0    Just Awesome i love this album. it's very good...\n",
       "1    Good Good flavor. This review was collected as...\n",
       "2                                    Good Good flavor.\n",
       "3    Disappointed I read through the reviews on her...\n",
       "4    Irritation My husband bought this gel for us. ...\n",
       "Name: concat_title_reviews, dtype: object"
      ]
     },
     "execution_count": 197,
     "metadata": {},
     "output_type": "execute_result"
    }
   ],
   "source": [
    "\n",
    "prod_df['concat_title_reviews'] = prod_df['reviews_title'].fillna(' ')+\" \"+prod_df['reviews_text'].fillna(' ')\n",
    "prod_df['concat_title_reviews'].head(5)"
   ]
  },
  {
   "cell_type": "markdown",
   "metadata": {
    "id": "KvinabbCuJdn"
   },
   "source": [
    "#### Applying pre-processing to reviews"
   ]
  },
  {
   "cell_type": "code",
   "execution_count": 198,
   "metadata": {
    "id": "rC_9LWW-uJdn"
   },
   "outputs": [
    {
     "name": "stdout",
     "output_type": "stream",
     "text": [
      "Elapsed time for review preprocessing :  0.5673116763432821  in minutes\n"
     ]
    }
   ],
   "source": [
    "import time\n",
    "start_time=time.time()\n",
    "prod_df['reviews_text_processed']=prod_df['concat_title_reviews'].apply(review_preprocess)\n",
    "print('Elapsed time for review preprocessing : ',((time.time()-start_time)/60),' in minutes')"
   ]
  },
  {
   "cell_type": "code",
   "execution_count": 199,
   "metadata": {
    "id": "ZnJhYsXzuJdn"
   },
   "outputs": [
    {
     "data": {
      "text/plain": [
       "0    awesome love album good hip hop side current p...\n",
       "1     good good flavor review collected part promotion\n",
       "2                                     good good flavor\n",
       "3    disappointed read reviews looking buying one c...\n",
       "4    irritation husband bought gel us gel caused ir...\n",
       "Name: reviews_text_processed, dtype: object"
      ]
     },
     "execution_count": 199,
     "metadata": {},
     "output_type": "execute_result"
    }
   ],
   "source": [
    "#After processing \n",
    "prod_df['reviews_text_processed'].head()"
   ]
  },
  {
   "cell_type": "code",
   "execution_count": 200,
   "metadata": {
    "id": "H-Q5KpNjuJdo"
   },
   "outputs": [],
   "source": [
    "#pip install --user imbalanced-learn==0.5"
   ]
  },
  {
   "cell_type": "code",
   "execution_count": 201,
   "metadata": {
    "id": "nv_XDfkg1kQJ"
   },
   "outputs": [
    {
     "data": {
      "text/html": [
       "<div>\n",
       "<style scoped>\n",
       "    .dataframe tbody tr th:only-of-type {\n",
       "        vertical-align: middle;\n",
       "    }\n",
       "\n",
       "    .dataframe tbody tr th {\n",
       "        vertical-align: top;\n",
       "    }\n",
       "\n",
       "    .dataframe thead th {\n",
       "        text-align: right;\n",
       "    }\n",
       "</style>\n",
       "<table border=\"1\" class=\"dataframe\">\n",
       "  <thead>\n",
       "    <tr style=\"text-align: right;\">\n",
       "      <th></th>\n",
       "      <th>final_sentiment</th>\n",
       "      <th>user_sentiment</th>\n",
       "    </tr>\n",
       "  </thead>\n",
       "  <tbody>\n",
       "    <tr>\n",
       "      <th>0</th>\n",
       "      <td>1</td>\n",
       "      <td>Positive</td>\n",
       "    </tr>\n",
       "    <tr>\n",
       "      <th>1</th>\n",
       "      <td>1</td>\n",
       "      <td>Positive</td>\n",
       "    </tr>\n",
       "    <tr>\n",
       "      <th>2</th>\n",
       "      <td>1</td>\n",
       "      <td>Positive</td>\n",
       "    </tr>\n",
       "    <tr>\n",
       "      <th>3</th>\n",
       "      <td>0</td>\n",
       "      <td>Negative</td>\n",
       "    </tr>\n",
       "    <tr>\n",
       "      <th>4</th>\n",
       "      <td>0</td>\n",
       "      <td>Negative</td>\n",
       "    </tr>\n",
       "  </tbody>\n",
       "</table>\n",
       "</div>"
      ],
      "text/plain": [
       "   final_sentiment user_sentiment\n",
       "0                1       Positive\n",
       "1                1       Positive\n",
       "2                1       Positive\n",
       "3                0       Negative\n",
       "4                0       Negative"
      ]
     },
     "execution_count": 201,
     "metadata": {},
     "output_type": "execute_result"
    }
   ],
   "source": [
    "#converting the user_sentiment to 0 or 1\n",
    "user_sentiment_int = {\"Positive\":1 , \"Negative\":0}\n",
    "prod_df['final_sentiment'] =prod_df['user_sentiment'].map(user_sentiment_int)  #.apply(lambda x : 1 if x==\"Positive\" else 0 )\n",
    "prod_df[['final_sentiment','user_sentiment']].head()"
   ]
  },
  {
   "cell_type": "code",
   "execution_count": 202,
   "metadata": {
    "scrolled": true
   },
   "outputs": [
    {
     "data": {
      "text/html": [
       "<div>\n",
       "<style scoped>\n",
       "    .dataframe tbody tr th:only-of-type {\n",
       "        vertical-align: middle;\n",
       "    }\n",
       "\n",
       "    .dataframe tbody tr th {\n",
       "        vertical-align: top;\n",
       "    }\n",
       "\n",
       "    .dataframe thead th {\n",
       "        text-align: right;\n",
       "    }\n",
       "</style>\n",
       "<table border=\"1\" class=\"dataframe\">\n",
       "  <thead>\n",
       "    <tr style=\"text-align: right;\">\n",
       "      <th></th>\n",
       "      <th>reviews_title</th>\n",
       "      <th>reviews_text</th>\n",
       "      <th>concat_title_reviews</th>\n",
       "      <th>reviews_text_processed</th>\n",
       "    </tr>\n",
       "  </thead>\n",
       "  <tbody>\n",
       "    <tr>\n",
       "      <th>1239</th>\n",
       "      <td>NaN</td>\n",
       "      <td>Great quality and a great price</td>\n",
       "      <td>Great quality and a great price</td>\n",
       "      <td>great quality great price</td>\n",
       "    </tr>\n",
       "    <tr>\n",
       "      <th>1441</th>\n",
       "      <td>NaN</td>\n",
       "      <td>Wanted to love this but it's a bit too heavy f...</td>\n",
       "      <td>Wanted to love this but it's a bit too heavy...</td>\n",
       "      <td>wanted love bit heavy mild psoriasis seemed ma...</td>\n",
       "    </tr>\n",
       "    <tr>\n",
       "      <th>1442</th>\n",
       "      <td>NaN</td>\n",
       "      <td>I have thick coarse hair and for me this just ...</td>\n",
       "      <td>I have thick coarse hair and for me this jus...</td>\n",
       "      <td>thick coarse hair worked ok not smooth much pr...</td>\n",
       "    </tr>\n",
       "    <tr>\n",
       "      <th>1443</th>\n",
       "      <td>NaN</td>\n",
       "      <td>Wanted to love this but it's a bit too heavy f...</td>\n",
       "      <td>Wanted to love this but it's a bit too heavy...</td>\n",
       "      <td>wanted love bit heavy mild psoriasis seemed ma...</td>\n",
       "    </tr>\n",
       "    <tr>\n",
       "      <th>1444</th>\n",
       "      <td>NaN</td>\n",
       "      <td>I actually really enjoy this conditioner. Have...</td>\n",
       "      <td>I actually really enjoy this conditioner. Ha...</td>\n",
       "      <td>actually really enjoy conditioner tried whole ...</td>\n",
       "    </tr>\n",
       "    <tr>\n",
       "      <th>1447</th>\n",
       "      <td>NaN</td>\n",
       "      <td>This is a great product. I really like the sce...</td>\n",
       "      <td>This is a great product. I really like the s...</td>\n",
       "      <td>great product really like scent works well hair</td>\n",
       "    </tr>\n",
       "    <tr>\n",
       "      <th>1448</th>\n",
       "      <td>NaN</td>\n",
       "      <td>Leaves my hair soft and shiny and smells nice ...</td>\n",
       "      <td>Leaves my hair soft and shiny and smells nic...</td>\n",
       "      <td>leaves hair soft shiny smells nice</td>\n",
       "    </tr>\n",
       "    <tr>\n",
       "      <th>1449</th>\n",
       "      <td>NaN</td>\n",
       "      <td>Great conditioner. Have not used this scent ye...</td>\n",
       "      <td>Great conditioner. Have not used this scent ...</td>\n",
       "      <td>great conditioner not used scent yet seaweed b...</td>\n",
       "    </tr>\n",
       "    <tr>\n",
       "      <th>1461</th>\n",
       "      <td>NaN</td>\n",
       "      <td>The All Purpose Cleaner arrived quickly and in...</td>\n",
       "      <td>The All Purpose Cleaner arrived quickly and ...</td>\n",
       "      <td>purpose cleaner arrived quickly intact work we...</td>\n",
       "    </tr>\n",
       "    <tr>\n",
       "      <th>1462</th>\n",
       "      <td>NaN</td>\n",
       "      <td>Bought this product with the 32 oz refill bott...</td>\n",
       "      <td>Bought this product with the 32 oz refill bo...</td>\n",
       "      <td>bought product oz refill bottle product works ...</td>\n",
       "    </tr>\n",
       "    <tr>\n",
       "      <th>1465</th>\n",
       "      <td>NaN</td>\n",
       "      <td>I love the fact that this doesn't have any che...</td>\n",
       "      <td>I love the fact that this doesn't have any c...</td>\n",
       "      <td>love fact not chemicals</td>\n",
       "    </tr>\n",
       "    <tr>\n",
       "      <th>1466</th>\n",
       "      <td>NaN</td>\n",
       "      <td>Love all the Biokleen product-line. This one i...</td>\n",
       "      <td>Love all the Biokleen product-line. This one...</td>\n",
       "      <td>love biokleen productline one also great clean...</td>\n",
       "    </tr>\n",
       "    <tr>\n",
       "      <th>1467</th>\n",
       "      <td>NaN</td>\n",
       "      <td>Cleans well and smells great -- fresh and natu...</td>\n",
       "      <td>Cleans well and smells great -- fresh and na...</td>\n",
       "      <td>cleans well smells great fresh natural opposed...</td>\n",
       "    </tr>\n",
       "    <tr>\n",
       "      <th>1468</th>\n",
       "      <td>NaN</td>\n",
       "      <td>Love this cleaner. Since discovering it a few ...</td>\n",
       "      <td>Love this cleaner. Since discovering it a fe...</td>\n",
       "      <td>love cleaner since discovering years ago now c...</td>\n",
       "    </tr>\n",
       "    <tr>\n",
       "      <th>2578</th>\n",
       "      <td>NaN</td>\n",
       "      <td>DOESN'T REALLY WORK. SUPER MESSY/STICKY.</td>\n",
       "      <td>DOESN'T REALLY WORK. SUPER MESSY/STICKY.</td>\n",
       "      <td>not really work super messysticky</td>\n",
       "    </tr>\n",
       "    <tr>\n",
       "      <th>2579</th>\n",
       "      <td>NaN</td>\n",
       "      <td>I like these strips much more than messing wit...</td>\n",
       "      <td>I like these strips much more than messing w...</td>\n",
       "      <td>like strips much messing warm sticky applicati...</td>\n",
       "    </tr>\n",
       "    <tr>\n",
       "      <th>2580</th>\n",
       "      <td>NaN</td>\n",
       "      <td>These wax strips work better than Nads or Sall...</td>\n",
       "      <td>These wax strips work better than Nads or Sa...</td>\n",
       "      <td>wax strips work better nads sally hansen upper...</td>\n",
       "    </tr>\n",
       "    <tr>\n",
       "      <th>2581</th>\n",
       "      <td>NaN</td>\n",
       "      <td>Works well, easy to use.</td>\n",
       "      <td>Works well, easy to use.</td>\n",
       "      <td>works well easy use</td>\n",
       "    </tr>\n",
       "    <tr>\n",
       "      <th>2582</th>\n",
       "      <td>NaN</td>\n",
       "      <td>This worked really well.</td>\n",
       "      <td>This worked really well.</td>\n",
       "      <td>worked really well</td>\n",
       "    </tr>\n",
       "    <tr>\n",
       "      <th>3324</th>\n",
       "      <td>NaN</td>\n",
       "      <td>loved these for my snacking will be getting mo...</td>\n",
       "      <td>loved these for my snacking will be getting ...</td>\n",
       "      <td>loved snacking getting get flavors</td>\n",
       "    </tr>\n",
       "    <tr>\n",
       "      <th>3325</th>\n",
       "      <td>NaN</td>\n",
       "      <td>Very solid. I like this with salsa as well.</td>\n",
       "      <td>Very solid. I like this with salsa as well.</td>\n",
       "      <td>solid like salsa well</td>\n",
       "    </tr>\n",
       "    <tr>\n",
       "      <th>3326</th>\n",
       "      <td>NaN</td>\n",
       "      <td>I love these bean chips.</td>\n",
       "      <td>I love these bean chips.</td>\n",
       "      <td>love bean chips</td>\n",
       "    </tr>\n",
       "    <tr>\n",
       "      <th>3327</th>\n",
       "      <td>NaN</td>\n",
       "      <td>Great with hummus!</td>\n",
       "      <td>Great with hummus!</td>\n",
       "      <td>great hummus</td>\n",
       "    </tr>\n",
       "    <tr>\n",
       "      <th>3464</th>\n",
       "      <td>NaN</td>\n",
       "      <td>We LOVE our coffee table. It's beautiful and a...</td>\n",
       "      <td>We LOVE our coffee table. It's beautiful and...</td>\n",
       "      <td>love coffee table beautiful good quality would...</td>\n",
       "    </tr>\n",
       "    <tr>\n",
       "      <th>3465</th>\n",
       "      <td>NaN</td>\n",
       "      <td>not bad</td>\n",
       "      <td>not bad</td>\n",
       "      <td>not bad</td>\n",
       "    </tr>\n",
       "    <tr>\n",
       "      <th>3467</th>\n",
       "      <td>NaN</td>\n",
       "      <td>Great cereal. Kids love it.</td>\n",
       "      <td>Great cereal. Kids love it.</td>\n",
       "      <td>great cereal kids love</td>\n",
       "    </tr>\n",
       "    <tr>\n",
       "      <th>3468</th>\n",
       "      <td>NaN</td>\n",
       "      <td>Enjoy this cereal!</td>\n",
       "      <td>Enjoy this cereal!</td>\n",
       "      <td>enjoy cereal</td>\n",
       "    </tr>\n",
       "    <tr>\n",
       "      <th>3481</th>\n",
       "      <td>NaN</td>\n",
       "      <td>Good flavor.</td>\n",
       "      <td>Good flavor.</td>\n",
       "      <td>good flavor</td>\n",
       "    </tr>\n",
       "    <tr>\n",
       "      <th>3492</th>\n",
       "      <td>NaN</td>\n",
       "      <td>I am addicted to this stuff! I've tried a few ...</td>\n",
       "      <td>I am addicted to this stuff! I've tried a fe...</td>\n",
       "      <td>addicted stuff tried brands make maple almond ...</td>\n",
       "    </tr>\n",
       "    <tr>\n",
       "      <th>4100</th>\n",
       "      <td>NaN</td>\n",
       "      <td>Too soft. I had to leave it out to get it a bi...</td>\n",
       "      <td>Too soft. I had to leave it out to get it a ...</td>\n",
       "      <td>soft leave get bit stale could eat</td>\n",
       "    </tr>\n",
       "    <tr>\n",
       "      <th>...</th>\n",
       "      <td>...</td>\n",
       "      <td>...</td>\n",
       "      <td>...</td>\n",
       "      <td>...</td>\n",
       "    </tr>\n",
       "    <tr>\n",
       "      <th>28757</th>\n",
       "      <td>NaN</td>\n",
       "      <td>Lowest price, fast shipping. Thanks!</td>\n",
       "      <td>Lowest price, fast shipping. Thanks!</td>\n",
       "      <td>lowest price fast shipping thanks</td>\n",
       "    </tr>\n",
       "    <tr>\n",
       "      <th>28758</th>\n",
       "      <td>NaN</td>\n",
       "      <td>Everything went smoothly, love the prices and ...</td>\n",
       "      <td>Everything went smoothly, love the prices an...</td>\n",
       "      <td>everything went smoothly love prices ease tran...</td>\n",
       "    </tr>\n",
       "    <tr>\n",
       "      <th>28759</th>\n",
       "      <td>NaN</td>\n",
       "      <td>Best price for the item I needed. Very fast sh...</td>\n",
       "      <td>Best price for the item I needed. Very fast ...</td>\n",
       "      <td>best price item needed fast shipping consumer ...</td>\n",
       "    </tr>\n",
       "    <tr>\n",
       "      <th>28760</th>\n",
       "      <td>NaN</td>\n",
       "      <td>Autoplicity agent was very helpful over the ph...</td>\n",
       "      <td>Autoplicity agent was very helpful over the ...</td>\n",
       "      <td>autoplicity agent helpful phone answered quest...</td>\n",
       "    </tr>\n",
       "    <tr>\n",
       "      <th>28761</th>\n",
       "      <td>NaN</td>\n",
       "      <td>Best price on the net! Haven't got my order ye...</td>\n",
       "      <td>Best price on the net! Haven't got my order ...</td>\n",
       "      <td>best price net not got order yet shipped see</td>\n",
       "    </tr>\n",
       "    <tr>\n",
       "      <th>28762</th>\n",
       "      <td>NaN</td>\n",
       "      <td>great prices</td>\n",
       "      <td>great prices</td>\n",
       "      <td>great prices</td>\n",
       "    </tr>\n",
       "    <tr>\n",
       "      <th>28769</th>\n",
       "      <td>NaN</td>\n",
       "      <td>My tastes have changed remember liking it more...</td>\n",
       "      <td>My tastes have changed remember liking it mo...</td>\n",
       "      <td>tastes changed remember liking now</td>\n",
       "    </tr>\n",
       "    <tr>\n",
       "      <th>28772</th>\n",
       "      <td>NaN</td>\n",
       "      <td>I hate this stuff. I wasted my money on buying...</td>\n",
       "      <td>I hate this stuff. I wasted my money on buyi...</td>\n",
       "      <td>hate stuff wasted money buying made hair feel ...</td>\n",
       "    </tr>\n",
       "    <tr>\n",
       "      <th>28773</th>\n",
       "      <td>NaN</td>\n",
       "      <td>This product WILL NOT WASH OUT. I've washed my...</td>\n",
       "      <td>This product WILL NOT WASH OUT. I've washed ...</td>\n",
       "      <td>product not wash washed hair times now still n...</td>\n",
       "    </tr>\n",
       "    <tr>\n",
       "      <th>28774</th>\n",
       "      <td>NaN</td>\n",
       "      <td>This stuff does not wash out of my hair even a...</td>\n",
       "      <td>This stuff does not wash out of my hair even...</td>\n",
       "      <td>stuff not wash hair even washes</td>\n",
       "    </tr>\n",
       "    <tr>\n",
       "      <th>28775</th>\n",
       "      <td>NaN</td>\n",
       "      <td>This product is ridiculous. It indeed holds an...</td>\n",
       "      <td>This product is ridiculous. It indeed holds ...</td>\n",
       "      <td>product ridiculous indeed holds sculpts firmly...</td>\n",
       "    </tr>\n",
       "    <tr>\n",
       "      <th>28776</th>\n",
       "      <td>NaN</td>\n",
       "      <td>Like other reviewers I am very impressed with ...</td>\n",
       "      <td>Like other reviewers I am very impressed wit...</td>\n",
       "      <td>like reviewers impressed quality hold product ...</td>\n",
       "    </tr>\n",
       "    <tr>\n",
       "      <th>28777</th>\n",
       "      <td>NaN</td>\n",
       "      <td>This is the worst hair product I have ever had...</td>\n",
       "      <td>This is the worst hair product I have ever h...</td>\n",
       "      <td>worst hair product ever life like star reviews...</td>\n",
       "    </tr>\n",
       "    <tr>\n",
       "      <th>28778</th>\n",
       "      <td>NaN</td>\n",
       "      <td>AVOID AT ALL COST! This stuff is awful - While...</td>\n",
       "      <td>AVOID AT ALL COST! This stuff is awful - Whi...</td>\n",
       "      <td>avoid cost stuff awful hold hair faux hawk qui...</td>\n",
       "    </tr>\n",
       "    <tr>\n",
       "      <th>28779</th>\n",
       "      <td>NaN</td>\n",
       "      <td>I recently purchased the TXT IT 02 Hyper-Fix P...</td>\n",
       "      <td>I recently purchased the TXT IT 02 Hyper-Fix...</td>\n",
       "      <td>recently purchased txt hyperfix putty must say...</td>\n",
       "    </tr>\n",
       "    <tr>\n",
       "      <th>28780</th>\n",
       "      <td>NaN</td>\n",
       "      <td>I needed something to help style my hair for w...</td>\n",
       "      <td>I needed something to help style my hair for...</td>\n",
       "      <td>needed something help style hair work bartende...</td>\n",
       "    </tr>\n",
       "    <tr>\n",
       "      <th>28781</th>\n",
       "      <td>NaN</td>\n",
       "      <td>The hold with this product is great but IT DOE...</td>\n",
       "      <td>The hold with this product is great but IT D...</td>\n",
       "      <td>hold product great not wash</td>\n",
       "    </tr>\n",
       "    <tr>\n",
       "      <th>28782</th>\n",
       "      <td>NaN</td>\n",
       "      <td>This does hold but won't wash out even after 3...</td>\n",
       "      <td>This does hold but won't wash out even after...</td>\n",
       "      <td>hold not wash even shampoos hair still felt gu...</td>\n",
       "    </tr>\n",
       "    <tr>\n",
       "      <th>28783</th>\n",
       "      <td>NaN</td>\n",
       "      <td>I loved it. The ease of manipulation during st...</td>\n",
       "      <td>I loved it. The ease of manipulation during ...</td>\n",
       "      <td>loved ease manipulation styling hold texture f...</td>\n",
       "    </tr>\n",
       "    <tr>\n",
       "      <th>28784</th>\n",
       "      <td>NaN</td>\n",
       "      <td>This is an excellent styling product that hold...</td>\n",
       "      <td>This is an excellent styling product that ho...</td>\n",
       "      <td>excellent styling product holds hair place thr...</td>\n",
       "    </tr>\n",
       "    <tr>\n",
       "      <th>28785</th>\n",
       "      <td>NaN</td>\n",
       "      <td>My husband and I love this stuff! He has thick...</td>\n",
       "      <td>My husband and I love this stuff! He has thi...</td>\n",
       "      <td>husband love stuff thick short hair usually we...</td>\n",
       "    </tr>\n",
       "    <tr>\n",
       "      <th>28786</th>\n",
       "      <td>NaN</td>\n",
       "      <td>I love this putty! It has a strong hold for a ...</td>\n",
       "      <td>I love this putty! It has a strong hold for ...</td>\n",
       "      <td>love putty strong hold controlled look frizzy ...</td>\n",
       "    </tr>\n",
       "    <tr>\n",
       "      <th>28787</th>\n",
       "      <td>NaN</td>\n",
       "      <td>I have a longer messy style of hair and I used...</td>\n",
       "      <td>I have a longer messy style of hair and I us...</td>\n",
       "      <td>longer messy style hair used use product layri...</td>\n",
       "    </tr>\n",
       "    <tr>\n",
       "      <th>28788</th>\n",
       "      <td>NaN</td>\n",
       "      <td>This product is amazing!!! A little goes a lon...</td>\n",
       "      <td>This product is amazing!!! A little goes a l...</td>\n",
       "      <td>product amazing little goes long way bit finge...</td>\n",
       "    </tr>\n",
       "    <tr>\n",
       "      <th>28789</th>\n",
       "      <td>NaN</td>\n",
       "      <td>This product is outstanding. I've only been us...</td>\n",
       "      <td>This product is outstanding. I've only been ...</td>\n",
       "      <td>product outstanding using months container gon...</td>\n",
       "    </tr>\n",
       "    <tr>\n",
       "      <th>28790</th>\n",
       "      <td>NaN</td>\n",
       "      <td>I have fine hair and don't like heavy hairspra...</td>\n",
       "      <td>I have fine hair and don't like heavy hairsp...</td>\n",
       "      <td>fine hair not like heavy hairspray leaves touc...</td>\n",
       "    </tr>\n",
       "    <tr>\n",
       "      <th>28791</th>\n",
       "      <td>NaN</td>\n",
       "      <td>I tried this product for the first time im ver...</td>\n",
       "      <td>I tried this product for the first time im v...</td>\n",
       "      <td>tried product first time im surprised good goo...</td>\n",
       "    </tr>\n",
       "    <tr>\n",
       "      <th>28792</th>\n",
       "      <td>NaN</td>\n",
       "      <td>I am an African American woman who has been na...</td>\n",
       "      <td>I am an African American woman who has been ...</td>\n",
       "      <td>african american woman natural quite time now ...</td>\n",
       "    </tr>\n",
       "    <tr>\n",
       "      <th>28793</th>\n",
       "      <td>NaN</td>\n",
       "      <td>works great! Actually holds my hard-to-hold-in...</td>\n",
       "      <td>works great! Actually holds my hard-to-hold-...</td>\n",
       "      <td>works great actually holds hardtoholdinplaceha...</td>\n",
       "    </tr>\n",
       "    <tr>\n",
       "      <th>28794</th>\n",
       "      <td>NaN</td>\n",
       "      <td>I sport a combed-back look and this stuff work...</td>\n",
       "      <td>I sport a combed-back look and this stuff wo...</td>\n",
       "      <td>sport combedback look stuff works wonders supe...</td>\n",
       "    </tr>\n",
       "  </tbody>\n",
       "</table>\n",
       "<p>190 rows × 4 columns</p>\n",
       "</div>"
      ],
      "text/plain": [
       "      reviews_title                                       reviews_text  \\\n",
       "1239            NaN                    Great quality and a great price   \n",
       "1441            NaN  Wanted to love this but it's a bit too heavy f...   \n",
       "1442            NaN  I have thick coarse hair and for me this just ...   \n",
       "1443            NaN  Wanted to love this but it's a bit too heavy f...   \n",
       "1444            NaN  I actually really enjoy this conditioner. Have...   \n",
       "1447            NaN  This is a great product. I really like the sce...   \n",
       "1448            NaN  Leaves my hair soft and shiny and smells nice ...   \n",
       "1449            NaN  Great conditioner. Have not used this scent ye...   \n",
       "1461            NaN  The All Purpose Cleaner arrived quickly and in...   \n",
       "1462            NaN  Bought this product with the 32 oz refill bott...   \n",
       "1465            NaN  I love the fact that this doesn't have any che...   \n",
       "1466            NaN  Love all the Biokleen product-line. This one i...   \n",
       "1467            NaN  Cleans well and smells great -- fresh and natu...   \n",
       "1468            NaN  Love this cleaner. Since discovering it a few ...   \n",
       "2578            NaN           DOESN'T REALLY WORK. SUPER MESSY/STICKY.   \n",
       "2579            NaN  I like these strips much more than messing wit...   \n",
       "2580            NaN  These wax strips work better than Nads or Sall...   \n",
       "2581            NaN                           Works well, easy to use.   \n",
       "2582            NaN                           This worked really well.   \n",
       "3324            NaN  loved these for my snacking will be getting mo...   \n",
       "3325            NaN        Very solid. I like this with salsa as well.   \n",
       "3326            NaN                           I love these bean chips.   \n",
       "3327            NaN                                 Great with hummus!   \n",
       "3464            NaN  We LOVE our coffee table. It's beautiful and a...   \n",
       "3465            NaN                                            not bad   \n",
       "3467            NaN                        Great cereal. Kids love it.   \n",
       "3468            NaN                                 Enjoy this cereal!   \n",
       "3481            NaN                                       Good flavor.   \n",
       "3492            NaN  I am addicted to this stuff! I've tried a few ...   \n",
       "4100            NaN  Too soft. I had to leave it out to get it a bi...   \n",
       "...             ...                                                ...   \n",
       "28757           NaN               Lowest price, fast shipping. Thanks!   \n",
       "28758           NaN  Everything went smoothly, love the prices and ...   \n",
       "28759           NaN  Best price for the item I needed. Very fast sh...   \n",
       "28760           NaN  Autoplicity agent was very helpful over the ph...   \n",
       "28761           NaN  Best price on the net! Haven't got my order ye...   \n",
       "28762           NaN                                       great prices   \n",
       "28769           NaN  My tastes have changed remember liking it more...   \n",
       "28772           NaN  I hate this stuff. I wasted my money on buying...   \n",
       "28773           NaN  This product WILL NOT WASH OUT. I've washed my...   \n",
       "28774           NaN  This stuff does not wash out of my hair even a...   \n",
       "28775           NaN  This product is ridiculous. It indeed holds an...   \n",
       "28776           NaN  Like other reviewers I am very impressed with ...   \n",
       "28777           NaN  This is the worst hair product I have ever had...   \n",
       "28778           NaN  AVOID AT ALL COST! This stuff is awful - While...   \n",
       "28779           NaN  I recently purchased the TXT IT 02 Hyper-Fix P...   \n",
       "28780           NaN  I needed something to help style my hair for w...   \n",
       "28781           NaN  The hold with this product is great but IT DOE...   \n",
       "28782           NaN  This does hold but won't wash out even after 3...   \n",
       "28783           NaN  I loved it. The ease of manipulation during st...   \n",
       "28784           NaN  This is an excellent styling product that hold...   \n",
       "28785           NaN  My husband and I love this stuff! He has thick...   \n",
       "28786           NaN  I love this putty! It has a strong hold for a ...   \n",
       "28787           NaN  I have a longer messy style of hair and I used...   \n",
       "28788           NaN  This product is amazing!!! A little goes a lon...   \n",
       "28789           NaN  This product is outstanding. I've only been us...   \n",
       "28790           NaN  I have fine hair and don't like heavy hairspra...   \n",
       "28791           NaN  I tried this product for the first time im ver...   \n",
       "28792           NaN  I am an African American woman who has been na...   \n",
       "28793           NaN  works great! Actually holds my hard-to-hold-in...   \n",
       "28794           NaN  I sport a combed-back look and this stuff work...   \n",
       "\n",
       "                                    concat_title_reviews  \\\n",
       "1239                     Great quality and a great price   \n",
       "1441     Wanted to love this but it's a bit too heavy...   \n",
       "1442     I have thick coarse hair and for me this jus...   \n",
       "1443     Wanted to love this but it's a bit too heavy...   \n",
       "1444     I actually really enjoy this conditioner. Ha...   \n",
       "1447     This is a great product. I really like the s...   \n",
       "1448     Leaves my hair soft and shiny and smells nic...   \n",
       "1449     Great conditioner. Have not used this scent ...   \n",
       "1461     The All Purpose Cleaner arrived quickly and ...   \n",
       "1462     Bought this product with the 32 oz refill bo...   \n",
       "1465     I love the fact that this doesn't have any c...   \n",
       "1466     Love all the Biokleen product-line. This one...   \n",
       "1467     Cleans well and smells great -- fresh and na...   \n",
       "1468     Love this cleaner. Since discovering it a fe...   \n",
       "2578            DOESN'T REALLY WORK. SUPER MESSY/STICKY.   \n",
       "2579     I like these strips much more than messing w...   \n",
       "2580     These wax strips work better than Nads or Sa...   \n",
       "2581                            Works well, easy to use.   \n",
       "2582                            This worked really well.   \n",
       "3324     loved these for my snacking will be getting ...   \n",
       "3325         Very solid. I like this with salsa as well.   \n",
       "3326                            I love these bean chips.   \n",
       "3327                                  Great with hummus!   \n",
       "3464     We LOVE our coffee table. It's beautiful and...   \n",
       "3465                                             not bad   \n",
       "3467                         Great cereal. Kids love it.   \n",
       "3468                                  Enjoy this cereal!   \n",
       "3481                                        Good flavor.   \n",
       "3492     I am addicted to this stuff! I've tried a fe...   \n",
       "4100     Too soft. I had to leave it out to get it a ...   \n",
       "...                                                  ...   \n",
       "28757               Lowest price, fast shipping. Thanks!   \n",
       "28758    Everything went smoothly, love the prices an...   \n",
       "28759    Best price for the item I needed. Very fast ...   \n",
       "28760    Autoplicity agent was very helpful over the ...   \n",
       "28761    Best price on the net! Haven't got my order ...   \n",
       "28762                                       great prices   \n",
       "28769    My tastes have changed remember liking it mo...   \n",
       "28772    I hate this stuff. I wasted my money on buyi...   \n",
       "28773    This product WILL NOT WASH OUT. I've washed ...   \n",
       "28774    This stuff does not wash out of my hair even...   \n",
       "28775    This product is ridiculous. It indeed holds ...   \n",
       "28776    Like other reviewers I am very impressed wit...   \n",
       "28777    This is the worst hair product I have ever h...   \n",
       "28778    AVOID AT ALL COST! This stuff is awful - Whi...   \n",
       "28779    I recently purchased the TXT IT 02 Hyper-Fix...   \n",
       "28780    I needed something to help style my hair for...   \n",
       "28781    The hold with this product is great but IT D...   \n",
       "28782    This does hold but won't wash out even after...   \n",
       "28783    I loved it. The ease of manipulation during ...   \n",
       "28784    This is an excellent styling product that ho...   \n",
       "28785    My husband and I love this stuff! He has thi...   \n",
       "28786    I love this putty! It has a strong hold for ...   \n",
       "28787    I have a longer messy style of hair and I us...   \n",
       "28788    This product is amazing!!! A little goes a l...   \n",
       "28789    This product is outstanding. I've only been ...   \n",
       "28790    I have fine hair and don't like heavy hairsp...   \n",
       "28791    I tried this product for the first time im v...   \n",
       "28792    I am an African American woman who has been ...   \n",
       "28793    works great! Actually holds my hard-to-hold-...   \n",
       "28794    I sport a combed-back look and this stuff wo...   \n",
       "\n",
       "                                  reviews_text_processed  \n",
       "1239                           great quality great price  \n",
       "1441   wanted love bit heavy mild psoriasis seemed ma...  \n",
       "1442   thick coarse hair worked ok not smooth much pr...  \n",
       "1443   wanted love bit heavy mild psoriasis seemed ma...  \n",
       "1444   actually really enjoy conditioner tried whole ...  \n",
       "1447     great product really like scent works well hair  \n",
       "1448                  leaves hair soft shiny smells nice  \n",
       "1449   great conditioner not used scent yet seaweed b...  \n",
       "1461   purpose cleaner arrived quickly intact work we...  \n",
       "1462   bought product oz refill bottle product works ...  \n",
       "1465                             love fact not chemicals  \n",
       "1466   love biokleen productline one also great clean...  \n",
       "1467   cleans well smells great fresh natural opposed...  \n",
       "1468   love cleaner since discovering years ago now c...  \n",
       "2578                   not really work super messysticky  \n",
       "2579   like strips much messing warm sticky applicati...  \n",
       "2580   wax strips work better nads sally hansen upper...  \n",
       "2581                                 works well easy use  \n",
       "2582                                  worked really well  \n",
       "3324                  loved snacking getting get flavors  \n",
       "3325                               solid like salsa well  \n",
       "3326                                     love bean chips  \n",
       "3327                                        great hummus  \n",
       "3464   love coffee table beautiful good quality would...  \n",
       "3465                                             not bad  \n",
       "3467                              great cereal kids love  \n",
       "3468                                        enjoy cereal  \n",
       "3481                                         good flavor  \n",
       "3492   addicted stuff tried brands make maple almond ...  \n",
       "4100                  soft leave get bit stale could eat  \n",
       "...                                                  ...  \n",
       "28757                  lowest price fast shipping thanks  \n",
       "28758  everything went smoothly love prices ease tran...  \n",
       "28759  best price item needed fast shipping consumer ...  \n",
       "28760  autoplicity agent helpful phone answered quest...  \n",
       "28761       best price net not got order yet shipped see  \n",
       "28762                                       great prices  \n",
       "28769                 tastes changed remember liking now  \n",
       "28772  hate stuff wasted money buying made hair feel ...  \n",
       "28773  product not wash washed hair times now still n...  \n",
       "28774                    stuff not wash hair even washes  \n",
       "28775  product ridiculous indeed holds sculpts firmly...  \n",
       "28776  like reviewers impressed quality hold product ...  \n",
       "28777  worst hair product ever life like star reviews...  \n",
       "28778  avoid cost stuff awful hold hair faux hawk qui...  \n",
       "28779  recently purchased txt hyperfix putty must say...  \n",
       "28780  needed something help style hair work bartende...  \n",
       "28781                        hold product great not wash  \n",
       "28782  hold not wash even shampoos hair still felt gu...  \n",
       "28783  loved ease manipulation styling hold texture f...  \n",
       "28784  excellent styling product holds hair place thr...  \n",
       "28785  husband love stuff thick short hair usually we...  \n",
       "28786  love putty strong hold controlled look frizzy ...  \n",
       "28787  longer messy style hair used use product layri...  \n",
       "28788  product amazing little goes long way bit finge...  \n",
       "28789  product outstanding using months container gon...  \n",
       "28790  fine hair not like heavy hairspray leaves touc...  \n",
       "28791  tried product first time im surprised good goo...  \n",
       "28792  african american woman natural quite time now ...  \n",
       "28793  works great actually holds hardtoholdinplaceha...  \n",
       "28794  sport combedback look stuff works wonders supe...  \n",
       "\n",
       "[190 rows x 4 columns]"
      ]
     },
     "execution_count": 202,
     "metadata": {},
     "output_type": "execute_result"
    }
   ],
   "source": [
    "prod_df[prod_df['reviews_title'].isnull()][['reviews_title' ,'reviews_text','concat_title_reviews','reviews_text_processed' ]]"
   ]
  },
  {
   "cell_type": "code",
   "execution_count": 203,
   "metadata": {},
   "outputs": [
    {
     "data": {
      "text/html": [
       "<div>\n",
       "<style scoped>\n",
       "    .dataframe tbody tr th:only-of-type {\n",
       "        vertical-align: middle;\n",
       "    }\n",
       "\n",
       "    .dataframe tbody tr th {\n",
       "        vertical-align: top;\n",
       "    }\n",
       "\n",
       "    .dataframe thead th {\n",
       "        text-align: right;\n",
       "    }\n",
       "</style>\n",
       "<table border=\"1\" class=\"dataframe\">\n",
       "  <thead>\n",
       "    <tr style=\"text-align: right;\">\n",
       "      <th></th>\n",
       "      <th>id</th>\n",
       "      <th>brand</th>\n",
       "      <th>categories</th>\n",
       "      <th>manufacturer</th>\n",
       "      <th>name</th>\n",
       "      <th>reviews_date</th>\n",
       "      <th>reviews_didPurchase</th>\n",
       "      <th>reviews_doRecommend</th>\n",
       "      <th>reviews_rating</th>\n",
       "      <th>reviews_text</th>\n",
       "      <th>...</th>\n",
       "      <th>reviews_userCity</th>\n",
       "      <th>reviews_userProvince</th>\n",
       "      <th>reviews_username</th>\n",
       "      <th>user_sentiment</th>\n",
       "      <th>reviews_length</th>\n",
       "      <th>date</th>\n",
       "      <th>year</th>\n",
       "      <th>concat_title_reviews</th>\n",
       "      <th>reviews_text_processed</th>\n",
       "      <th>final_sentiment</th>\n",
       "    </tr>\n",
       "  </thead>\n",
       "  <tbody>\n",
       "  </tbody>\n",
       "</table>\n",
       "<p>0 rows × 21 columns</p>\n",
       "</div>"
      ],
      "text/plain": [
       "Empty DataFrame\n",
       "Columns: [id, brand, categories, manufacturer, name, reviews_date, reviews_didPurchase, reviews_doRecommend, reviews_rating, reviews_text, reviews_title, reviews_userCity, reviews_userProvince, reviews_username, user_sentiment, reviews_length, date, year, concat_title_reviews, reviews_text_processed, final_sentiment]\n",
       "Index: []\n",
       "\n",
       "[0 rows x 21 columns]"
      ]
     },
     "execution_count": 203,
     "metadata": {},
     "output_type": "execute_result"
    }
   ],
   "source": [
    "prod_df[prod_df['reviews_text_processed'].isnull()]"
   ]
  },
  {
   "cell_type": "markdown",
   "metadata": {},
   "source": [
    "### Save the Processed Dataframe to use later while prediction in recommendation system"
   ]
  },
  {
   "cell_type": "code",
   "execution_count": 204,
   "metadata": {},
   "outputs": [
    {
     "name": "stdout",
     "output_type": "stream",
     "text": [
      " saving the processed reviews dataframe of shape :  (29984, 21)\n"
     ]
    }
   ],
   "source": [
    "print(\" saving the processed reviews dataframe of shape : \",prod_df.shape)\n",
    "\n",
    "col_to_save = ['id' ,'name' ,'reviews_rating','reviews_username','reviews_text_processed','final_sentiment']\n",
    "prod_df[col_to_save].to_csv('sentiment_analysis_processed_reviews.csv')"
   ]
  },
  {
   "cell_type": "markdown",
   "metadata": {
    "id": "LZM7wb-vDWXW"
   },
   "source": [
    "## Feature Extraction"
   ]
  },
  {
   "cell_type": "code",
   "execution_count": 205,
   "metadata": {
    "id": "X_rt27MTDyvO"
   },
   "outputs": [],
   "source": [
    "reviews_txt=[doc for doc in prod_df['reviews_text_processed']]"
   ]
  },
  {
   "cell_type": "code",
   "execution_count": 206,
   "metadata": {
    "id": "f20H3VCaDPB2"
   },
   "outputs": [],
   "source": [
    "# TFIDF vectorizer\n",
    "vect = TfidfVectorizer()\n",
    "tfidf_vect=vect.fit_transform(reviews_txt)"
   ]
  },
  {
   "cell_type": "code",
   "execution_count": 207,
   "metadata": {
    "id": "sIpP0YPzDO_H"
   },
   "outputs": [
    {
     "data": {
      "text/html": [
       "<div>\n",
       "<style scoped>\n",
       "    .dataframe tbody tr th:only-of-type {\n",
       "        vertical-align: middle;\n",
       "    }\n",
       "\n",
       "    .dataframe tbody tr th {\n",
       "        vertical-align: top;\n",
       "    }\n",
       "\n",
       "    .dataframe thead th {\n",
       "        text-align: right;\n",
       "    }\n",
       "</style>\n",
       "<table border=\"1\" class=\"dataframe\">\n",
       "  <thead>\n",
       "    <tr style=\"text-align: right;\">\n",
       "      <th></th>\n",
       "      <th>aaa</th>\n",
       "      <th>aaaaaaaaaaaaaaaaa</th>\n",
       "      <th>aaaaahhhhhh</th>\n",
       "      <th>aaahhhhh</th>\n",
       "      <th>aaammmaaazing</th>\n",
       "      <th>aalot</th>\n",
       "      <th>aanyhwere</th>\n",
       "      <th>aaron</th>\n",
       "      <th>aarontaylor</th>\n",
       "      <th>abandon</th>\n",
       "      <th>...</th>\n",
       "      <th>zombies</th>\n",
       "      <th>zombified</th>\n",
       "      <th>zone</th>\n",
       "      <th>zones</th>\n",
       "      <th>zoo</th>\n",
       "      <th>zoom</th>\n",
       "      <th>zorbas</th>\n",
       "      <th>zucchetta</th>\n",
       "      <th>zucchini</th>\n",
       "      <th>zyrtec</th>\n",
       "    </tr>\n",
       "  </thead>\n",
       "  <tbody>\n",
       "    <tr>\n",
       "      <th>0</th>\n",
       "      <td>0.0</td>\n",
       "      <td>0.0</td>\n",
       "      <td>0.0</td>\n",
       "      <td>0.0</td>\n",
       "      <td>0.0</td>\n",
       "      <td>0.0</td>\n",
       "      <td>0.0</td>\n",
       "      <td>0.0</td>\n",
       "      <td>0.0</td>\n",
       "      <td>0.0</td>\n",
       "      <td>...</td>\n",
       "      <td>0.0</td>\n",
       "      <td>0.0</td>\n",
       "      <td>0.0</td>\n",
       "      <td>0.0</td>\n",
       "      <td>0.0</td>\n",
       "      <td>0.0</td>\n",
       "      <td>0.0</td>\n",
       "      <td>0.0</td>\n",
       "      <td>0.0</td>\n",
       "      <td>0.0</td>\n",
       "    </tr>\n",
       "    <tr>\n",
       "      <th>1</th>\n",
       "      <td>0.0</td>\n",
       "      <td>0.0</td>\n",
       "      <td>0.0</td>\n",
       "      <td>0.0</td>\n",
       "      <td>0.0</td>\n",
       "      <td>0.0</td>\n",
       "      <td>0.0</td>\n",
       "      <td>0.0</td>\n",
       "      <td>0.0</td>\n",
       "      <td>0.0</td>\n",
       "      <td>...</td>\n",
       "      <td>0.0</td>\n",
       "      <td>0.0</td>\n",
       "      <td>0.0</td>\n",
       "      <td>0.0</td>\n",
       "      <td>0.0</td>\n",
       "      <td>0.0</td>\n",
       "      <td>0.0</td>\n",
       "      <td>0.0</td>\n",
       "      <td>0.0</td>\n",
       "      <td>0.0</td>\n",
       "    </tr>\n",
       "  </tbody>\n",
       "</table>\n",
       "<p>2 rows × 20101 columns</p>\n",
       "</div>"
      ],
      "text/plain": [
       "   aaa  aaaaaaaaaaaaaaaaa  aaaaahhhhhh  aaahhhhh  aaammmaaazing  aalot  \\\n",
       "0  0.0                0.0          0.0       0.0            0.0    0.0   \n",
       "1  0.0                0.0          0.0       0.0            0.0    0.0   \n",
       "\n",
       "   aanyhwere  aaron  aarontaylor  abandon  ...  zombies  zombified  zone  \\\n",
       "0        0.0    0.0          0.0      0.0  ...      0.0        0.0   0.0   \n",
       "1        0.0    0.0          0.0      0.0  ...      0.0        0.0   0.0   \n",
       "\n",
       "   zones  zoo  zoom  zorbas  zucchetta  zucchini  zyrtec  \n",
       "0    0.0  0.0   0.0     0.0        0.0       0.0     0.0  \n",
       "1    0.0  0.0   0.0     0.0        0.0       0.0     0.0  \n",
       "\n",
       "[2 rows x 20101 columns]"
      ]
     },
     "execution_count": 207,
     "metadata": {},
     "output_type": "execute_result"
    }
   ],
   "source": [
    "train_features = pd.DataFrame(tfidf_vect.toarray(),columns=vect.get_feature_names())\n",
    "#dummy_ratingdf =pd.get_dummies(prod_df['reviews_rating'],drop_first=True) # creating dummy variable for reviews rating(1,2..,5)\n",
    "train_features.reset_index(drop=True,inplace=True)\n",
    "#dummy_ratingdf.reset_index(drop=True,inplace=True)\n",
    "#train_features= pd.concat([train_features,dummy_ratingdf],axis=1)\n",
    "X = train_features\n",
    "y = prod_df['final_sentiment'] \n",
    "X.head(2)"
   ]
  },
  {
   "cell_type": "code",
   "execution_count": 208,
   "metadata": {},
   "outputs": [
    {
     "data": {
      "text/plain": [
       "(29984, 20101)"
      ]
     },
     "execution_count": 208,
     "metadata": {},
     "output_type": "execute_result"
    }
   ],
   "source": [
    "tfidf_vect.toarray().shape"
   ]
  },
  {
   "cell_type": "code",
   "execution_count": 209,
   "metadata": {},
   "outputs": [
    {
     "data": {
      "text/plain": [
       "20101"
      ]
     },
     "execution_count": 209,
     "metadata": {},
     "output_type": "execute_result"
    }
   ],
   "source": [
    "len(vect.get_feature_names())"
   ]
  },
  {
   "cell_type": "code",
   "execution_count": 210,
   "metadata": {
    "id": "VIT4VIZ1DO8e"
   },
   "outputs": [
    {
     "data": {
      "text/plain": [
       "(29984, 20101)"
      ]
     },
     "execution_count": 210,
     "metadata": {},
     "output_type": "execute_result"
    }
   ],
   "source": [
    "#len of train features\n",
    "train_features.shape"
   ]
  },
  {
   "cell_type": "code",
   "execution_count": 212,
   "metadata": {
    "id": "pDQNcVP4DO5-"
   },
   "outputs": [],
   "source": [
    "# train test split\n",
    "X_train, X_test, y_train, y_test = train_test_split(X, y, test_size=0.2, random_state=42)"
   ]
  },
  {
   "cell_type": "code",
   "execution_count": 213,
   "metadata": {},
   "outputs": [],
   "source": [
    "#function to print the model accuracy\n",
    "def print_accuracy(model , X_train,y_train,X_test,y_test,model_name=None):\n",
    "    y_train_pred = model.predict(X_train) # predicted label for test data\n",
    "    y_test_pred = model.predict(X_test) # predicted label for test data\n",
    "    mdl_train_accuracy= accuracy_score(y_train,y_train_pred) # train set accuracy\n",
    "    mdl_test_acc = accuracy_score(y_test,y_test_pred) # model accuracy\n",
    "    print(model_name,\"Training set accuracy:\",round(mdl_train_accuracy*100,2),'%')\n",
    "    print(model_name,\"Testing set accuracy:\",round(mdl_test_acc*100,2),'%')\n",
    "    print(\"============= Classification Report\",model_name, \"===============\")\n",
    "    print(classification_report(y_test_pred, y_test))"
   ]
  },
  {
   "cell_type": "markdown",
   "metadata": {
    "id": "kuC1oP_LGPLQ"
   },
   "source": [
    "## Training a text classification model"
   ]
  },
  {
   "cell_type": "markdown",
   "metadata": {
    "id": "ZruvNgGqGT4v"
   },
   "source": [
    "### `Prediction and Evaluation using Multinomial Naive Bayes Model`"
   ]
  },
  {
   "cell_type": "code",
   "execution_count": 143,
   "metadata": {
    "id": "cOaImV1xDOqH"
   },
   "outputs": [
    {
     "name": "stdout",
     "output_type": "stream",
     "text": [
      "Fitting 3 folds for each of 1 candidates, totalling 3 fits\n"
     ]
    },
    {
     "name": "stderr",
     "output_type": "stream",
     "text": [
      "[Parallel(n_jobs=1)]: Using backend SequentialBackend with 1 concurrent workers.\n",
      "[Parallel(n_jobs=1)]: Done   3 out of   3 | elapsed:    9.4s finished\n"
     ]
    },
    {
     "data": {
      "text/plain": [
       "GridSearchCV(cv=3, error_score=nan,\n",
       "             estimator=MultinomialNB(alpha=1.0, class_prior=None,\n",
       "                                     fit_prior=True),\n",
       "             iid='deprecated', n_jobs=None, param_grid={},\n",
       "             pre_dispatch='2*n_jobs', refit=True, return_train_score=True,\n",
       "             scoring='accuracy', verbose=1)"
      ]
     },
     "execution_count": 143,
     "metadata": {},
     "output_type": "execute_result"
    }
   ],
   "source": [
    "params={}\n",
    "fold = 3\n",
    "mn_bayes =GridSearchCV(MultinomialNB(),cv=fold,scoring='accuracy',param_grid=params,verbose=1,return_train_score=True)\n",
    "mn_bayes.fit(X_train,y_train)"
   ]
  },
  {
   "cell_type": "code",
   "execution_count": 144,
   "metadata": {},
   "outputs": [
    {
     "name": "stdout",
     "output_type": "stream",
     "text": [
      "Naive Bayes Training set accuracy: 88.83 %\n",
      "Naive Bayes Testing set accuracy: 88.74 %\n",
      "============= Classification Report Naive Bayes ===============\n",
      "              precision    recall  f1-score   support\n",
      "\n",
      "           0       0.00      0.17      0.00         6\n",
      "           1       1.00      0.89      0.94      5991\n",
      "\n",
      "    accuracy                           0.89      5997\n",
      "   macro avg       0.50      0.53      0.47      5997\n",
      "weighted avg       1.00      0.89      0.94      5997\n",
      "\n"
     ]
    }
   ],
   "source": [
    "#printing the accuracy of Naive Bayes with smote\n",
    "print_accuracy(mn_bayes, X_train,y_train,X_test,y_test,model_name=\"Naive Bayes\")"
   ]
  },
  {
   "cell_type": "markdown",
   "metadata": {},
   "source": [
    "`we can see f1- score close to 0 here `"
   ]
  },
  {
   "cell_type": "code",
   "execution_count": 145,
   "metadata": {},
   "outputs": [
    {
     "data": {
      "text/plain": [
       "Index(['aaa', 'aaaaaaaaaaaaaaaaa', 'aaaaahhhhhh', 'aaahhhhh', 'aaammmaaazing',\n",
       "       'aalot', 'aanyhwere', 'aaron', 'aarontaylor', 'abandon',\n",
       "       ...\n",
       "       'zombies', 'zombified', 'zone', 'zones', 'zoo', 'zoom', 'zorbas',\n",
       "       'zucchetta', 'zucchini', 'zyrtec'],\n",
       "      dtype='object', length=20101)"
      ]
     },
     "execution_count": 145,
     "metadata": {},
     "output_type": "execute_result"
    }
   ],
   "source": [
    "#checking the train columns\n",
    "X_train.columns"
   ]
  },
  {
   "cell_type": "markdown",
   "metadata": {},
   "source": [
    "### Handling Class Imbalance"
   ]
  },
  {
   "cell_type": "markdown",
   "metadata": {},
   "source": [
    "`Applying Smote for class imbalance only on training set `"
   ]
  },
  {
   "cell_type": "code",
   "execution_count": 146,
   "metadata": {
    "id": "qSw1ONv-GMUx"
   },
   "outputs": [],
   "source": [
    "#implementing smote for class imbalance\n",
    "from imblearn.over_sampling import SMOTE\n",
    "sm = SMOTE(random_state=42)\n",
    "X_res, y_res = sm.fit_resample(X_train, y_train)"
   ]
  },
  {
   "cell_type": "code",
   "execution_count": 147,
   "metadata": {},
   "outputs": [
    {
     "data": {
      "text/html": [
       "<div>\n",
       "<style scoped>\n",
       "    .dataframe tbody tr th:only-of-type {\n",
       "        vertical-align: middle;\n",
       "    }\n",
       "\n",
       "    .dataframe tbody tr th {\n",
       "        vertical-align: top;\n",
       "    }\n",
       "\n",
       "    .dataframe thead th {\n",
       "        text-align: right;\n",
       "    }\n",
       "</style>\n",
       "<table border=\"1\" class=\"dataframe\">\n",
       "  <thead>\n",
       "    <tr style=\"text-align: right;\">\n",
       "      <th></th>\n",
       "      <th>aaa</th>\n",
       "      <th>aaaaaaaaaaaaaaaaa</th>\n",
       "      <th>aaaaahhhhhh</th>\n",
       "      <th>aaahhhhh</th>\n",
       "      <th>aaammmaaazing</th>\n",
       "      <th>aalot</th>\n",
       "      <th>aanyhwere</th>\n",
       "      <th>aaron</th>\n",
       "      <th>aarontaylor</th>\n",
       "      <th>abandon</th>\n",
       "      <th>...</th>\n",
       "      <th>zombified</th>\n",
       "      <th>zone</th>\n",
       "      <th>zones</th>\n",
       "      <th>zoo</th>\n",
       "      <th>zoom</th>\n",
       "      <th>zorbas</th>\n",
       "      <th>zucchetta</th>\n",
       "      <th>zucchini</th>\n",
       "      <th>zyrtec</th>\n",
       "      <th>final_sentiment</th>\n",
       "    </tr>\n",
       "  </thead>\n",
       "  <tbody>\n",
       "    <tr>\n",
       "      <th>0</th>\n",
       "      <td>0.0</td>\n",
       "      <td>0.0</td>\n",
       "      <td>0.0</td>\n",
       "      <td>0.0</td>\n",
       "      <td>0.0</td>\n",
       "      <td>0.0</td>\n",
       "      <td>0.0</td>\n",
       "      <td>0.0</td>\n",
       "      <td>0.0</td>\n",
       "      <td>0.0</td>\n",
       "      <td>...</td>\n",
       "      <td>0.0</td>\n",
       "      <td>0.0</td>\n",
       "      <td>0.0</td>\n",
       "      <td>0.0</td>\n",
       "      <td>0.0</td>\n",
       "      <td>0.0</td>\n",
       "      <td>0.0</td>\n",
       "      <td>0.0</td>\n",
       "      <td>0.0</td>\n",
       "      <td>1</td>\n",
       "    </tr>\n",
       "    <tr>\n",
       "      <th>1</th>\n",
       "      <td>0.0</td>\n",
       "      <td>0.0</td>\n",
       "      <td>0.0</td>\n",
       "      <td>0.0</td>\n",
       "      <td>0.0</td>\n",
       "      <td>0.0</td>\n",
       "      <td>0.0</td>\n",
       "      <td>0.0</td>\n",
       "      <td>0.0</td>\n",
       "      <td>0.0</td>\n",
       "      <td>...</td>\n",
       "      <td>0.0</td>\n",
       "      <td>0.0</td>\n",
       "      <td>0.0</td>\n",
       "      <td>0.0</td>\n",
       "      <td>0.0</td>\n",
       "      <td>0.0</td>\n",
       "      <td>0.0</td>\n",
       "      <td>0.0</td>\n",
       "      <td>0.0</td>\n",
       "      <td>1</td>\n",
       "    </tr>\n",
       "    <tr>\n",
       "      <th>2</th>\n",
       "      <td>0.0</td>\n",
       "      <td>0.0</td>\n",
       "      <td>0.0</td>\n",
       "      <td>0.0</td>\n",
       "      <td>0.0</td>\n",
       "      <td>0.0</td>\n",
       "      <td>0.0</td>\n",
       "      <td>0.0</td>\n",
       "      <td>0.0</td>\n",
       "      <td>0.0</td>\n",
       "      <td>...</td>\n",
       "      <td>0.0</td>\n",
       "      <td>0.0</td>\n",
       "      <td>0.0</td>\n",
       "      <td>0.0</td>\n",
       "      <td>0.0</td>\n",
       "      <td>0.0</td>\n",
       "      <td>0.0</td>\n",
       "      <td>0.0</td>\n",
       "      <td>0.0</td>\n",
       "      <td>1</td>\n",
       "    </tr>\n",
       "  </tbody>\n",
       "</table>\n",
       "<p>3 rows × 20102 columns</p>\n",
       "</div>"
      ],
      "text/plain": [
       "   aaa  aaaaaaaaaaaaaaaaa  aaaaahhhhhh  aaahhhhh  aaammmaaazing  aalot  \\\n",
       "0  0.0                0.0          0.0       0.0            0.0    0.0   \n",
       "1  0.0                0.0          0.0       0.0            0.0    0.0   \n",
       "2  0.0                0.0          0.0       0.0            0.0    0.0   \n",
       "\n",
       "   aanyhwere  aaron  aarontaylor  abandon  ...  zombified  zone  zones  zoo  \\\n",
       "0        0.0    0.0          0.0      0.0  ...        0.0   0.0    0.0  0.0   \n",
       "1        0.0    0.0          0.0      0.0  ...        0.0   0.0    0.0  0.0   \n",
       "2        0.0    0.0          0.0      0.0  ...        0.0   0.0    0.0  0.0   \n",
       "\n",
       "   zoom  zorbas  zucchetta  zucchini  zyrtec  final_sentiment  \n",
       "0   0.0     0.0        0.0       0.0     0.0                1  \n",
       "1   0.0     0.0        0.0       0.0     0.0                1  \n",
       "2   0.0     0.0        0.0       0.0     0.0                1  \n",
       "\n",
       "[3 rows x 20102 columns]"
      ]
     },
     "execution_count": 147,
     "metadata": {},
     "output_type": "execute_result"
    }
   ],
   "source": [
    "#creating the dataframe and checking the ratio of sentiment colunm\n",
    "prod_df_oversampled = pd.DataFrame(X_res, columns=X_train.columns)\n",
    "prod_df_oversampled['final_sentiment'] =y_res\n",
    "prod_df_oversampled.head(3)"
   ]
  },
  {
   "cell_type": "code",
   "execution_count": 148,
   "metadata": {},
   "outputs": [
    {
     "data": {
      "text/plain": [
       "1    21291\n",
       "0    21291\n",
       "Name: final_sentiment, dtype: int64"
      ]
     },
     "execution_count": 148,
     "metadata": {},
     "output_type": "execute_result"
    }
   ],
   "source": [
    "#As we can see that after smote class imbalance problem has been solved\n",
    "prod_df_oversampled['final_sentiment'].value_counts()"
   ]
  },
  {
   "cell_type": "code",
   "execution_count": 149,
   "metadata": {},
   "outputs": [
    {
     "data": {
      "image/png": "[encoded data removed]",
      "text/plain": [
       "<Figure size 432x288 with 1 Axes>"
      ]
     },
     "metadata": {},
     "output_type": "display_data"
    }
   ],
   "source": [
    "sns.countplot(prod_df_oversampled['final_sentiment'])\n",
    "plt.show()"
   ]
  },
  {
   "cell_type": "markdown",
   "metadata": {},
   "source": [
    "### Retraining the model after applying smote on Training set , test set remains same"
   ]
  },
  {
   "cell_type": "code",
   "execution_count": 150,
   "metadata": {
    "id": "8Jy7t8FqGMPq"
   },
   "outputs": [
    {
     "name": "stdout",
     "output_type": "stream",
     "text": [
      "Fitting 3 folds for each of 5 candidates, totalling 15 fits\n"
     ]
    },
    {
     "name": "stderr",
     "output_type": "stream",
     "text": [
      "[Parallel(n_jobs=1)]: Using backend SequentialBackend with 1 concurrent workers.\n",
      "[Parallel(n_jobs=1)]: Done  15 out of  15 | elapsed:  1.4min finished\n"
     ]
    },
    {
     "name": "stdout",
     "output_type": "stream",
     "text": [
      "best parameter:{'alpha': 0.1} best score: 0.883119628011836\n"
     ]
    }
   ],
   "source": [
    "params={'alpha':[.1, 1, 5, 10, 50]}\n",
    "fold = 3\n",
    "mn_bayes_sm =GridSearchCV(MultinomialNB(),cv=fold,scoring='accuracy',param_grid=params,verbose=1,return_train_score=True)\n",
    "mn_bayes_sm.fit(X_res,y_res)\n",
    "print('best parameter:{}'.format(mn_bayes_sm.best_params_),'best score: {}'.format(mn_bayes_sm.best_score_))"
   ]
  },
  {
   "cell_type": "code",
   "execution_count": 151,
   "metadata": {},
   "outputs": [
    {
     "data": {
      "text/plain": [
       "MultinomialNB(alpha=0.1, class_prior=None, fit_prior=True)"
      ]
     },
     "execution_count": 151,
     "metadata": {},
     "output_type": "execute_result"
    }
   ],
   "source": [
    "# fit the data with best model\n",
    "mn_bayes_sm = MultinomialNB(alpha = 0.1)\n",
    "mn_bayes_sm.fit(X_res,y_res)"
   ]
  },
  {
   "cell_type": "code",
   "execution_count": 152,
   "metadata": {},
   "outputs": [
    {
     "name": "stdout",
     "output_type": "stream",
     "text": [
      "Naive Bayes(including Smote) Training set accuracy: 91.14 %\n",
      "Naive Bayes(including Smote) Testing set accuracy: 82.92 %\n",
      "============= Classification Report Naive Bayes(including Smote) ===============\n",
      "              precision    recall  f1-score   support\n",
      "\n",
      "           0       0.52      0.33      0.41      1051\n",
      "           1       0.87      0.93      0.90      4946\n",
      "\n",
      "    accuracy                           0.83      5997\n",
      "   macro avg       0.69      0.63      0.65      5997\n",
      "weighted avg       0.81      0.83      0.81      5997\n",
      "\n"
     ]
    }
   ],
   "source": [
    "#printing the accuracy of Naive Bayes with smote\n",
    "print_accuracy(mn_bayes_sm, X_res,y_res,X_test,y_test,model_name=\"Naive Bayes(including Smote)\")"
   ]
  },
  {
   "cell_type": "markdown",
   "metadata": {},
   "source": [
    "`Testing accuracy decreased but we can see improvement in f1-score after using smote`\n",
    "- good F1 score means that you have low false positives and low false negatives"
   ]
  },
  {
   "cell_type": "markdown",
   "metadata": {},
   "source": [
    "### XG Boost"
   ]
  },
  {
   "cell_type": "code",
   "execution_count": 214,
   "metadata": {
    "id": "TZXzKuaZGMKQ"
   },
   "outputs": [
    {
     "name": "stdout",
     "output_type": "stream",
     "text": [
      "[08:51:21] WARNING: C:/Users/Administrator/workspace/xgboost-win64_release_1.4.0/src/learner.cc:573: \n",
      "Parameters: { \"class_weight\" } might not be used.\n",
      "\n",
      "  This may not be accurate due to some parameters are only used in language bindings but\n",
      "  passed down to XGBoost core.  Or some parameters are not used but slip through this\n",
      "  verification. Please open an issue if you find above cases.\n",
      "\n",
      "\n",
      "[08:51:33] WARNING: C:/Users/Administrator/workspace/xgboost-win64_release_1.4.0/src/learner.cc:1095: Starting in XGBoost 1.3.0, the default evaluation metric used with the objective 'binary:logistic' was changed from 'error' to 'logloss'. Explicitly set eval_metric if you'd like to restore the old behavior.\n"
     ]
    },
    {
     "data": {
      "text/plain": [
       "XGBClassifier(base_score=0.5, booster='gbtree', class_weight='balanced',\n",
       "              colsample_bylevel=1, colsample_bynode=1, colsample_bytree=1,\n",
       "              gamma=0, gpu_id=-1, importance_type='gain',\n",
       "              interaction_constraints='', learning_rate=0.300000012,\n",
       "              max_delta_step=0, max_depth=6, min_child_weight=1, missing=nan,\n",
       "              monotone_constraints='()', n_estimators=100, n_jobs=8,\n",
       "              num_parallel_tree=1, objective='binary:logistic', random_state=42,\n",
       "              reg_alpha=0, reg_lambda=1, scale_pos_weight=1, subsample=1,\n",
       "              tree_method='exact', use_label_encoder=True,\n",
       "              validate_parameters=1, verbosity=None)"
      ]
     },
     "execution_count": 214,
     "metadata": {},
     "output_type": "execute_result"
    }
   ],
   "source": [
    "xgbc= XGBClassifier(random_state=42,class_weight='balanced')\n",
    "xgbc.fit(X_train,y_train)"
   ]
  },
  {
   "cell_type": "code",
   "execution_count": 215,
   "metadata": {
    "id": "x3zRKPwwuJdp"
   },
   "outputs": [
    {
     "name": "stdout",
     "output_type": "stream",
     "text": [
      "XGBoost Training set accuracy: 94.84 %\n",
      "XGBoost Testing set accuracy: 92.55 %\n",
      "============= Classification Report XGBoost ===============\n",
      "              precision    recall  f1-score   support\n",
      "\n",
      "           0       0.45      0.80      0.57       378\n",
      "           1       0.99      0.93      0.96      5619\n",
      "\n",
      "    accuracy                           0.93      5997\n",
      "   macro avg       0.72      0.87      0.77      5997\n",
      "weighted avg       0.95      0.93      0.93      5997\n",
      "\n"
     ]
    }
   ],
   "source": [
    "#printing the accuracy of XGBoost\n",
    "print_accuracy(xgbc, X_train,y_train,X_test,y_test,model_name=\"XGBoost\")"
   ]
  },
  {
   "cell_type": "code",
   "execution_count": null,
   "metadata": {},
   "outputs": [],
   "source": []
  },
  {
   "cell_type": "markdown",
   "metadata": {},
   "source": [
    "### Tuned XGBoost Model (Tuned)"
   ]
  },
  {
   "cell_type": "code",
   "execution_count": 253,
   "metadata": {
    "id": "b8abQS2_uJdp"
   },
   "outputs": [
    {
     "name": "stdout",
     "output_type": "stream",
     "text": [
      "[23:47:18] WARNING: C:/Users/Administrator/workspace/xgboost-win64_release_1.4.0/src/learner.cc:573: \n",
      "Parameters: { \"class_weight\" } might not be used.\n",
      "\n",
      "  This may not be accurate due to some parameters are only used in language bindings but\n",
      "  passed down to XGBoost core.  Or some parameters are not used but slip through this\n",
      "  verification. Please open an issue if you find above cases.\n",
      "\n",
      "\n",
      "[23:47:37] WARNING: C:/Users/Administrator/workspace/xgboost-win64_release_1.4.0/src/learner.cc:1095: Starting in XGBoost 1.3.0, the default evaluation metric used with the objective 'binary:logistic' was changed from 'error' to 'logloss'. Explicitly set eval_metric if you'd like to restore the old behavior.\n",
      "Elapsed time :  13.112074184417725  in minutes\n"
     ]
    }
   ],
   "source": [
    "#retraining with oversampled data\n",
    "start_time=time.time()\n",
    "xgbc_sm= XGBClassifier(random_state=42 ,max_depth=6,n_estimators=100,class_weight='balanced')\n",
    "xgbc_sm.fit(X_res,y_res)\n",
    "print('Elapsed time : ',((time.time()-start_time)/60),' in minutes')"
   ]
  },
  {
   "cell_type": "code",
   "execution_count": 254,
   "metadata": {
    "id": "44HbYvFMuJdp"
   },
   "outputs": [
    {
     "name": "stdout",
     "output_type": "stream",
     "text": [
      "XGBoost (With Smote) Training set accuracy: 95.04 %\n",
      "XGBoost (With Smote) Testing set accuracy: 88.11 %\n",
      "============= Classification Report XGBoost (With Smote) ===============\n",
      "              precision    recall  f1-score   support\n",
      "\n",
      "           0       0.71      0.48      0.57      1000\n",
      "           1       0.90      0.96      0.93      4997\n",
      "\n",
      "    accuracy                           0.88      5997\n",
      "   macro avg       0.81      0.72      0.75      5997\n",
      "weighted avg       0.87      0.88      0.87      5997\n",
      "\n"
     ]
    }
   ],
   "source": [
    "#printing the accuracy of XGBoost\n",
    "print_accuracy(xgbc_sm, X_res,y_res,X_test,y_test,model_name=\"XGBoost (With Smote)\")"
   ]
  },
  {
   "cell_type": "code",
   "execution_count": 255,
   "metadata": {},
   "outputs": [
    {
     "name": "stdout",
     "output_type": "stream",
     "text": [
      "[00:00:30] WARNING: C:/Users/Administrator/workspace/xgboost-win64_release_1.4.0/src/learner.cc:573: \n",
      "Parameters: { \"class_weight\" } might not be used.\n",
      "\n",
      "  This may not be accurate due to some parameters are only used in language bindings but\n",
      "  passed down to XGBoost core.  Or some parameters are not used but slip through this\n",
      "  verification. Please open an issue if you find above cases.\n",
      "\n",
      "\n",
      "[00:00:50] WARNING: C:/Users/Administrator/workspace/xgboost-win64_release_1.4.0/src/learner.cc:1095: Starting in XGBoost 1.3.0, the default evaluation metric used with the objective 'binary:logistic' was changed from 'error' to 'logloss'. Explicitly set eval_metric if you'd like to restore the old behavior.\n",
      "Elapsed time :  29.100897411505382  in minutes\n"
     ]
    }
   ],
   "source": [
    "#retraining with oversampled data\n",
    "start_time=time.time()\n",
    "xgbc_sm_2= XGBClassifier(random_state=42 ,max_depth=6,n_estimators=200,class_weight='balanced')\n",
    "xgbc_sm_2.fit(X_res,y_res)\n",
    "print('Elapsed time : ',((time.time()-start_time)/60),' in minutes')"
   ]
  },
  {
   "cell_type": "code",
   "execution_count": 256,
   "metadata": {},
   "outputs": [
    {
     "name": "stdout",
     "output_type": "stream",
     "text": [
      "XGBoost (With Smote) Training set accuracy: 97.07 %\n",
      "XGBoost (With Smote) Testing set accuracy: 89.98 %\n",
      "============= Classification Report XGBoost (With Smote) ===============\n",
      "              precision    recall  f1-score   support\n",
      "\n",
      "           0       0.70      0.54      0.61       864\n",
      "           1       0.93      0.96      0.94      5133\n",
      "\n",
      "    accuracy                           0.90      5997\n",
      "   macro avg       0.81      0.75      0.78      5997\n",
      "weighted avg       0.89      0.90      0.89      5997\n",
      "\n"
     ]
    }
   ],
   "source": [
    "#printing the accuracy of XGBoost\n",
    "print_accuracy(xgbc_sm_2, X_res,y_res,X_test,y_test,model_name=\"XGBoost (With Smote)\")"
   ]
  },
  {
   "cell_type": "markdown",
   "metadata": {},
   "source": [
    "### Logistic Regression"
   ]
  },
  {
   "cell_type": "code",
   "execution_count": 257,
   "metadata": {},
   "outputs": [
    {
     "name": "stdout",
     "output_type": "stream",
     "text": [
      "best parameter:{'C': 10} best score:0.9451882464452467\n",
      "Elapsed time :  27.246400634447735  in minutes\n"
     ]
    }
   ],
   "source": [
    "# GirdSearch\n",
    "logreg_grid = {'C':[.1, 1, 5, 10]}\n",
    "logreg = LogisticRegression(max_iter=1000)\n",
    "start_time=time.time()\n",
    "logreg = GridSearchCV(logreg, logreg_grid,scoring = \"accuracy\",cv = 5)\n",
    "logreg.fit(X_res, y_res)\n",
    "print('best parameter:{}'.format(logreg.best_params_),'best score:{}'.format(logreg.best_score_))\n",
    "print('Elapsed time : ',((time.time()-start_time)/60),' in minutes')"
   ]
  },
  {
   "cell_type": "code",
   "execution_count": 262,
   "metadata": {},
   "outputs": [
    {
     "name": "stdout",
     "output_type": "stream",
     "text": [
      "Elapsed time :  1.7781378825505574  in minutes\n",
      "LogisticRegression Training set accuracy: 97.07 %\n",
      "LogisticRegression Testing set accuracy: 92.41 %\n",
      "============= Classification Report LogisticRegression ===============\n",
      "              precision    recall  f1-score   support\n",
      "\n",
      "           0       0.51      0.73      0.60       462\n",
      "           1       0.98      0.94      0.96      5535\n",
      "\n",
      "    accuracy                           0.92      5997\n",
      "   macro avg       0.74      0.84      0.78      5997\n",
      "weighted avg       0.94      0.92      0.93      5997\n",
      "\n"
     ]
    }
   ],
   "source": [
    "# fit the data with best model ( without smote)\n",
    "logreg_withoutmote = LogisticRegression(random_state=42,C = 10,max_iter=1000)\n",
    "start_time=time.time()\n",
    "logreg_withoutmote.fit(X_train,y_train)\n",
    "print('Elapsed time : ',((time.time()-start_time)/60),' in minutes')\n",
    "#printing the accuracy of XGBoost\n",
    "print_accuracy(logreg_withoutmote, X_train,y_train,X_test,y_test,model_name=\"LogisticRegression\")"
   ]
  },
  {
   "cell_type": "code",
   "execution_count": 259,
   "metadata": {},
   "outputs": [
    {
     "name": "stdout",
     "output_type": "stream",
     "text": [
      "Elapsed time :  2.6254917780558267  in minutes\n",
      "LogisticRegression Training set accuracy: 97.51 %\n",
      "LogisticRegression Testing set accuracy: 89.36 %\n",
      "============= Classification Report LogisticRegression ===============\n",
      "              precision    recall  f1-score   support\n",
      "\n",
      "           0       0.74      0.52      0.61       965\n",
      "           1       0.91      0.97      0.94      5032\n",
      "\n",
      "    accuracy                           0.89      5997\n",
      "   macro avg       0.83      0.74      0.77      5997\n",
      "weighted avg       0.89      0.89      0.89      5997\n",
      "\n"
     ]
    }
   ],
   "source": [
    "# fit the data with best model ( with smote)\n",
    "logreg = LogisticRegression(C = 10,max_iter=1000)\n",
    "start_time=time.time()\n",
    "logreg.fit(X_res, y_res)\n",
    "print('Elapsed time : ',((time.time()-start_time)/60),' in minutes')\n",
    "#printing the accuracy of LogisticRegression\n",
    "print_accuracy(logreg, X_res,y_res,X_test,y_test,model_name=\"LogisticRegression\")"
   ]
  },
  {
   "cell_type": "markdown",
   "metadata": {},
   "source": [
    "`Accuracy and F1-Score is significantly improved with Logistic Regression`"
   ]
  },
  {
   "cell_type": "markdown",
   "metadata": {},
   "source": [
    "### Random forest"
   ]
  },
  {
   "cell_type": "code",
   "execution_count": 51,
   "metadata": {},
   "outputs": [
    {
     "name": "stdout",
     "output_type": "stream",
     "text": [
      "Elapsed time :  4.490611350536346  in minutes\n",
      "Random Forest Training set accuracy: 99.94 %\n",
      "Random Forest Testing set accuracy: 91.76 %\n",
      "============= Classification Report Random Forest ===============\n",
      "              precision    recall  f1-score   support\n",
      "\n",
      "           0       0.30      0.88      0.45       231\n",
      "           1       0.99      0.92      0.96      5766\n",
      "\n",
      "    accuracy                           0.92      5997\n",
      "   macro avg       0.65      0.90      0.70      5997\n",
      "weighted avg       0.97      0.92      0.94      5997\n",
      "\n"
     ]
    }
   ],
   "source": [
    "\n",
    "rfc_withoutSmote=RandomForestClassifier(random_state=42,class_weight='balanced')\n",
    "start_time=time.time()\n",
    "rfc_withoutSmote.fit(X_train,y_train)\n",
    "print('Elapsed time : ',((time.time()-start_time)/60),' in minutes')\n",
    "#printing the accuracy of RF\n",
    "print_accuracy(rfc_withoutSmote, X_train,y_train,X_test,y_test,model_name=\"Random Forest\")"
   ]
  },
  {
   "cell_type": "code",
   "execution_count": 59,
   "metadata": {},
   "outputs": [
    {
     "name": "stdout",
     "output_type": "stream",
     "text": [
      "Elapsed time :  8.166866870721181  in minutes\n",
      "Random Forest with smote Training set accuracy: 99.74 %\n",
      "Random Forest with smote Testing set accuracy: 90.35 %\n",
      "============= Classification Report Random Forest with smote ===============\n",
      "              precision    recall  f1-score   support\n",
      "\n",
      "           0       0.42      0.60      0.49       468\n",
      "           1       0.96      0.93      0.95      5529\n",
      "\n",
      "    accuracy                           0.90      5997\n",
      "   macro avg       0.69      0.76      0.72      5997\n",
      "weighted avg       0.92      0.90      0.91      5997\n",
      "\n"
     ]
    }
   ],
   "source": [
    "\n",
    "rfc_withSmote=RandomForestClassifier(random_state=42,class_weight='balanced')\n",
    "start_time=time.time()\n",
    "rfc_withSmote.fit(X_res,y_res)\n",
    "print('Elapsed time : ',((time.time()-start_time)/60),' in minutes')\n",
    "#printing the accuracy of RF\n",
    "print_accuracy(rfc_withSmote, X_res,y_res,X_test,y_test,model_name=\"Random Forest with smote\")"
   ]
  },
  {
   "cell_type": "markdown",
   "metadata": {},
   "source": [
    "## Model Finding and Summary\n",
    "`And looks like winner is XG Boost ( without Smote but class weight balanced) with 94.94 , 92.58 train ,test accuracy and 0.58,0.96 F-1 score for class 0 &1`"
   ]
  },
  {
   "cell_type": "markdown",
   "metadata": {},
   "source": [
    "| Sno | Model               | Smote Applied | Train Accuracy | Test Accuracy | F-1 Score class-0 | F-1 Score class-1 |\n",
    "| --- | ------------------- | ------------- | -------------- | ------------- | ----------------- | ----------------- |\n",
    "| 1   | Naïve Bayes         | No            | 88.84           | 88.74          | 0.00              | 0.94              |\n",
    "| 2   | Naïve Bayes         | Yes           | 90.91          | 82.81          | 0.40              | 0.90              |\n",
    "| 3   | **XG Boost**            | No            | 94.94           | 92.58         | 0.58              | 0.96              |\n",
    "| 4   | XG Boost            | Yes           | 97.07          | 90         | 0.61              | 0.94              |\n",
    "| 5   | Logistic Regression | No            |  97.07         | 92.41            | 0.60              | 0.96              |\n",
    "| 6   | Logistic Regression | Yes           | 97.51          | 89.36         | 0.61              | 0.94              |"
   ]
  },
  {
   "cell_type": "markdown",
   "metadata": {},
   "source": [
    "# Save the Model\n"
   ]
  },
  {
   "cell_type": "code",
   "execution_count": 216,
   "metadata": {},
   "outputs": [
    {
     "name": "stdout",
     "output_type": "stream",
     "text": [
      "Model saved Successfully!\n"
     ]
    }
   ],
   "source": [
    "import pickle\n",
    "file_name = \"xgb_reg.pkl\"\n",
    "\n",
    "try:\n",
    "    # save\n",
    "    pickle.dump(xgbc, open(file_name, \"wb\"))\n",
    "    print(\"Model saved Successfully!\")\n",
    "except exception as e:\n",
    "    print(\"There is some error in saving the mode\",e)"
   ]
  },
  {
   "cell_type": "code",
   "execution_count": 157,
   "metadata": {},
   "outputs": [
    {
     "name": "stdout",
     "output_type": "stream",
     "text": [
      "tfidf vectorizer saved Successfully!\n"
     ]
    }
   ],
   "source": [
    "# Save Vectorizer so that can be used later while recommending\n",
    "tfidf_vect\n",
    "file_name = \"tfidf_vect.pkl\"\n",
    "\n",
    "try:\n",
    "    # save\n",
    "    pickle.dump(vect, open(file_name, \"wb\"))\n",
    "    print(\"tfidf vectorizer saved Successfully!\")\n",
    "except exception as e:\n",
    "    print(\"There is some error in saving the tfidf vectorizer\",e)"
   ]
  },
  {
   "cell_type": "code",
   "execution_count": null,
   "metadata": {},
   "outputs": [],
   "source": []
  }
 ],
 "metadata": {
  "colab": {
   "name": "Sentiment_Analysis_AmazonReviews.ipynb",
   "provenance": []
  },
  "kernelspec": {
   "display_name": "Python 3",
   "language": "python",
   "name": "python3"
  },
  "language_info": {
   "codemirror_mode": {
    "name": "ipython",
    "version": 3
   },
   "file_extension": ".py",
   "mimetype": "text/x-python",
   "name": "python",
   "nbconvert_exporter": "python",
   "pygments_lexer": "ipython3",
   "version": "3.7.4"
  }
 },
 "nbformat": 4,
 "nbformat_minor": 1
}
